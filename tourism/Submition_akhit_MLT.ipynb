{
  "nbformat": 4,
  "nbformat_minor": 0,
  "metadata": {
    "colab": {
      "name": "Submition akhit MLT.ipynb",
      "provenance": [],
      "collapsed_sections": [
        "m8vgurYV4OTu",
        "j3xwqXqPJj9x",
        "_JGYp_iXJnSs",
        "T_naaboP2eRk"
      ]
    },
    "kernelspec": {
      "name": "python3",
      "display_name": "Python 3"
    },
    "language_info": {
      "name": "python"
    }
  },
  "cells": [
    {
      "cell_type": "markdown",
      "metadata": {
        "id": "_pF0ETQa12z_"
      },
      "source": [
        "#Sistem Rekomendasi mencari lokasi wisata di Indonesia\n",
        "\n",
        "Sistem digunakan untuk meberikan rekomendasi nama destinasi lokasi wisata berdasarkan cotent bases filtering (yang digunakan adalah nama lokasi yang di filter berdasarkan kesamaan lokasi/kota)"
      ]
    },
    {
      "cell_type": "markdown",
      "metadata": {
        "id": "RC3p6Lea12uY"
      },
      "source": [
        "## Data Source\n",
        "Data diambil dari kaggle, terdapat 4 file di dalam file zip\n",
        "\n",
        "[Source data Indonesia Tourism Destination](https://www.kaggle.com/aprabowo/indonesia-tourism-destination)"
      ]
    },
    {
      "cell_type": "markdown",
      "metadata": {
        "id": "dkGz6WVz2lp2"
      },
      "source": [
        "Import semua Library yang akan digunakan, import dilakukan pada proses awal karena untuk mempermudah proses pengerjaan."
      ]
    },
    {
      "cell_type": "code",
      "metadata": {
        "id": "x-fAYuyR8r9E",
        "colab": {
          "base_uri": "https://localhost:8080/"
        },
        "outputId": "5f6670ec-2573-407d-c015-9e7a7cec8eae"
      },
      "source": [
        "!pip install kaggle\n",
        "\n",
        "import numpy as np\n",
        "import pandas as pd\n",
        "import seaborn as sns\n",
        "import tensorflow as tf\n",
        "import matplotlib.pyplot as plt\n",
        "\n",
        "from pathlib import Path\n",
        "from google.colab import files\n",
        "from tensorflow.keras import Model\n",
        "from tensorflow.keras.optimizers import Adam\n",
        "from tensorflow.keras.layers import Embedding\n",
        "from sklearn.metrics import mean_absolute_error\n",
        "from sklearn.model_selection import train_test_split\n",
        "from sklearn.metrics.pairwise import cosine_similarity\n",
        "from sklearn.feature_extraction.text import TfidfVectorizer"
      ],
      "execution_count": 2,
      "outputs": [
        {
          "output_type": "stream",
          "name": "stdout",
          "text": [
            "Requirement already satisfied: kaggle in /usr/local/lib/python3.7/dist-packages (1.5.12)\n",
            "Requirement already satisfied: python-slugify in /usr/local/lib/python3.7/dist-packages (from kaggle) (5.0.2)\n",
            "Requirement already satisfied: tqdm in /usr/local/lib/python3.7/dist-packages (from kaggle) (4.62.3)\n",
            "Requirement already satisfied: six>=1.10 in /usr/local/lib/python3.7/dist-packages (from kaggle) (1.15.0)\n",
            "Requirement already satisfied: python-dateutil in /usr/local/lib/python3.7/dist-packages (from kaggle) (2.8.2)\n",
            "Requirement already satisfied: requests in /usr/local/lib/python3.7/dist-packages (from kaggle) (2.23.0)\n",
            "Requirement already satisfied: certifi in /usr/local/lib/python3.7/dist-packages (from kaggle) (2021.5.30)\n",
            "Requirement already satisfied: urllib3 in /usr/local/lib/python3.7/dist-packages (from kaggle) (1.24.3)\n",
            "Requirement already satisfied: text-unidecode>=1.3 in /usr/local/lib/python3.7/dist-packages (from python-slugify->kaggle) (1.3)\n",
            "Requirement already satisfied: idna<3,>=2.5 in /usr/local/lib/python3.7/dist-packages (from requests->kaggle) (2.10)\n",
            "Requirement already satisfied: chardet<4,>=3.0.2 in /usr/local/lib/python3.7/dist-packages (from requests->kaggle) (3.0.4)\n"
          ]
        }
      ]
    },
    {
      "cell_type": "markdown",
      "metadata": {
        "id": "ZPnqbkOW12pN"
      },
      "source": [
        "Karena Data diambil dari kaggle, untuk mempermudah proses load data bisa menggunakan library kaggle.\n",
        "\n",
        "Install kaggle, lalu upload file key token yang telah di *generate*  dari account yang dimiliki. Lalu membuat direktory baru bernama kaggle, pindah data kaggle.json yang sudah kita upload, arahkan ke folder kaggle yang sudah dibuat sebelumnya, lalu atur *permission access* supaya owner/user, grup, other bisa untuk *read, write and execution* terhadap data kaggle.json dengan menggunakan ```chmood 600```"
      ]
    },
    {
      "cell_type": "code",
      "metadata": {
        "colab": {
          "resources": {
            "http://localhost:8080/nbextensions/google.colab/files.js": {
              "data": "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",
              "ok": true,
              "headers": [
                [
                  "content-type",
                  "application/javascript"
                ]
              ],
              "status": 200,
              "status_text": ""
            }
          },
          "base_uri": "https://localhost:8080/",
          "height": 89
        },
        "id": "RwtoBO-l2jXy",
        "outputId": "5c4e9b52-6374-4a0b-b5c4-40a245f5a333"
      },
      "source": [
        "upload = files.upload()\n",
        "for k in upload.keys():\n",
        "  print(k)\n",
        "\n",
        "!mkdir -p ~/.kaggle/ && mv kaggle.json ~/.kaggle/ && chmod 600 ~/.kaggle/kaggle.json"
      ],
      "execution_count": 3,
      "outputs": [
        {
          "output_type": "display_data",
          "data": {
            "text/html": [
              "\n",
              "     <input type=\"file\" id=\"files-416d0c50-9069-4d8f-b335-65d834bfc514\" name=\"files[]\" multiple disabled\n",
              "        style=\"border:none\" />\n",
              "     <output id=\"result-416d0c50-9069-4d8f-b335-65d834bfc514\">\n",
              "      Upload widget is only available when the cell has been executed in the\n",
              "      current browser session. Please rerun this cell to enable.\n",
              "      </output>\n",
              "      <script src=\"/nbextensions/google.colab/files.js\"></script> "
            ],
            "text/plain": [
              "<IPython.core.display.HTML object>"
            ]
          },
          "metadata": {}
        },
        {
          "output_type": "stream",
          "name": "stdout",
          "text": [
            "Saving kaggle.json to kaggle.json\n",
            "kaggle.json\n"
          ]
        }
      ]
    },
    {
      "cell_type": "markdown",
      "metadata": {
        "id": "9J6ioj4z2RcN"
      },
      "source": [
        "## Data Loading\n",
        "\n",
        "Download dataset Indonesia torism destination dengan menggunakan API kaggle file akan disimpan dalam ```/content/```"
      ]
    },
    {
      "cell_type": "code",
      "metadata": {
        "id": "YIzYz-4M2RGD",
        "colab": {
          "base_uri": "https://localhost:8080/"
        },
        "outputId": "cf47bb11-c03e-42c5-abcc-b075b5fa6d53"
      },
      "source": [
        "!kaggle datasets download -d aprabowo/indonesia-tourism-destination"
      ],
      "execution_count": 4,
      "outputs": [
        {
          "output_type": "stream",
          "name": "stdout",
          "text": [
            "Downloading indonesia-tourism-destination.zip to /content\n",
            "\r  0% 0.00/158k [00:00<?, ?B/s]\n",
            "\r100% 158k/158k [00:00<00:00, 61.2MB/s]\n"
          ]
        }
      ]
    },
    {
      "cell_type": "markdown",
      "metadata": {
        "id": "P6bq-NWu35si"
      },
      "source": [
        "### Unzip File zip"
      ]
    },
    {
      "cell_type": "markdown",
      "metadata": {
        "id": "igRfKZhw2dPV"
      },
      "source": [
        "Setelah data di download, ternyata data berbentuk file zip, yang didalamnya terdapat 4 file csv yaitu:\n",
        "1. tourism_ with_id.csv : file ini berisi informasi lokasi wisata dari 5 kota di Indonesia \n",
        "2. user.csv : file ini berisi mengenai data pengguna (data dummy)\n",
        "3. tourism_rating.csv : file ini berisi mengenai data rating dari bebrapa tempat lokasi wissata yang diberikan oleh user \n",
        "4. package_tourism.csv : file ini berisi package lokasi wisata\n",
        "\n",
        "Buat satu directory yang berfungsi untuk menampung data dari indonesia-tourism-destination.zip dengan menggunakan \n",
        "\n",
        "```!mkdir name_directory```\n",
        "\n",
        "untuk ektract data zip bisa menggunakan script \n",
        "\n",
        "\n",
        "\n",
        "```\n",
        "!unzip -q indonesia-tourism-destination.zip\n",
        "```\n",
        "kenapa terdapat -q didalam script ```!unzip``` dikarenakan untuk menyembunyikan comment yang muncul\n"
      ]
    },
    {
      "cell_type": "code",
      "metadata": {
        "id": "ey4jHWIK2eSL"
      },
      "source": [
        "!mkdir -p /content/destination_tourism\n",
        "!unzip -q indonesia-tourism-destination.zip -d /content/destination_tourism"
      ],
      "execution_count": 5,
      "outputs": []
    },
    {
      "cell_type": "markdown",
      "metadata": {
        "id": "ZOrLpjOD3pNm"
      },
      "source": [
        "### Load Data\n",
        "Load data masing-masing file kedalam variable yang mengambarkan nama dari file tersebut, data di load dengan menggunakan library **Pandas**\n",
        "\n",
        "Kemudian cek berapa jumlah masing-masing data dalam varible tersebut dengan menggunkan fungsi ```len()```"
      ]
    },
    {
      "cell_type": "code",
      "metadata": {
        "id": "xxXheq6a2Z8J",
        "colab": {
          "base_uri": "https://localhost:8080/"
        },
        "outputId": "6073dcbd-b8a1-4f4c-a4c0-50048fd24d38"
      },
      "source": [
        "package_tourism = pd.read_csv('/content/destination_tourism/package_tourism.csv')\n",
        "tourism_rating = pd.read_csv('/content/destination_tourism/tourism_rating.csv')\n",
        "tourism_user = pd.read_csv('/content/destination_tourism/user.csv')\n",
        "tourism_info = pd.read_csv('/content/destination_tourism/tourism_with_id.csv')\n",
        "\n",
        "print(f'Jumlah data package tourism : {len(package_tourism)}')\n",
        "print(f'Jumlah data tourism rating: {len(tourism_rating)}')\n",
        "print(f'Jumlah user: {len(tourism_user)}')\n",
        "print(f'jumlah information tourism: {len(tourism_info)}')"
      ],
      "execution_count": 6,
      "outputs": [
        {
          "output_type": "stream",
          "name": "stdout",
          "text": [
            "Jumlah data package tourism : 100\n",
            "Jumlah data tourism rating: 10000\n",
            "Jumlah user: 300\n",
            "jumlah information tourism: 437\n"
          ]
        }
      ]
    },
    {
      "cell_type": "markdown",
      "metadata": {
        "id": "wwD7GDdq4GPi"
      },
      "source": [
        "Setelah data csv di baca dan di letakkan pada variable diketahui bahwa data package tourism berjumlah 100 data rating berjumlah 10.000 jumlah user 300 dan jumlah tempat wisata 437"
      ]
    },
    {
      "cell_type": "markdown",
      "metadata": {
        "id": "UqToEq5g4Gs3"
      },
      "source": [
        "## Exploratory Data Unvariate"
      ]
    },
    {
      "cell_type": "markdown",
      "metadata": {
        "id": "m8vgurYV4OTu"
      },
      "source": [
        "Setelah setiap file csv di deklarasikan ke dalam sebuah variable maka data per variable akan di analisis untuk mengetahui apa jenis data yang ada.\n",
        "\n",
        "### Explorasi package tourism\n"
      ]
    },
    {
      "cell_type": "code",
      "metadata": {
        "id": "rOC9-bZm2Ztf",
        "colab": {
          "base_uri": "https://localhost:8080/",
          "height": 0
        },
        "outputId": "22ec521b-14db-4938-af79-d05ecc4593e2"
      },
      "source": [
        "package_tourism"
      ],
      "execution_count": 7,
      "outputs": [
        {
          "output_type": "execute_result",
          "data": {
            "text/html": [
              "<div>\n",
              "<style scoped>\n",
              "    .dataframe tbody tr th:only-of-type {\n",
              "        vertical-align: middle;\n",
              "    }\n",
              "\n",
              "    .dataframe tbody tr th {\n",
              "        vertical-align: top;\n",
              "    }\n",
              "\n",
              "    .dataframe thead th {\n",
              "        text-align: right;\n",
              "    }\n",
              "</style>\n",
              "<table border=\"1\" class=\"dataframe\">\n",
              "  <thead>\n",
              "    <tr style=\"text-align: right;\">\n",
              "      <th></th>\n",
              "      <th>Package</th>\n",
              "      <th>City</th>\n",
              "      <th>Place_Tourism1</th>\n",
              "      <th>Place_Tourism2</th>\n",
              "      <th>Place_Tourism3</th>\n",
              "      <th>Place_Tourism4</th>\n",
              "      <th>Place_Tourism5</th>\n",
              "    </tr>\n",
              "  </thead>\n",
              "  <tbody>\n",
              "    <tr>\n",
              "      <th>0</th>\n",
              "      <td>1</td>\n",
              "      <td>Jakarta</td>\n",
              "      <td>Pasar Tanah Abang</td>\n",
              "      <td>Taman Ayodya</td>\n",
              "      <td>Museum Tekstil</td>\n",
              "      <td>NaN</td>\n",
              "      <td>NaN</td>\n",
              "    </tr>\n",
              "    <tr>\n",
              "      <th>1</th>\n",
              "      <td>2</td>\n",
              "      <td>Jakarta</td>\n",
              "      <td>Pasar Tanah Abang</td>\n",
              "      <td>Pasar Taman Puring</td>\n",
              "      <td>Pasar Petak Sembilan</td>\n",
              "      <td>NaN</td>\n",
              "      <td>NaN</td>\n",
              "    </tr>\n",
              "    <tr>\n",
              "      <th>2</th>\n",
              "      <td>3</td>\n",
              "      <td>Jakarta</td>\n",
              "      <td>Perpustakaan Nasional</td>\n",
              "      <td>Monas</td>\n",
              "      <td>Masjid Istiqlal</td>\n",
              "      <td>NaN</td>\n",
              "      <td>NaN</td>\n",
              "    </tr>\n",
              "    <tr>\n",
              "      <th>3</th>\n",
              "      <td>4</td>\n",
              "      <td>Jakarta</td>\n",
              "      <td>Pulau Tidung</td>\n",
              "      <td>Pulau Bidadari</td>\n",
              "      <td>Pulau Pari</td>\n",
              "      <td>Pulau Pramuka</td>\n",
              "      <td>Pulau Pelangi</td>\n",
              "    </tr>\n",
              "    <tr>\n",
              "      <th>4</th>\n",
              "      <td>5</td>\n",
              "      <td>Jakarta</td>\n",
              "      <td>Museum Satria Mandala</td>\n",
              "      <td>Museum Wayang</td>\n",
              "      <td>Museum Bahari Jakarta</td>\n",
              "      <td>Museum Macan (Modern and Contemporary Art in N...</td>\n",
              "      <td>NaN</td>\n",
              "    </tr>\n",
              "    <tr>\n",
              "      <th>...</th>\n",
              "      <td>...</td>\n",
              "      <td>...</td>\n",
              "      <td>...</td>\n",
              "      <td>...</td>\n",
              "      <td>...</td>\n",
              "      <td>...</td>\n",
              "      <td>...</td>\n",
              "    </tr>\n",
              "    <tr>\n",
              "      <th>95</th>\n",
              "      <td>96</td>\n",
              "      <td>Surabaya</td>\n",
              "      <td>Ekowisata Mangrove Wonorejo</td>\n",
              "      <td>Taman Harmoni Keputih</td>\n",
              "      <td>Taman Kunang-Kunang</td>\n",
              "      <td>Taman Ekspresi Dan Perpustakaan</td>\n",
              "      <td>Museum De Javasche Bank</td>\n",
              "    </tr>\n",
              "    <tr>\n",
              "      <th>96</th>\n",
              "      <td>97</td>\n",
              "      <td>Surabaya</td>\n",
              "      <td>Ciputra Waterpark</td>\n",
              "      <td>Kenjeran Park</td>\n",
              "      <td>Kebun Binatang Surabaya</td>\n",
              "      <td>Food Junction Grand Pakuwon</td>\n",
              "      <td>| Atlantis Land Surabaya</td>\n",
              "    </tr>\n",
              "    <tr>\n",
              "      <th>97</th>\n",
              "      <td>98</td>\n",
              "      <td>Surabaya</td>\n",
              "      <td>Museum Kesehatan Dr. Adhyatma</td>\n",
              "      <td>Patung Buddha Empat Rupa</td>\n",
              "      <td>Taman Hiburan Rakyat</td>\n",
              "      <td>Taman Bungkul</td>\n",
              "      <td>Taman Flora Bratang Surabaya</td>\n",
              "    </tr>\n",
              "    <tr>\n",
              "      <th>98</th>\n",
              "      <td>99</td>\n",
              "      <td>Surabaya</td>\n",
              "      <td>Taman Ekspresi Dan Perpustakaan</td>\n",
              "      <td>Museum De Javasche Bank</td>\n",
              "      <td>Surabaya Museum (Gedung Siola)</td>\n",
              "      <td>Museum Mpu Tantular</td>\n",
              "      <td>Taman Air Mancur Menari Kenjeran</td>\n",
              "    </tr>\n",
              "    <tr>\n",
              "      <th>99</th>\n",
              "      <td>100</td>\n",
              "      <td>Surabaya</td>\n",
              "      <td>Taman Buah Surabaya</td>\n",
              "      <td>Hutan Bambu Keputih</td>\n",
              "      <td>Taman Barunawati</td>\n",
              "      <td>Kebun Bibit Wonorejo</td>\n",
              "      <td>Taman Mundu</td>\n",
              "    </tr>\n",
              "  </tbody>\n",
              "</table>\n",
              "<p>100 rows × 7 columns</p>\n",
              "</div>"
            ],
            "text/plain": [
              "    Package  ...                    Place_Tourism5\n",
              "0         1  ...                               NaN\n",
              "1         2  ...                               NaN\n",
              "2         3  ...                               NaN\n",
              "3         4  ...                     Pulau Pelangi\n",
              "4         5  ...                               NaN\n",
              "..      ...  ...                               ...\n",
              "95       96  ...           Museum De Javasche Bank\n",
              "96       97  ...          | Atlantis Land Surabaya\n",
              "97       98  ...      Taman Flora Bratang Surabaya\n",
              "98       99  ...  Taman Air Mancur Menari Kenjeran\n",
              "99      100  ...                       Taman Mundu\n",
              "\n",
              "[100 rows x 7 columns]"
            ]
          },
          "metadata": {},
          "execution_count": 7
        }
      ]
    },
    {
      "cell_type": "code",
      "metadata": {
        "colab": {
          "base_uri": "https://localhost:8080/"
        },
        "id": "Xb2dkyf8BuQG",
        "outputId": "b97bec51-a5a8-4d0b-c8a4-24a8049b443a"
      },
      "source": [
        "package_tourism.info()"
      ],
      "execution_count": 8,
      "outputs": [
        {
          "output_type": "stream",
          "name": "stdout",
          "text": [
            "<class 'pandas.core.frame.DataFrame'>\n",
            "RangeIndex: 100 entries, 0 to 99\n",
            "Data columns (total 7 columns):\n",
            " #   Column          Non-Null Count  Dtype \n",
            "---  ------          --------------  ----- \n",
            " 0   Package         100 non-null    int64 \n",
            " 1   City            100 non-null    object\n",
            " 2   Place_Tourism1  100 non-null    object\n",
            " 3   Place_Tourism2  100 non-null    object\n",
            " 4   Place_Tourism3  100 non-null    object\n",
            " 5   Place_Tourism4  66 non-null     object\n",
            " 6   Place_Tourism5  39 non-null     object\n",
            "dtypes: int64(1), object(6)\n",
            "memory usage: 5.6+ KB\n"
          ]
        }
      ]
    },
    {
      "cell_type": "markdown",
      "metadata": {
        "id": "EpsG5krqGAf0"
      },
      "source": [
        "Data package tourism berisi 7 kolom dengan 100 baris, variable kolom (Package, city, place_tourism1, place_tourism2, place_tourism3, place_tourism4) dengan package memiliki type data integer sedangan untuk 5 variable kolom lainnya bertype string/object"
      ]
    },
    {
      "cell_type": "markdown",
      "metadata": {
        "id": "wRdI7PVu3YVB"
      },
      "source": [
        "### Ekplorasi data *Tourism Ratings*"
      ]
    },
    {
      "cell_type": "code",
      "metadata": {
        "id": "kO6yRvvq4Og2",
        "colab": {
          "base_uri": "https://localhost:8080/",
          "height": 419
        },
        "outputId": "65748c72-372e-414a-d847-5b15fb125b22"
      },
      "source": [
        "tourism_rating"
      ],
      "execution_count": 9,
      "outputs": [
        {
          "output_type": "execute_result",
          "data": {
            "text/html": [
              "<div>\n",
              "<style scoped>\n",
              "    .dataframe tbody tr th:only-of-type {\n",
              "        vertical-align: middle;\n",
              "    }\n",
              "\n",
              "    .dataframe tbody tr th {\n",
              "        vertical-align: top;\n",
              "    }\n",
              "\n",
              "    .dataframe thead th {\n",
              "        text-align: right;\n",
              "    }\n",
              "</style>\n",
              "<table border=\"1\" class=\"dataframe\">\n",
              "  <thead>\n",
              "    <tr style=\"text-align: right;\">\n",
              "      <th></th>\n",
              "      <th>User_Id</th>\n",
              "      <th>Place_Id</th>\n",
              "      <th>Place_Ratings</th>\n",
              "    </tr>\n",
              "  </thead>\n",
              "  <tbody>\n",
              "    <tr>\n",
              "      <th>0</th>\n",
              "      <td>1</td>\n",
              "      <td>179</td>\n",
              "      <td>3</td>\n",
              "    </tr>\n",
              "    <tr>\n",
              "      <th>1</th>\n",
              "      <td>1</td>\n",
              "      <td>344</td>\n",
              "      <td>2</td>\n",
              "    </tr>\n",
              "    <tr>\n",
              "      <th>2</th>\n",
              "      <td>1</td>\n",
              "      <td>5</td>\n",
              "      <td>5</td>\n",
              "    </tr>\n",
              "    <tr>\n",
              "      <th>3</th>\n",
              "      <td>1</td>\n",
              "      <td>373</td>\n",
              "      <td>3</td>\n",
              "    </tr>\n",
              "    <tr>\n",
              "      <th>4</th>\n",
              "      <td>1</td>\n",
              "      <td>101</td>\n",
              "      <td>4</td>\n",
              "    </tr>\n",
              "    <tr>\n",
              "      <th>...</th>\n",
              "      <td>...</td>\n",
              "      <td>...</td>\n",
              "      <td>...</td>\n",
              "    </tr>\n",
              "    <tr>\n",
              "      <th>9995</th>\n",
              "      <td>300</td>\n",
              "      <td>425</td>\n",
              "      <td>2</td>\n",
              "    </tr>\n",
              "    <tr>\n",
              "      <th>9996</th>\n",
              "      <td>300</td>\n",
              "      <td>64</td>\n",
              "      <td>4</td>\n",
              "    </tr>\n",
              "    <tr>\n",
              "      <th>9997</th>\n",
              "      <td>300</td>\n",
              "      <td>311</td>\n",
              "      <td>3</td>\n",
              "    </tr>\n",
              "    <tr>\n",
              "      <th>9998</th>\n",
              "      <td>300</td>\n",
              "      <td>279</td>\n",
              "      <td>4</td>\n",
              "    </tr>\n",
              "    <tr>\n",
              "      <th>9999</th>\n",
              "      <td>300</td>\n",
              "      <td>163</td>\n",
              "      <td>2</td>\n",
              "    </tr>\n",
              "  </tbody>\n",
              "</table>\n",
              "<p>10000 rows × 3 columns</p>\n",
              "</div>"
            ],
            "text/plain": [
              "      User_Id  Place_Id  Place_Ratings\n",
              "0           1       179              3\n",
              "1           1       344              2\n",
              "2           1         5              5\n",
              "3           1       373              3\n",
              "4           1       101              4\n",
              "...       ...       ...            ...\n",
              "9995      300       425              2\n",
              "9996      300        64              4\n",
              "9997      300       311              3\n",
              "9998      300       279              4\n",
              "9999      300       163              2\n",
              "\n",
              "[10000 rows x 3 columns]"
            ]
          },
          "metadata": {},
          "execution_count": 9
        }
      ]
    },
    {
      "cell_type": "code",
      "metadata": {
        "colab": {
          "base_uri": "https://localhost:8080/"
        },
        "id": "4i0kJAnSB69I",
        "outputId": "38ee8234-6d1f-43e2-a3fd-668c1cb9f945"
      },
      "source": [
        "tourism_rating.info()"
      ],
      "execution_count": 10,
      "outputs": [
        {
          "output_type": "stream",
          "name": "stdout",
          "text": [
            "<class 'pandas.core.frame.DataFrame'>\n",
            "RangeIndex: 10000 entries, 0 to 9999\n",
            "Data columns (total 3 columns):\n",
            " #   Column         Non-Null Count  Dtype\n",
            "---  ------         --------------  -----\n",
            " 0   User_Id        10000 non-null  int64\n",
            " 1   Place_Id       10000 non-null  int64\n",
            " 2   Place_Ratings  10000 non-null  int64\n",
            "dtypes: int64(3)\n",
            "memory usage: 234.5 KB\n"
          ]
        }
      ]
    },
    {
      "cell_type": "markdown",
      "metadata": {
        "id": "MIW72nzNBya0"
      },
      "source": [
        "Pada data rating memiliki 3 kolom (User Id, place Id, place Ratting) dengan type data integer\n",
        "* user id = untuk id user\n",
        "* place id = untuk id dari tempat/lokasi wisata\n",
        "* Place rating = untuk rating setiap lokasi yang diberikan user\n",
        "\n",
        "lalu untuk mengetahui berapa nilai dari min-max rating maka diperlukan deskripsi statistika digunakan fungsi ```data.describe()```"
      ]
    },
    {
      "cell_type": "code",
      "metadata": {
        "colab": {
          "base_uri": "https://localhost:8080/",
          "height": 142
        },
        "id": "I80hxIN5B8rr",
        "outputId": "4d56b9e8-dc3a-4be9-87e3-ea9b86e22a2c"
      },
      "source": [
        "tourism_rating.describe().T"
      ],
      "execution_count": 11,
      "outputs": [
        {
          "output_type": "execute_result",
          "data": {
            "text/html": [
              "<div>\n",
              "<style scoped>\n",
              "    .dataframe tbody tr th:only-of-type {\n",
              "        vertical-align: middle;\n",
              "    }\n",
              "\n",
              "    .dataframe tbody tr th {\n",
              "        vertical-align: top;\n",
              "    }\n",
              "\n",
              "    .dataframe thead th {\n",
              "        text-align: right;\n",
              "    }\n",
              "</style>\n",
              "<table border=\"1\" class=\"dataframe\">\n",
              "  <thead>\n",
              "    <tr style=\"text-align: right;\">\n",
              "      <th></th>\n",
              "      <th>count</th>\n",
              "      <th>mean</th>\n",
              "      <th>std</th>\n",
              "      <th>min</th>\n",
              "      <th>25%</th>\n",
              "      <th>50%</th>\n",
              "      <th>75%</th>\n",
              "      <th>max</th>\n",
              "    </tr>\n",
              "  </thead>\n",
              "  <tbody>\n",
              "    <tr>\n",
              "      <th>User_Id</th>\n",
              "      <td>10000.0</td>\n",
              "      <td>151.2927</td>\n",
              "      <td>86.137374</td>\n",
              "      <td>1.0</td>\n",
              "      <td>77.00</td>\n",
              "      <td>151.0</td>\n",
              "      <td>226.0</td>\n",
              "      <td>300.0</td>\n",
              "    </tr>\n",
              "    <tr>\n",
              "      <th>Place_Id</th>\n",
              "      <td>10000.0</td>\n",
              "      <td>219.4164</td>\n",
              "      <td>126.228335</td>\n",
              "      <td>1.0</td>\n",
              "      <td>108.75</td>\n",
              "      <td>220.0</td>\n",
              "      <td>329.0</td>\n",
              "      <td>437.0</td>\n",
              "    </tr>\n",
              "    <tr>\n",
              "      <th>Place_Ratings</th>\n",
              "      <td>10000.0</td>\n",
              "      <td>3.0665</td>\n",
              "      <td>1.379952</td>\n",
              "      <td>1.0</td>\n",
              "      <td>2.00</td>\n",
              "      <td>3.0</td>\n",
              "      <td>4.0</td>\n",
              "      <td>5.0</td>\n",
              "    </tr>\n",
              "  </tbody>\n",
              "</table>\n",
              "</div>"
            ],
            "text/plain": [
              "                 count      mean         std  min     25%    50%    75%    max\n",
              "User_Id        10000.0  151.2927   86.137374  1.0   77.00  151.0  226.0  300.0\n",
              "Place_Id       10000.0  219.4164  126.228335  1.0  108.75  220.0  329.0  437.0\n",
              "Place_Ratings  10000.0    3.0665    1.379952  1.0    2.00    3.0    4.0    5.0"
            ]
          },
          "metadata": {},
          "execution_count": 11
        }
      ]
    },
    {
      "cell_type": "markdown",
      "metadata": {
        "id": "Q70A5qO-HNT8"
      },
      "source": [
        "Diketahui nilai minimum rating adalah 1.0 dan maximum rating adalah 5.0 dengan jumlah data 10000\n",
        "\n",
        "\n"
      ]
    },
    {
      "cell_type": "code",
      "metadata": {
        "colab": {
          "base_uri": "https://localhost:8080/",
          "height": 142
        },
        "id": "HWJaWpiYCOGl",
        "outputId": "c2b3f161-7f6e-4885-dfa7-feaaa3796199"
      },
      "source": [
        "tourism_rating.corr()"
      ],
      "execution_count": 12,
      "outputs": [
        {
          "output_type": "execute_result",
          "data": {
            "text/html": [
              "<div>\n",
              "<style scoped>\n",
              "    .dataframe tbody tr th:only-of-type {\n",
              "        vertical-align: middle;\n",
              "    }\n",
              "\n",
              "    .dataframe tbody tr th {\n",
              "        vertical-align: top;\n",
              "    }\n",
              "\n",
              "    .dataframe thead th {\n",
              "        text-align: right;\n",
              "    }\n",
              "</style>\n",
              "<table border=\"1\" class=\"dataframe\">\n",
              "  <thead>\n",
              "    <tr style=\"text-align: right;\">\n",
              "      <th></th>\n",
              "      <th>User_Id</th>\n",
              "      <th>Place_Id</th>\n",
              "      <th>Place_Ratings</th>\n",
              "    </tr>\n",
              "  </thead>\n",
              "  <tbody>\n",
              "    <tr>\n",
              "      <th>User_Id</th>\n",
              "      <td>1.000000</td>\n",
              "      <td>0.00023</td>\n",
              "      <td>-0.070832</td>\n",
              "    </tr>\n",
              "    <tr>\n",
              "      <th>Place_Id</th>\n",
              "      <td>0.000230</td>\n",
              "      <td>1.00000</td>\n",
              "      <td>0.003190</td>\n",
              "    </tr>\n",
              "    <tr>\n",
              "      <th>Place_Ratings</th>\n",
              "      <td>-0.070832</td>\n",
              "      <td>0.00319</td>\n",
              "      <td>1.000000</td>\n",
              "    </tr>\n",
              "  </tbody>\n",
              "</table>\n",
              "</div>"
            ],
            "text/plain": [
              "                User_Id  Place_Id  Place_Ratings\n",
              "User_Id        1.000000   0.00023      -0.070832\n",
              "Place_Id       0.000230   1.00000       0.003190\n",
              "Place_Ratings -0.070832   0.00319       1.000000"
            ]
          },
          "metadata": {},
          "execution_count": 12
        }
      ]
    },
    {
      "cell_type": "markdown",
      "metadata": {
        "id": "2O_3tTQqCTbX"
      },
      "source": [
        "Plot data dengan rating sebagai x dan Place Id sebagai y"
      ]
    },
    {
      "cell_type": "code",
      "metadata": {
        "colab": {
          "base_uri": "https://localhost:8080/",
          "height": 282
        },
        "id": "2dJC6e83CS66",
        "outputId": "e16af536-e9ca-4213-f87d-fdfb73d1d77a"
      },
      "source": [
        "plt.bar(tourism_rating['Place_Ratings'], tourism_rating['Place_Id'])\n",
        "plt.show"
      ],
      "execution_count": 13,
      "outputs": [
        {
          "output_type": "execute_result",
          "data": {
            "text/plain": [
              "<function matplotlib.pyplot.show>"
            ]
          },
          "metadata": {},
          "execution_count": 13
        },
        {
          "output_type": "display_data",
          "data": {
            "image/png": "[encoded data removed]",
            "text/plain": [
              "<Figure size 432x288 with 1 Axes>"
            ]
          },
          "metadata": {
            "needs_background": "light"
          }
        }
      ]
    },
    {
      "cell_type": "markdown",
      "metadata": {
        "id": "j3xwqXqPJj9x"
      },
      "source": [
        "### Eksplorasi data User"
      ]
    },
    {
      "cell_type": "code",
      "metadata": {
        "colab": {
          "base_uri": "https://localhost:8080/",
          "height": 0
        },
        "id": "YAURNBWqK4lD",
        "outputId": "e40ec9ed-a63b-4dd1-d8e3-aae994bd7026"
      },
      "source": [
        "tourism_user"
      ],
      "execution_count": 14,
      "outputs": [
        {
          "output_type": "execute_result",
          "data": {
            "text/html": [
              "<div>\n",
              "<style scoped>\n",
              "    .dataframe tbody tr th:only-of-type {\n",
              "        vertical-align: middle;\n",
              "    }\n",
              "\n",
              "    .dataframe tbody tr th {\n",
              "        vertical-align: top;\n",
              "    }\n",
              "\n",
              "    .dataframe thead th {\n",
              "        text-align: right;\n",
              "    }\n",
              "</style>\n",
              "<table border=\"1\" class=\"dataframe\">\n",
              "  <thead>\n",
              "    <tr style=\"text-align: right;\">\n",
              "      <th></th>\n",
              "      <th>User_Id</th>\n",
              "      <th>Location</th>\n",
              "      <th>Age</th>\n",
              "    </tr>\n",
              "  </thead>\n",
              "  <tbody>\n",
              "    <tr>\n",
              "      <th>0</th>\n",
              "      <td>1</td>\n",
              "      <td>Semarang, Jawa Tengah</td>\n",
              "      <td>20</td>\n",
              "    </tr>\n",
              "    <tr>\n",
              "      <th>1</th>\n",
              "      <td>2</td>\n",
              "      <td>Bekasi, Jawa Barat</td>\n",
              "      <td>21</td>\n",
              "    </tr>\n",
              "    <tr>\n",
              "      <th>2</th>\n",
              "      <td>3</td>\n",
              "      <td>Cirebon, Jawa Barat</td>\n",
              "      <td>23</td>\n",
              "    </tr>\n",
              "    <tr>\n",
              "      <th>3</th>\n",
              "      <td>4</td>\n",
              "      <td>Bekasi, Jawa Barat</td>\n",
              "      <td>21</td>\n",
              "    </tr>\n",
              "    <tr>\n",
              "      <th>4</th>\n",
              "      <td>5</td>\n",
              "      <td>Lampung, Sumatera Selatan</td>\n",
              "      <td>20</td>\n",
              "    </tr>\n",
              "    <tr>\n",
              "      <th>...</th>\n",
              "      <td>...</td>\n",
              "      <td>...</td>\n",
              "      <td>...</td>\n",
              "    </tr>\n",
              "    <tr>\n",
              "      <th>295</th>\n",
              "      <td>296</td>\n",
              "      <td>Lampung, Sumatera Selatan</td>\n",
              "      <td>31</td>\n",
              "    </tr>\n",
              "    <tr>\n",
              "      <th>296</th>\n",
              "      <td>297</td>\n",
              "      <td>Palembang, Sumatera Selatan</td>\n",
              "      <td>39</td>\n",
              "    </tr>\n",
              "    <tr>\n",
              "      <th>297</th>\n",
              "      <td>298</td>\n",
              "      <td>Bogor, Jawa Barat</td>\n",
              "      <td>38</td>\n",
              "    </tr>\n",
              "    <tr>\n",
              "      <th>298</th>\n",
              "      <td>299</td>\n",
              "      <td>Sragen, Jawa Tengah</td>\n",
              "      <td>27</td>\n",
              "    </tr>\n",
              "    <tr>\n",
              "      <th>299</th>\n",
              "      <td>300</td>\n",
              "      <td>Ponorogo, Jawa Timur</td>\n",
              "      <td>26</td>\n",
              "    </tr>\n",
              "  </tbody>\n",
              "</table>\n",
              "<p>300 rows × 3 columns</p>\n",
              "</div>"
            ],
            "text/plain": [
              "     User_Id                     Location  Age\n",
              "0          1        Semarang, Jawa Tengah   20\n",
              "1          2           Bekasi, Jawa Barat   21\n",
              "2          3          Cirebon, Jawa Barat   23\n",
              "3          4           Bekasi, Jawa Barat   21\n",
              "4          5    Lampung, Sumatera Selatan   20\n",
              "..       ...                          ...  ...\n",
              "295      296    Lampung, Sumatera Selatan   31\n",
              "296      297  Palembang, Sumatera Selatan   39\n",
              "297      298            Bogor, Jawa Barat   38\n",
              "298      299          Sragen, Jawa Tengah   27\n",
              "299      300         Ponorogo, Jawa Timur   26\n",
              "\n",
              "[300 rows x 3 columns]"
            ]
          },
          "metadata": {},
          "execution_count": 14
        }
      ]
    },
    {
      "cell_type": "code",
      "metadata": {
        "colab": {
          "base_uri": "https://localhost:8080/"
        },
        "id": "xUSO2EYqK7R9",
        "outputId": "dfab1ad8-dabd-4a2f-8211-807822c0197a"
      },
      "source": [
        "tourism_user.info()"
      ],
      "execution_count": 15,
      "outputs": [
        {
          "output_type": "stream",
          "name": "stdout",
          "text": [
            "<class 'pandas.core.frame.DataFrame'>\n",
            "RangeIndex: 300 entries, 0 to 299\n",
            "Data columns (total 3 columns):\n",
            " #   Column    Non-Null Count  Dtype \n",
            "---  ------    --------------  ----- \n",
            " 0   User_Id   300 non-null    int64 \n",
            " 1   Location  300 non-null    object\n",
            " 2   Age       300 non-null    int64 \n",
            "dtypes: int64(2), object(1)\n",
            "memory usage: 7.2+ KB\n"
          ]
        }
      ]
    },
    {
      "cell_type": "markdown",
      "metadata": {
        "id": "mQcanFxtdJ6x"
      },
      "source": [
        "Diketahui data user berjumlah 300 dengan nama kolom user_id, location(asal user) dan age\n",
        "Data akan ditampilkan dalam visualisasi, data akan di petakan berdasarkan user_Id dan asal provinsi dari user.\n",
        "\n",
        "Dikarenakan data lokasi belum terpisah antara nama kota dan provinsi maka data lokasi akan dipecah menjadi kota dan provinsi."
      ]
    },
    {
      "cell_type": "code",
      "metadata": {
        "colab": {
          "base_uri": "https://localhost:8080/",
          "height": 0
        },
        "id": "MTpE822TL7AK",
        "outputId": "0c665631-e360-4481-a4ba-a9cf7f322fef"
      },
      "source": [
        "tourism_user[['kota', 'provinsi']] = tourism_user['Location'].str.split(',', expand=True)\n",
        "tourism_user"
      ],
      "execution_count": 16,
      "outputs": [
        {
          "output_type": "execute_result",
          "data": {
            "text/html": [
              "<div>\n",
              "<style scoped>\n",
              "    .dataframe tbody tr th:only-of-type {\n",
              "        vertical-align: middle;\n",
              "    }\n",
              "\n",
              "    .dataframe tbody tr th {\n",
              "        vertical-align: top;\n",
              "    }\n",
              "\n",
              "    .dataframe thead th {\n",
              "        text-align: right;\n",
              "    }\n",
              "</style>\n",
              "<table border=\"1\" class=\"dataframe\">\n",
              "  <thead>\n",
              "    <tr style=\"text-align: right;\">\n",
              "      <th></th>\n",
              "      <th>User_Id</th>\n",
              "      <th>Location</th>\n",
              "      <th>Age</th>\n",
              "      <th>kota</th>\n",
              "      <th>provinsi</th>\n",
              "    </tr>\n",
              "  </thead>\n",
              "  <tbody>\n",
              "    <tr>\n",
              "      <th>0</th>\n",
              "      <td>1</td>\n",
              "      <td>Semarang, Jawa Tengah</td>\n",
              "      <td>20</td>\n",
              "      <td>Semarang</td>\n",
              "      <td>Jawa Tengah</td>\n",
              "    </tr>\n",
              "    <tr>\n",
              "      <th>1</th>\n",
              "      <td>2</td>\n",
              "      <td>Bekasi, Jawa Barat</td>\n",
              "      <td>21</td>\n",
              "      <td>Bekasi</td>\n",
              "      <td>Jawa Barat</td>\n",
              "    </tr>\n",
              "    <tr>\n",
              "      <th>2</th>\n",
              "      <td>3</td>\n",
              "      <td>Cirebon, Jawa Barat</td>\n",
              "      <td>23</td>\n",
              "      <td>Cirebon</td>\n",
              "      <td>Jawa Barat</td>\n",
              "    </tr>\n",
              "    <tr>\n",
              "      <th>3</th>\n",
              "      <td>4</td>\n",
              "      <td>Bekasi, Jawa Barat</td>\n",
              "      <td>21</td>\n",
              "      <td>Bekasi</td>\n",
              "      <td>Jawa Barat</td>\n",
              "    </tr>\n",
              "    <tr>\n",
              "      <th>4</th>\n",
              "      <td>5</td>\n",
              "      <td>Lampung, Sumatera Selatan</td>\n",
              "      <td>20</td>\n",
              "      <td>Lampung</td>\n",
              "      <td>Sumatera Selatan</td>\n",
              "    </tr>\n",
              "    <tr>\n",
              "      <th>...</th>\n",
              "      <td>...</td>\n",
              "      <td>...</td>\n",
              "      <td>...</td>\n",
              "      <td>...</td>\n",
              "      <td>...</td>\n",
              "    </tr>\n",
              "    <tr>\n",
              "      <th>295</th>\n",
              "      <td>296</td>\n",
              "      <td>Lampung, Sumatera Selatan</td>\n",
              "      <td>31</td>\n",
              "      <td>Lampung</td>\n",
              "      <td>Sumatera Selatan</td>\n",
              "    </tr>\n",
              "    <tr>\n",
              "      <th>296</th>\n",
              "      <td>297</td>\n",
              "      <td>Palembang, Sumatera Selatan</td>\n",
              "      <td>39</td>\n",
              "      <td>Palembang</td>\n",
              "      <td>Sumatera Selatan</td>\n",
              "    </tr>\n",
              "    <tr>\n",
              "      <th>297</th>\n",
              "      <td>298</td>\n",
              "      <td>Bogor, Jawa Barat</td>\n",
              "      <td>38</td>\n",
              "      <td>Bogor</td>\n",
              "      <td>Jawa Barat</td>\n",
              "    </tr>\n",
              "    <tr>\n",
              "      <th>298</th>\n",
              "      <td>299</td>\n",
              "      <td>Sragen, Jawa Tengah</td>\n",
              "      <td>27</td>\n",
              "      <td>Sragen</td>\n",
              "      <td>Jawa Tengah</td>\n",
              "    </tr>\n",
              "    <tr>\n",
              "      <th>299</th>\n",
              "      <td>300</td>\n",
              "      <td>Ponorogo, Jawa Timur</td>\n",
              "      <td>26</td>\n",
              "      <td>Ponorogo</td>\n",
              "      <td>Jawa Timur</td>\n",
              "    </tr>\n",
              "  </tbody>\n",
              "</table>\n",
              "<p>300 rows × 5 columns</p>\n",
              "</div>"
            ],
            "text/plain": [
              "     User_Id                     Location  Age       kota           provinsi\n",
              "0          1        Semarang, Jawa Tengah   20   Semarang        Jawa Tengah\n",
              "1          2           Bekasi, Jawa Barat   21     Bekasi         Jawa Barat\n",
              "2          3          Cirebon, Jawa Barat   23    Cirebon         Jawa Barat\n",
              "3          4           Bekasi, Jawa Barat   21     Bekasi         Jawa Barat\n",
              "4          5    Lampung, Sumatera Selatan   20    Lampung   Sumatera Selatan\n",
              "..       ...                          ...  ...        ...                ...\n",
              "295      296    Lampung, Sumatera Selatan   31    Lampung   Sumatera Selatan\n",
              "296      297  Palembang, Sumatera Selatan   39  Palembang   Sumatera Selatan\n",
              "297      298            Bogor, Jawa Barat   38      Bogor         Jawa Barat\n",
              "298      299          Sragen, Jawa Tengah   27     Sragen        Jawa Tengah\n",
              "299      300         Ponorogo, Jawa Timur   26   Ponorogo         Jawa Timur\n",
              "\n",
              "[300 rows x 5 columns]"
            ]
          },
          "metadata": {},
          "execution_count": 16
        }
      ]
    },
    {
      "cell_type": "markdown",
      "metadata": {
        "id": "ednQX3L_dvHI"
      },
      "source": [
        "Setelah data dipecah data akan divisualisasikan dengan menggunakan barplot User_Id sebagai height"
      ]
    },
    {
      "cell_type": "code",
      "metadata": {
        "colab": {
          "base_uri": "https://localhost:8080/",
          "height": 0
        },
        "id": "k2tNx9K_K-i3",
        "outputId": "c45b87ee-09e8-4123-9bbf-9b2b750c48d1"
      },
      "source": [
        "plt.figure(figsize=(15, 10))\n",
        "sns.barplot(tourism_user['provinsi'], tourism_user['User_Id'])\n",
        "plt.show()"
      ],
      "execution_count": 17,
      "outputs": [
        {
          "output_type": "stream",
          "name": "stderr",
          "text": [
            "/usr/local/lib/python3.7/dist-packages/seaborn/_decorators.py:43: FutureWarning: Pass the following variables as keyword args: x, y. From version 0.12, the only valid positional argument will be `data`, and passing other arguments without an explicit keyword will result in an error or misinterpretation.\n",
            "  FutureWarning\n"
          ]
        },
        {
          "output_type": "display_data",
          "data": {
            "image/png": "[encoded data removed]",
            "text/plain": [
              "<Figure size 1080x720 with 1 Axes>"
            ]
          },
          "metadata": {
            "needs_background": "light"
          }
        }
      ]
    },
    {
      "cell_type": "markdown",
      "metadata": {
        "id": "_JGYp_iXJnSs"
      },
      "source": [
        "### Eksplorasi data Tourism information"
      ]
    },
    {
      "cell_type": "code",
      "metadata": {
        "colab": {
          "base_uri": "https://localhost:8080/",
          "height": 1000
        },
        "id": "lx9l4PGCRbAg",
        "outputId": "b84028fe-889d-4414-d994-002aacda1a7d"
      },
      "source": [
        "tourism_info"
      ],
      "execution_count": 18,
      "outputs": [
        {
          "output_type": "execute_result",
          "data": {
            "text/html": [
              "<div>\n",
              "<style scoped>\n",
              "    .dataframe tbody tr th:only-of-type {\n",
              "        vertical-align: middle;\n",
              "    }\n",
              "\n",
              "    .dataframe tbody tr th {\n",
              "        vertical-align: top;\n",
              "    }\n",
              "\n",
              "    .dataframe thead th {\n",
              "        text-align: right;\n",
              "    }\n",
              "</style>\n",
              "<table border=\"1\" class=\"dataframe\">\n",
              "  <thead>\n",
              "    <tr style=\"text-align: right;\">\n",
              "      <th></th>\n",
              "      <th>Place_Id</th>\n",
              "      <th>Place_Name</th>\n",
              "      <th>Description</th>\n",
              "      <th>Category</th>\n",
              "      <th>City</th>\n",
              "      <th>Price</th>\n",
              "      <th>Rating</th>\n",
              "      <th>Time_Minutes</th>\n",
              "      <th>Coordinate</th>\n",
              "      <th>Lat</th>\n",
              "      <th>Long</th>\n",
              "      <th>Unnamed: 11</th>\n",
              "      <th>Unnamed: 12</th>\n",
              "    </tr>\n",
              "  </thead>\n",
              "  <tbody>\n",
              "    <tr>\n",
              "      <th>0</th>\n",
              "      <td>1</td>\n",
              "      <td>Monumen Nasional</td>\n",
              "      <td>Monumen Nasional atau yang populer disingkat d...</td>\n",
              "      <td>Budaya</td>\n",
              "      <td>Jakarta</td>\n",
              "      <td>20000</td>\n",
              "      <td>4.6</td>\n",
              "      <td>15.0</td>\n",
              "      <td>{'lat': -6.1753924, 'lng': 106.8271528}</td>\n",
              "      <td>-6.175392</td>\n",
              "      <td>106.827153</td>\n",
              "      <td>NaN</td>\n",
              "      <td>1</td>\n",
              "    </tr>\n",
              "    <tr>\n",
              "      <th>1</th>\n",
              "      <td>2</td>\n",
              "      <td>Kota Tua</td>\n",
              "      <td>Kota tua di Jakarta, yang juga bernama Kota Tu...</td>\n",
              "      <td>Budaya</td>\n",
              "      <td>Jakarta</td>\n",
              "      <td>0</td>\n",
              "      <td>4.6</td>\n",
              "      <td>90.0</td>\n",
              "      <td>{'lat': -6.137644799999999, 'lng': 106.8171245}</td>\n",
              "      <td>-6.137645</td>\n",
              "      <td>106.817125</td>\n",
              "      <td>NaN</td>\n",
              "      <td>2</td>\n",
              "    </tr>\n",
              "    <tr>\n",
              "      <th>2</th>\n",
              "      <td>3</td>\n",
              "      <td>Dunia Fantasi</td>\n",
              "      <td>Dunia Fantasi atau disebut juga Dufan adalah t...</td>\n",
              "      <td>Taman Hiburan</td>\n",
              "      <td>Jakarta</td>\n",
              "      <td>270000</td>\n",
              "      <td>4.6</td>\n",
              "      <td>360.0</td>\n",
              "      <td>{'lat': -6.125312399999999, 'lng': 106.8335377}</td>\n",
              "      <td>-6.125312</td>\n",
              "      <td>106.833538</td>\n",
              "      <td>NaN</td>\n",
              "      <td>3</td>\n",
              "    </tr>\n",
              "    <tr>\n",
              "      <th>3</th>\n",
              "      <td>4</td>\n",
              "      <td>Taman Mini Indonesia Indah (TMII)</td>\n",
              "      <td>Taman Mini Indonesia Indah merupakan suatu kaw...</td>\n",
              "      <td>Taman Hiburan</td>\n",
              "      <td>Jakarta</td>\n",
              "      <td>10000</td>\n",
              "      <td>4.5</td>\n",
              "      <td>NaN</td>\n",
              "      <td>{'lat': -6.302445899999999, 'lng': 106.8951559}</td>\n",
              "      <td>-6.302446</td>\n",
              "      <td>106.895156</td>\n",
              "      <td>NaN</td>\n",
              "      <td>4</td>\n",
              "    </tr>\n",
              "    <tr>\n",
              "      <th>4</th>\n",
              "      <td>5</td>\n",
              "      <td>Atlantis Water Adventure</td>\n",
              "      <td>Atlantis Water Adventure atau dikenal dengan A...</td>\n",
              "      <td>Taman Hiburan</td>\n",
              "      <td>Jakarta</td>\n",
              "      <td>94000</td>\n",
              "      <td>4.5</td>\n",
              "      <td>60.0</td>\n",
              "      <td>{'lat': -6.12419, 'lng': 106.839134}</td>\n",
              "      <td>-6.124190</td>\n",
              "      <td>106.839134</td>\n",
              "      <td>NaN</td>\n",
              "      <td>5</td>\n",
              "    </tr>\n",
              "    <tr>\n",
              "      <th>...</th>\n",
              "      <td>...</td>\n",
              "      <td>...</td>\n",
              "      <td>...</td>\n",
              "      <td>...</td>\n",
              "      <td>...</td>\n",
              "      <td>...</td>\n",
              "      <td>...</td>\n",
              "      <td>...</td>\n",
              "      <td>...</td>\n",
              "      <td>...</td>\n",
              "      <td>...</td>\n",
              "      <td>...</td>\n",
              "      <td>...</td>\n",
              "    </tr>\n",
              "    <tr>\n",
              "      <th>432</th>\n",
              "      <td>433</td>\n",
              "      <td>Museum Mpu Tantular</td>\n",
              "      <td>Museum Negeri Mpu Tantular adalah sebuah museu...</td>\n",
              "      <td>Budaya</td>\n",
              "      <td>Surabaya</td>\n",
              "      <td>2000</td>\n",
              "      <td>4.4</td>\n",
              "      <td>45.0</td>\n",
              "      <td>{'lat': -7.4338593, 'lng': 112.7199058}</td>\n",
              "      <td>-7.433859</td>\n",
              "      <td>112.719906</td>\n",
              "      <td>NaN</td>\n",
              "      <td>433</td>\n",
              "    </tr>\n",
              "    <tr>\n",
              "      <th>433</th>\n",
              "      <td>434</td>\n",
              "      <td>Taman Bungkul</td>\n",
              "      <td>Taman Bungkul adalah taman wisata kota yang te...</td>\n",
              "      <td>Taman Hiburan</td>\n",
              "      <td>Surabaya</td>\n",
              "      <td>0</td>\n",
              "      <td>4.6</td>\n",
              "      <td>NaN</td>\n",
              "      <td>{'lat': -7.291346799999999, 'lng': 112.7398218}</td>\n",
              "      <td>-7.291347</td>\n",
              "      <td>112.739822</td>\n",
              "      <td>NaN</td>\n",
              "      <td>434</td>\n",
              "    </tr>\n",
              "    <tr>\n",
              "      <th>434</th>\n",
              "      <td>435</td>\n",
              "      <td>Taman Air Mancur Menari Kenjeran</td>\n",
              "      <td>Air mancur menari atau dancing fountain juga a...</td>\n",
              "      <td>Taman Hiburan</td>\n",
              "      <td>Surabaya</td>\n",
              "      <td>0</td>\n",
              "      <td>4.4</td>\n",
              "      <td>45.0</td>\n",
              "      <td>{'lat': -7.2752955, 'lng': 112.7549381}</td>\n",
              "      <td>-7.275296</td>\n",
              "      <td>112.754938</td>\n",
              "      <td>NaN</td>\n",
              "      <td>435</td>\n",
              "    </tr>\n",
              "    <tr>\n",
              "      <th>435</th>\n",
              "      <td>436</td>\n",
              "      <td>Taman Flora Bratang Surabaya</td>\n",
              "      <td>Taman Flora adalah salah satu taman kota di Su...</td>\n",
              "      <td>Taman Hiburan</td>\n",
              "      <td>Surabaya</td>\n",
              "      <td>0</td>\n",
              "      <td>4.6</td>\n",
              "      <td>NaN</td>\n",
              "      <td>{'lat': -7.294330299999999, 'lng': 112.7617534}</td>\n",
              "      <td>-7.294330</td>\n",
              "      <td>112.761753</td>\n",
              "      <td>NaN</td>\n",
              "      <td>436</td>\n",
              "    </tr>\n",
              "    <tr>\n",
              "      <th>436</th>\n",
              "      <td>437</td>\n",
              "      <td>Gereja Perawan Maria Tak Berdosa Surabaya</td>\n",
              "      <td>Gereja Katolik Kelahiran Santa Perawan Maria m...</td>\n",
              "      <td>Tempat Ibadah</td>\n",
              "      <td>Surabaya</td>\n",
              "      <td>10000</td>\n",
              "      <td>4.8</td>\n",
              "      <td>NaN</td>\n",
              "      <td>{'lat': -7.2420758, 'lng': 112.7368158}</td>\n",
              "      <td>-7.242076</td>\n",
              "      <td>112.736816</td>\n",
              "      <td>NaN</td>\n",
              "      <td>437</td>\n",
              "    </tr>\n",
              "  </tbody>\n",
              "</table>\n",
              "<p>437 rows × 13 columns</p>\n",
              "</div>"
            ],
            "text/plain": [
              "     Place_Id  ... Unnamed: 12\n",
              "0           1  ...           1\n",
              "1           2  ...           2\n",
              "2           3  ...           3\n",
              "3           4  ...           4\n",
              "4           5  ...           5\n",
              "..        ...  ...         ...\n",
              "432       433  ...         433\n",
              "433       434  ...         434\n",
              "434       435  ...         435\n",
              "435       436  ...         436\n",
              "436       437  ...         437\n",
              "\n",
              "[437 rows x 13 columns]"
            ]
          },
          "metadata": {},
          "execution_count": 18
        }
      ]
    },
    {
      "cell_type": "code",
      "metadata": {
        "colab": {
          "base_uri": "https://localhost:8080/"
        },
        "id": "yc3BswE5UHnQ",
        "outputId": "fce320c1-8094-464d-ad72-e19eef64c765"
      },
      "source": [
        "tourism_info.info()"
      ],
      "execution_count": 19,
      "outputs": [
        {
          "output_type": "stream",
          "name": "stdout",
          "text": [
            "<class 'pandas.core.frame.DataFrame'>\n",
            "RangeIndex: 437 entries, 0 to 436\n",
            "Data columns (total 13 columns):\n",
            " #   Column        Non-Null Count  Dtype  \n",
            "---  ------        --------------  -----  \n",
            " 0   Place_Id      437 non-null    int64  \n",
            " 1   Place_Name    437 non-null    object \n",
            " 2   Description   437 non-null    object \n",
            " 3   Category      437 non-null    object \n",
            " 4   City          437 non-null    object \n",
            " 5   Price         437 non-null    int64  \n",
            " 6   Rating        437 non-null    float64\n",
            " 7   Time_Minutes  205 non-null    float64\n",
            " 8   Coordinate    437 non-null    object \n",
            " 9   Lat           437 non-null    float64\n",
            " 10  Long          437 non-null    float64\n",
            " 11  Unnamed: 11   0 non-null      float64\n",
            " 12  Unnamed: 12   437 non-null    int64  \n",
            "dtypes: float64(5), int64(3), object(5)\n",
            "memory usage: 44.5+ KB\n"
          ]
        }
      ]
    },
    {
      "cell_type": "markdown",
      "metadata": {
        "id": "tNSfY9AZUOcY"
      },
      "source": [
        "Di dalam file tourism_info terdapat 13 kolom tetapi, ada 2 kolom dengan nama yang tidak jelas/tidak bisa dipahami maka kolom tersebut akan dihapus."
      ]
    },
    {
      "cell_type": "code",
      "metadata": {
        "colab": {
          "base_uri": "https://localhost:8080/",
          "height": 1000
        },
        "id": "xncEDSf6UcgU",
        "outputId": "09c02598-07f8-4b0b-d55c-dce21955e559"
      },
      "source": [
        "tourism_inform = tourism_info.loc[:, ~tourism_info.columns.str.contains('^Unnamed')]\n",
        "tourism_inform"
      ],
      "execution_count": 20,
      "outputs": [
        {
          "output_type": "execute_result",
          "data": {
            "text/html": [
              "<div>\n",
              "<style scoped>\n",
              "    .dataframe tbody tr th:only-of-type {\n",
              "        vertical-align: middle;\n",
              "    }\n",
              "\n",
              "    .dataframe tbody tr th {\n",
              "        vertical-align: top;\n",
              "    }\n",
              "\n",
              "    .dataframe thead th {\n",
              "        text-align: right;\n",
              "    }\n",
              "</style>\n",
              "<table border=\"1\" class=\"dataframe\">\n",
              "  <thead>\n",
              "    <tr style=\"text-align: right;\">\n",
              "      <th></th>\n",
              "      <th>Place_Id</th>\n",
              "      <th>Place_Name</th>\n",
              "      <th>Description</th>\n",
              "      <th>Category</th>\n",
              "      <th>City</th>\n",
              "      <th>Price</th>\n",
              "      <th>Rating</th>\n",
              "      <th>Time_Minutes</th>\n",
              "      <th>Coordinate</th>\n",
              "      <th>Lat</th>\n",
              "      <th>Long</th>\n",
              "    </tr>\n",
              "  </thead>\n",
              "  <tbody>\n",
              "    <tr>\n",
              "      <th>0</th>\n",
              "      <td>1</td>\n",
              "      <td>Monumen Nasional</td>\n",
              "      <td>Monumen Nasional atau yang populer disingkat d...</td>\n",
              "      <td>Budaya</td>\n",
              "      <td>Jakarta</td>\n",
              "      <td>20000</td>\n",
              "      <td>4.6</td>\n",
              "      <td>15.0</td>\n",
              "      <td>{'lat': -6.1753924, 'lng': 106.8271528}</td>\n",
              "      <td>-6.175392</td>\n",
              "      <td>106.827153</td>\n",
              "    </tr>\n",
              "    <tr>\n",
              "      <th>1</th>\n",
              "      <td>2</td>\n",
              "      <td>Kota Tua</td>\n",
              "      <td>Kota tua di Jakarta, yang juga bernama Kota Tu...</td>\n",
              "      <td>Budaya</td>\n",
              "      <td>Jakarta</td>\n",
              "      <td>0</td>\n",
              "      <td>4.6</td>\n",
              "      <td>90.0</td>\n",
              "      <td>{'lat': -6.137644799999999, 'lng': 106.8171245}</td>\n",
              "      <td>-6.137645</td>\n",
              "      <td>106.817125</td>\n",
              "    </tr>\n",
              "    <tr>\n",
              "      <th>2</th>\n",
              "      <td>3</td>\n",
              "      <td>Dunia Fantasi</td>\n",
              "      <td>Dunia Fantasi atau disebut juga Dufan adalah t...</td>\n",
              "      <td>Taman Hiburan</td>\n",
              "      <td>Jakarta</td>\n",
              "      <td>270000</td>\n",
              "      <td>4.6</td>\n",
              "      <td>360.0</td>\n",
              "      <td>{'lat': -6.125312399999999, 'lng': 106.8335377}</td>\n",
              "      <td>-6.125312</td>\n",
              "      <td>106.833538</td>\n",
              "    </tr>\n",
              "    <tr>\n",
              "      <th>3</th>\n",
              "      <td>4</td>\n",
              "      <td>Taman Mini Indonesia Indah (TMII)</td>\n",
              "      <td>Taman Mini Indonesia Indah merupakan suatu kaw...</td>\n",
              "      <td>Taman Hiburan</td>\n",
              "      <td>Jakarta</td>\n",
              "      <td>10000</td>\n",
              "      <td>4.5</td>\n",
              "      <td>NaN</td>\n",
              "      <td>{'lat': -6.302445899999999, 'lng': 106.8951559}</td>\n",
              "      <td>-6.302446</td>\n",
              "      <td>106.895156</td>\n",
              "    </tr>\n",
              "    <tr>\n",
              "      <th>4</th>\n",
              "      <td>5</td>\n",
              "      <td>Atlantis Water Adventure</td>\n",
              "      <td>Atlantis Water Adventure atau dikenal dengan A...</td>\n",
              "      <td>Taman Hiburan</td>\n",
              "      <td>Jakarta</td>\n",
              "      <td>94000</td>\n",
              "      <td>4.5</td>\n",
              "      <td>60.0</td>\n",
              "      <td>{'lat': -6.12419, 'lng': 106.839134}</td>\n",
              "      <td>-6.124190</td>\n",
              "      <td>106.839134</td>\n",
              "    </tr>\n",
              "    <tr>\n",
              "      <th>...</th>\n",
              "      <td>...</td>\n",
              "      <td>...</td>\n",
              "      <td>...</td>\n",
              "      <td>...</td>\n",
              "      <td>...</td>\n",
              "      <td>...</td>\n",
              "      <td>...</td>\n",
              "      <td>...</td>\n",
              "      <td>...</td>\n",
              "      <td>...</td>\n",
              "      <td>...</td>\n",
              "    </tr>\n",
              "    <tr>\n",
              "      <th>432</th>\n",
              "      <td>433</td>\n",
              "      <td>Museum Mpu Tantular</td>\n",
              "      <td>Museum Negeri Mpu Tantular adalah sebuah museu...</td>\n",
              "      <td>Budaya</td>\n",
              "      <td>Surabaya</td>\n",
              "      <td>2000</td>\n",
              "      <td>4.4</td>\n",
              "      <td>45.0</td>\n",
              "      <td>{'lat': -7.4338593, 'lng': 112.7199058}</td>\n",
              "      <td>-7.433859</td>\n",
              "      <td>112.719906</td>\n",
              "    </tr>\n",
              "    <tr>\n",
              "      <th>433</th>\n",
              "      <td>434</td>\n",
              "      <td>Taman Bungkul</td>\n",
              "      <td>Taman Bungkul adalah taman wisata kota yang te...</td>\n",
              "      <td>Taman Hiburan</td>\n",
              "      <td>Surabaya</td>\n",
              "      <td>0</td>\n",
              "      <td>4.6</td>\n",
              "      <td>NaN</td>\n",
              "      <td>{'lat': -7.291346799999999, 'lng': 112.7398218}</td>\n",
              "      <td>-7.291347</td>\n",
              "      <td>112.739822</td>\n",
              "    </tr>\n",
              "    <tr>\n",
              "      <th>434</th>\n",
              "      <td>435</td>\n",
              "      <td>Taman Air Mancur Menari Kenjeran</td>\n",
              "      <td>Air mancur menari atau dancing fountain juga a...</td>\n",
              "      <td>Taman Hiburan</td>\n",
              "      <td>Surabaya</td>\n",
              "      <td>0</td>\n",
              "      <td>4.4</td>\n",
              "      <td>45.0</td>\n",
              "      <td>{'lat': -7.2752955, 'lng': 112.7549381}</td>\n",
              "      <td>-7.275296</td>\n",
              "      <td>112.754938</td>\n",
              "    </tr>\n",
              "    <tr>\n",
              "      <th>435</th>\n",
              "      <td>436</td>\n",
              "      <td>Taman Flora Bratang Surabaya</td>\n",
              "      <td>Taman Flora adalah salah satu taman kota di Su...</td>\n",
              "      <td>Taman Hiburan</td>\n",
              "      <td>Surabaya</td>\n",
              "      <td>0</td>\n",
              "      <td>4.6</td>\n",
              "      <td>NaN</td>\n",
              "      <td>{'lat': -7.294330299999999, 'lng': 112.7617534}</td>\n",
              "      <td>-7.294330</td>\n",
              "      <td>112.761753</td>\n",
              "    </tr>\n",
              "    <tr>\n",
              "      <th>436</th>\n",
              "      <td>437</td>\n",
              "      <td>Gereja Perawan Maria Tak Berdosa Surabaya</td>\n",
              "      <td>Gereja Katolik Kelahiran Santa Perawan Maria m...</td>\n",
              "      <td>Tempat Ibadah</td>\n",
              "      <td>Surabaya</td>\n",
              "      <td>10000</td>\n",
              "      <td>4.8</td>\n",
              "      <td>NaN</td>\n",
              "      <td>{'lat': -7.2420758, 'lng': 112.7368158}</td>\n",
              "      <td>-7.242076</td>\n",
              "      <td>112.736816</td>\n",
              "    </tr>\n",
              "  </tbody>\n",
              "</table>\n",
              "<p>437 rows × 11 columns</p>\n",
              "</div>"
            ],
            "text/plain": [
              "     Place_Id                                 Place_Name  ...       Lat        Long\n",
              "0           1                           Monumen Nasional  ... -6.175392  106.827153\n",
              "1           2                                   Kota Tua  ... -6.137645  106.817125\n",
              "2           3                              Dunia Fantasi  ... -6.125312  106.833538\n",
              "3           4          Taman Mini Indonesia Indah (TMII)  ... -6.302446  106.895156\n",
              "4           5                   Atlantis Water Adventure  ... -6.124190  106.839134\n",
              "..        ...                                        ...  ...       ...         ...\n",
              "432       433                        Museum Mpu Tantular  ... -7.433859  112.719906\n",
              "433       434                              Taman Bungkul  ... -7.291347  112.739822\n",
              "434       435           Taman Air Mancur Menari Kenjeran  ... -7.275296  112.754938\n",
              "435       436               Taman Flora Bratang Surabaya  ... -7.294330  112.761753\n",
              "436       437  Gereja Perawan Maria Tak Berdosa Surabaya  ... -7.242076  112.736816\n",
              "\n",
              "[437 rows x 11 columns]"
            ]
          },
          "metadata": {},
          "execution_count": 20
        }
      ]
    },
    {
      "cell_type": "markdown",
      "metadata": {
        "id": "D3acyM6IUGKX"
      },
      "source": [
        "Diketahui bahwa :\n",
        "- Place-Id : id untuk tempat wisata\n",
        "- Place_Name: Nama dari lokasi wisata\n",
        "- Description: penjelasan singkat mengenai tempat wisata tersebut\n",
        "- Category: wisata termasuk dalam kategori apa(budaya, taman-hiburan dll)\n",
        "- City: Lokasi tempat wisata(kota)\n",
        "- Price: biaya masuk ke lokasi wisata \n",
        "- Rating : tingkat kepuasan pelanggan\n",
        "- Time_Minutes: waktu perjalanan\n",
        "- Coordinate: koordinat dari lokasi wisata\n",
        "- Lat: Garis Lintang\n",
        "- Long: Garis Bujur\n",
        "\n",
        "Variable tourism_info memiliki 437 data, karena di dalam minut terdapat nan/missing value, makan missing value tersebut diganti dengan nilai rata-rata dari data pada column tersebut.\n"
      ]
    },
    {
      "cell_type": "code",
      "metadata": {
        "colab": {
          "base_uri": "https://localhost:8080/"
        },
        "id": "F7sih6CkcYPM",
        "outputId": "16eb94c7-db1c-4857-ec51-89236f0bdc10"
      },
      "source": [
        "tourism_inform.isna().sum()"
      ],
      "execution_count": 21,
      "outputs": [
        {
          "output_type": "execute_result",
          "data": {
            "text/plain": [
              "Place_Id          0\n",
              "Place_Name        0\n",
              "Description       0\n",
              "Category          0\n",
              "City              0\n",
              "Price             0\n",
              "Rating            0\n",
              "Time_Minutes    232\n",
              "Coordinate        0\n",
              "Lat               0\n",
              "Long              0\n",
              "dtype: int64"
            ]
          },
          "metadata": {},
          "execution_count": 21
        }
      ]
    },
    {
      "cell_type": "markdown",
      "metadata": {
        "id": "hdtn2TBxd92v"
      },
      "source": [
        "Data time minutes memiliki banyak missing value, kalau data row yang mengandung missing value dihapus maka akan berakibat berkurangnya data hampir 50% sehingga untuk mengatasi itu, dipilih untuk drop data time_minus dari dataFrame, untuk mencegah kehilangan data yang banyak.\n"
      ]
    },
    {
      "cell_type": "code",
      "metadata": {
        "colab": {
          "base_uri": "https://localhost:8080/",
          "height": 1000
        },
        "id": "yApFCFwmesm7",
        "outputId": "d59c2b54-ab72-4036-819e-04ce1ea218d5"
      },
      "source": [
        "tourism_inform = tourism_inform.drop(columns=[\"Time_Minutes\"])\n",
        "tourism_inform"
      ],
      "execution_count": 22,
      "outputs": [
        {
          "output_type": "execute_result",
          "data": {
            "text/html": [
              "<div>\n",
              "<style scoped>\n",
              "    .dataframe tbody tr th:only-of-type {\n",
              "        vertical-align: middle;\n",
              "    }\n",
              "\n",
              "    .dataframe tbody tr th {\n",
              "        vertical-align: top;\n",
              "    }\n",
              "\n",
              "    .dataframe thead th {\n",
              "        text-align: right;\n",
              "    }\n",
              "</style>\n",
              "<table border=\"1\" class=\"dataframe\">\n",
              "  <thead>\n",
              "    <tr style=\"text-align: right;\">\n",
              "      <th></th>\n",
              "      <th>Place_Id</th>\n",
              "      <th>Place_Name</th>\n",
              "      <th>Description</th>\n",
              "      <th>Category</th>\n",
              "      <th>City</th>\n",
              "      <th>Price</th>\n",
              "      <th>Rating</th>\n",
              "      <th>Coordinate</th>\n",
              "      <th>Lat</th>\n",
              "      <th>Long</th>\n",
              "    </tr>\n",
              "  </thead>\n",
              "  <tbody>\n",
              "    <tr>\n",
              "      <th>0</th>\n",
              "      <td>1</td>\n",
              "      <td>Monumen Nasional</td>\n",
              "      <td>Monumen Nasional atau yang populer disingkat d...</td>\n",
              "      <td>Budaya</td>\n",
              "      <td>Jakarta</td>\n",
              "      <td>20000</td>\n",
              "      <td>4.6</td>\n",
              "      <td>{'lat': -6.1753924, 'lng': 106.8271528}</td>\n",
              "      <td>-6.175392</td>\n",
              "      <td>106.827153</td>\n",
              "    </tr>\n",
              "    <tr>\n",
              "      <th>1</th>\n",
              "      <td>2</td>\n",
              "      <td>Kota Tua</td>\n",
              "      <td>Kota tua di Jakarta, yang juga bernama Kota Tu...</td>\n",
              "      <td>Budaya</td>\n",
              "      <td>Jakarta</td>\n",
              "      <td>0</td>\n",
              "      <td>4.6</td>\n",
              "      <td>{'lat': -6.137644799999999, 'lng': 106.8171245}</td>\n",
              "      <td>-6.137645</td>\n",
              "      <td>106.817125</td>\n",
              "    </tr>\n",
              "    <tr>\n",
              "      <th>2</th>\n",
              "      <td>3</td>\n",
              "      <td>Dunia Fantasi</td>\n",
              "      <td>Dunia Fantasi atau disebut juga Dufan adalah t...</td>\n",
              "      <td>Taman Hiburan</td>\n",
              "      <td>Jakarta</td>\n",
              "      <td>270000</td>\n",
              "      <td>4.6</td>\n",
              "      <td>{'lat': -6.125312399999999, 'lng': 106.8335377}</td>\n",
              "      <td>-6.125312</td>\n",
              "      <td>106.833538</td>\n",
              "    </tr>\n",
              "    <tr>\n",
              "      <th>3</th>\n",
              "      <td>4</td>\n",
              "      <td>Taman Mini Indonesia Indah (TMII)</td>\n",
              "      <td>Taman Mini Indonesia Indah merupakan suatu kaw...</td>\n",
              "      <td>Taman Hiburan</td>\n",
              "      <td>Jakarta</td>\n",
              "      <td>10000</td>\n",
              "      <td>4.5</td>\n",
              "      <td>{'lat': -6.302445899999999, 'lng': 106.8951559}</td>\n",
              "      <td>-6.302446</td>\n",
              "      <td>106.895156</td>\n",
              "    </tr>\n",
              "    <tr>\n",
              "      <th>4</th>\n",
              "      <td>5</td>\n",
              "      <td>Atlantis Water Adventure</td>\n",
              "      <td>Atlantis Water Adventure atau dikenal dengan A...</td>\n",
              "      <td>Taman Hiburan</td>\n",
              "      <td>Jakarta</td>\n",
              "      <td>94000</td>\n",
              "      <td>4.5</td>\n",
              "      <td>{'lat': -6.12419, 'lng': 106.839134}</td>\n",
              "      <td>-6.124190</td>\n",
              "      <td>106.839134</td>\n",
              "    </tr>\n",
              "    <tr>\n",
              "      <th>...</th>\n",
              "      <td>...</td>\n",
              "      <td>...</td>\n",
              "      <td>...</td>\n",
              "      <td>...</td>\n",
              "      <td>...</td>\n",
              "      <td>...</td>\n",
              "      <td>...</td>\n",
              "      <td>...</td>\n",
              "      <td>...</td>\n",
              "      <td>...</td>\n",
              "    </tr>\n",
              "    <tr>\n",
              "      <th>432</th>\n",
              "      <td>433</td>\n",
              "      <td>Museum Mpu Tantular</td>\n",
              "      <td>Museum Negeri Mpu Tantular adalah sebuah museu...</td>\n",
              "      <td>Budaya</td>\n",
              "      <td>Surabaya</td>\n",
              "      <td>2000</td>\n",
              "      <td>4.4</td>\n",
              "      <td>{'lat': -7.4338593, 'lng': 112.7199058}</td>\n",
              "      <td>-7.433859</td>\n",
              "      <td>112.719906</td>\n",
              "    </tr>\n",
              "    <tr>\n",
              "      <th>433</th>\n",
              "      <td>434</td>\n",
              "      <td>Taman Bungkul</td>\n",
              "      <td>Taman Bungkul adalah taman wisata kota yang te...</td>\n",
              "      <td>Taman Hiburan</td>\n",
              "      <td>Surabaya</td>\n",
              "      <td>0</td>\n",
              "      <td>4.6</td>\n",
              "      <td>{'lat': -7.291346799999999, 'lng': 112.7398218}</td>\n",
              "      <td>-7.291347</td>\n",
              "      <td>112.739822</td>\n",
              "    </tr>\n",
              "    <tr>\n",
              "      <th>434</th>\n",
              "      <td>435</td>\n",
              "      <td>Taman Air Mancur Menari Kenjeran</td>\n",
              "      <td>Air mancur menari atau dancing fountain juga a...</td>\n",
              "      <td>Taman Hiburan</td>\n",
              "      <td>Surabaya</td>\n",
              "      <td>0</td>\n",
              "      <td>4.4</td>\n",
              "      <td>{'lat': -7.2752955, 'lng': 112.7549381}</td>\n",
              "      <td>-7.275296</td>\n",
              "      <td>112.754938</td>\n",
              "    </tr>\n",
              "    <tr>\n",
              "      <th>435</th>\n",
              "      <td>436</td>\n",
              "      <td>Taman Flora Bratang Surabaya</td>\n",
              "      <td>Taman Flora adalah salah satu taman kota di Su...</td>\n",
              "      <td>Taman Hiburan</td>\n",
              "      <td>Surabaya</td>\n",
              "      <td>0</td>\n",
              "      <td>4.6</td>\n",
              "      <td>{'lat': -7.294330299999999, 'lng': 112.7617534}</td>\n",
              "      <td>-7.294330</td>\n",
              "      <td>112.761753</td>\n",
              "    </tr>\n",
              "    <tr>\n",
              "      <th>436</th>\n",
              "      <td>437</td>\n",
              "      <td>Gereja Perawan Maria Tak Berdosa Surabaya</td>\n",
              "      <td>Gereja Katolik Kelahiran Santa Perawan Maria m...</td>\n",
              "      <td>Tempat Ibadah</td>\n",
              "      <td>Surabaya</td>\n",
              "      <td>10000</td>\n",
              "      <td>4.8</td>\n",
              "      <td>{'lat': -7.2420758, 'lng': 112.7368158}</td>\n",
              "      <td>-7.242076</td>\n",
              "      <td>112.736816</td>\n",
              "    </tr>\n",
              "  </tbody>\n",
              "</table>\n",
              "<p>437 rows × 10 columns</p>\n",
              "</div>"
            ],
            "text/plain": [
              "     Place_Id                                 Place_Name  ...       Lat        Long\n",
              "0           1                           Monumen Nasional  ... -6.175392  106.827153\n",
              "1           2                                   Kota Tua  ... -6.137645  106.817125\n",
              "2           3                              Dunia Fantasi  ... -6.125312  106.833538\n",
              "3           4          Taman Mini Indonesia Indah (TMII)  ... -6.302446  106.895156\n",
              "4           5                   Atlantis Water Adventure  ... -6.124190  106.839134\n",
              "..        ...                                        ...  ...       ...         ...\n",
              "432       433                        Museum Mpu Tantular  ... -7.433859  112.719906\n",
              "433       434                              Taman Bungkul  ... -7.291347  112.739822\n",
              "434       435           Taman Air Mancur Menari Kenjeran  ... -7.275296  112.754938\n",
              "435       436               Taman Flora Bratang Surabaya  ... -7.294330  112.761753\n",
              "436       437  Gereja Perawan Maria Tak Berdosa Surabaya  ... -7.242076  112.736816\n",
              "\n",
              "[437 rows x 10 columns]"
            ]
          },
          "metadata": {},
          "execution_count": 22
        }
      ]
    },
    {
      "cell_type": "markdown",
      "metadata": {
        "id": "pbEUe3w7_joR"
      },
      "source": [
        "## Content Based Filtering"
      ]
    },
    {
      "cell_type": "markdown",
      "metadata": {
        "id": "-Qb518Lb_V_P"
      },
      "source": [
        "### Data Processing\n",
        "\n",
        "Data akan diproses untuk membuat sistem rekomendasi berdasarkan content.\n",
        "\n",
        "Karena ingin membuat sistem content based filtering, data yang digunakan berasal data rating pengggunka yang akan digabung dengan data detail lokasi wisata. \n",
        "\n",
        "Gabungkan data tourism_rating dengan data tourism_inform"
      ]
    },
    {
      "cell_type": "code",
      "metadata": {
        "colab": {
          "base_uri": "https://localhost:8080/",
          "height": 233
        },
        "id": "wrH23tgsfF_n",
        "outputId": "1e489f81-68b5-4447-8508-9e2c06274b15"
      },
      "source": [
        "rate_tourism = pd.merge(tourism_rating, tourism_inform,\n",
        "                        on='Place_Id', how='left')\n",
        "rate_tourism.head(2)"
      ],
      "execution_count": 23,
      "outputs": [
        {
          "output_type": "execute_result",
          "data": {
            "text/html": [
              "<div>\n",
              "<style scoped>\n",
              "    .dataframe tbody tr th:only-of-type {\n",
              "        vertical-align: middle;\n",
              "    }\n",
              "\n",
              "    .dataframe tbody tr th {\n",
              "        vertical-align: top;\n",
              "    }\n",
              "\n",
              "    .dataframe thead th {\n",
              "        text-align: right;\n",
              "    }\n",
              "</style>\n",
              "<table border=\"1\" class=\"dataframe\">\n",
              "  <thead>\n",
              "    <tr style=\"text-align: right;\">\n",
              "      <th></th>\n",
              "      <th>User_Id</th>\n",
              "      <th>Place_Id</th>\n",
              "      <th>Place_Ratings</th>\n",
              "      <th>Place_Name</th>\n",
              "      <th>Description</th>\n",
              "      <th>Category</th>\n",
              "      <th>City</th>\n",
              "      <th>Price</th>\n",
              "      <th>Rating</th>\n",
              "      <th>Coordinate</th>\n",
              "      <th>Lat</th>\n",
              "      <th>Long</th>\n",
              "    </tr>\n",
              "  </thead>\n",
              "  <tbody>\n",
              "    <tr>\n",
              "      <th>0</th>\n",
              "      <td>1</td>\n",
              "      <td>179</td>\n",
              "      <td>3</td>\n",
              "      <td>Candi Ratu Boko</td>\n",
              "      <td>Situs Ratu Baka atau Candi Boko (Hanacaraka:ꦕꦤ...</td>\n",
              "      <td>Budaya</td>\n",
              "      <td>Yogyakarta</td>\n",
              "      <td>75000</td>\n",
              "      <td>4.6</td>\n",
              "      <td>{'lat': -7.7705416, 'lng': 110.4894158}</td>\n",
              "      <td>-7.770542</td>\n",
              "      <td>110.489416</td>\n",
              "    </tr>\n",
              "    <tr>\n",
              "      <th>1</th>\n",
              "      <td>1</td>\n",
              "      <td>344</td>\n",
              "      <td>2</td>\n",
              "      <td>Pantai Marina</td>\n",
              "      <td>Pantai Marina (bahasa Jawa: ꦥꦱꦶꦱꦶꦂ​ꦩꦫꦶꦤ, trans...</td>\n",
              "      <td>Bahari</td>\n",
              "      <td>Semarang</td>\n",
              "      <td>3000</td>\n",
              "      <td>4.1</td>\n",
              "      <td>{'lat': -6.948877, 'lng': 110.3893285}</td>\n",
              "      <td>-6.948877</td>\n",
              "      <td>110.389328</td>\n",
              "    </tr>\n",
              "  </tbody>\n",
              "</table>\n",
              "</div>"
            ],
            "text/plain": [
              "   User_Id  Place_Id  ...       Lat        Long\n",
              "0        1       179  ... -7.770542  110.489416\n",
              "1        1       344  ... -6.948877  110.389328\n",
              "\n",
              "[2 rows x 12 columns]"
            ]
          },
          "metadata": {},
          "execution_count": 23
        }
      ]
    },
    {
      "cell_type": "markdown",
      "metadata": {
        "id": "BksLQhPzd90H"
      },
      "source": [
        "Data digabungkan berdasarakan kesamaan place ID data awal akan ditaruh di sebelah kiri dan data akhir berada di sebelah kanan.\n",
        "\n",
        "Setelah data digabungkan cek di dalam penggabungan data tersebut, apakah terdaat missing value atau tidak.\n"
      ]
    },
    {
      "cell_type": "code",
      "metadata": {
        "colab": {
          "base_uri": "https://localhost:8080/"
        },
        "id": "3Ft4YWkpgPIq",
        "outputId": "d88d10a4-156c-4f3f-e648-e22d7acc62dd"
      },
      "source": [
        "rate_tourism.isna().values.any()"
      ],
      "execution_count": 24,
      "outputs": [
        {
          "output_type": "execute_result",
          "data": {
            "text/plain": [
              "False"
            ]
          },
          "metadata": {},
          "execution_count": 24
        }
      ]
    },
    {
      "cell_type": "markdown",
      "metadata": {
        "id": "tRPEmQmIK69o"
      },
      "source": [
        "Setelah di cek ternyata tidak ada data yang mengalami missing value\n",
        "\n",
        "Dikarenakan data yang akan digunakan untuk content based filtering hanya \n",
        "\n",
        "data yang terdapat pada dataFrame rating_tourism dan tourism_inform untuk lokasi, nama tempat dan categori tempat wisata, maka data akan digabungkan sesuai dengan yang dibutuhkan berdasarakan place_idnya"
      ]
    },
    {
      "cell_type": "code",
      "metadata": {
        "colab": {
          "base_uri": "https://localhost:8080/",
          "height": 419
        },
        "id": "ENXTkkJOhjYc",
        "outputId": "f6712885-1efb-4aaf-cf24-fb30fd332c16"
      },
      "source": [
        "tourism_spot = pd.merge(tourism_rating, \n",
        "                        tourism_inform[['Place_Id', 'Place_Name',\n",
        "                                        'City', 'Category']])\n",
        "tourism_spot"
      ],
      "execution_count": 25,
      "outputs": [
        {
          "output_type": "execute_result",
          "data": {
            "text/html": [
              "<div>\n",
              "<style scoped>\n",
              "    .dataframe tbody tr th:only-of-type {\n",
              "        vertical-align: middle;\n",
              "    }\n",
              "\n",
              "    .dataframe tbody tr th {\n",
              "        vertical-align: top;\n",
              "    }\n",
              "\n",
              "    .dataframe thead th {\n",
              "        text-align: right;\n",
              "    }\n",
              "</style>\n",
              "<table border=\"1\" class=\"dataframe\">\n",
              "  <thead>\n",
              "    <tr style=\"text-align: right;\">\n",
              "      <th></th>\n",
              "      <th>User_Id</th>\n",
              "      <th>Place_Id</th>\n",
              "      <th>Place_Ratings</th>\n",
              "      <th>Place_Name</th>\n",
              "      <th>City</th>\n",
              "      <th>Category</th>\n",
              "    </tr>\n",
              "  </thead>\n",
              "  <tbody>\n",
              "    <tr>\n",
              "      <th>0</th>\n",
              "      <td>1</td>\n",
              "      <td>179</td>\n",
              "      <td>3</td>\n",
              "      <td>Candi Ratu Boko</td>\n",
              "      <td>Yogyakarta</td>\n",
              "      <td>Budaya</td>\n",
              "    </tr>\n",
              "    <tr>\n",
              "      <th>1</th>\n",
              "      <td>22</td>\n",
              "      <td>179</td>\n",
              "      <td>4</td>\n",
              "      <td>Candi Ratu Boko</td>\n",
              "      <td>Yogyakarta</td>\n",
              "      <td>Budaya</td>\n",
              "    </tr>\n",
              "    <tr>\n",
              "      <th>2</th>\n",
              "      <td>40</td>\n",
              "      <td>179</td>\n",
              "      <td>3</td>\n",
              "      <td>Candi Ratu Boko</td>\n",
              "      <td>Yogyakarta</td>\n",
              "      <td>Budaya</td>\n",
              "    </tr>\n",
              "    <tr>\n",
              "      <th>3</th>\n",
              "      <td>49</td>\n",
              "      <td>179</td>\n",
              "      <td>5</td>\n",
              "      <td>Candi Ratu Boko</td>\n",
              "      <td>Yogyakarta</td>\n",
              "      <td>Budaya</td>\n",
              "    </tr>\n",
              "    <tr>\n",
              "      <th>4</th>\n",
              "      <td>74</td>\n",
              "      <td>179</td>\n",
              "      <td>3</td>\n",
              "      <td>Candi Ratu Boko</td>\n",
              "      <td>Yogyakarta</td>\n",
              "      <td>Budaya</td>\n",
              "    </tr>\n",
              "    <tr>\n",
              "      <th>...</th>\n",
              "      <td>...</td>\n",
              "      <td>...</td>\n",
              "      <td>...</td>\n",
              "      <td>...</td>\n",
              "      <td>...</td>\n",
              "      <td>...</td>\n",
              "    </tr>\n",
              "    <tr>\n",
              "      <th>9995</th>\n",
              "      <td>240</td>\n",
              "      <td>140</td>\n",
              "      <td>3</td>\n",
              "      <td>Bendung Lepen</td>\n",
              "      <td>Yogyakarta</td>\n",
              "      <td>Taman Hiburan</td>\n",
              "    </tr>\n",
              "    <tr>\n",
              "      <th>9996</th>\n",
              "      <td>247</td>\n",
              "      <td>140</td>\n",
              "      <td>4</td>\n",
              "      <td>Bendung Lepen</td>\n",
              "      <td>Yogyakarta</td>\n",
              "      <td>Taman Hiburan</td>\n",
              "    </tr>\n",
              "    <tr>\n",
              "      <th>9997</th>\n",
              "      <td>261</td>\n",
              "      <td>140</td>\n",
              "      <td>4</td>\n",
              "      <td>Bendung Lepen</td>\n",
              "      <td>Yogyakarta</td>\n",
              "      <td>Taman Hiburan</td>\n",
              "    </tr>\n",
              "    <tr>\n",
              "      <th>9998</th>\n",
              "      <td>267</td>\n",
              "      <td>140</td>\n",
              "      <td>3</td>\n",
              "      <td>Bendung Lepen</td>\n",
              "      <td>Yogyakarta</td>\n",
              "      <td>Taman Hiburan</td>\n",
              "    </tr>\n",
              "    <tr>\n",
              "      <th>9999</th>\n",
              "      <td>268</td>\n",
              "      <td>140</td>\n",
              "      <td>2</td>\n",
              "      <td>Bendung Lepen</td>\n",
              "      <td>Yogyakarta</td>\n",
              "      <td>Taman Hiburan</td>\n",
              "    </tr>\n",
              "  </tbody>\n",
              "</table>\n",
              "<p>10000 rows × 6 columns</p>\n",
              "</div>"
            ],
            "text/plain": [
              "      User_Id  Place_Id  ...        City       Category\n",
              "0           1       179  ...  Yogyakarta         Budaya\n",
              "1          22       179  ...  Yogyakarta         Budaya\n",
              "2          40       179  ...  Yogyakarta         Budaya\n",
              "3          49       179  ...  Yogyakarta         Budaya\n",
              "4          74       179  ...  Yogyakarta         Budaya\n",
              "...       ...       ...  ...         ...            ...\n",
              "9995      240       140  ...  Yogyakarta  Taman Hiburan\n",
              "9996      247       140  ...  Yogyakarta  Taman Hiburan\n",
              "9997      261       140  ...  Yogyakarta  Taman Hiburan\n",
              "9998      267       140  ...  Yogyakarta  Taman Hiburan\n",
              "9999      268       140  ...  Yogyakarta  Taman Hiburan\n",
              "\n",
              "[10000 rows x 6 columns]"
            ]
          },
          "metadata": {},
          "execution_count": 25
        }
      ]
    },
    {
      "cell_type": "markdown",
      "metadata": {
        "id": "vm85FH9TgukV"
      },
      "source": [
        "Mengecek Nama kota apa saja yang terdapat dalam dataset kemudian mengurutkan dataset berdasarakan place_Id nya."
      ]
    },
    {
      "cell_type": "code",
      "metadata": {
        "colab": {
          "base_uri": "https://localhost:8080/"
        },
        "id": "toHWlKJOgti1",
        "outputId": "93e9ec29-2f48-49b8-e7e4-7f6d31e9a28f"
      },
      "source": [
        "tourism_spot.City.unique()"
      ],
      "execution_count": 26,
      "outputs": [
        {
          "output_type": "execute_result",
          "data": {
            "text/plain": [
              "array(['Yogyakarta', 'Semarang', 'Jakarta', 'Bandung', 'Surabaya'],\n",
              "      dtype=object)"
            ]
          },
          "metadata": {},
          "execution_count": 26
        }
      ]
    },
    {
      "cell_type": "markdown",
      "metadata": {
        "id": "nIVvbH7zgubw"
      },
      "source": [
        "Data terdiri dari lima kota di Indonesia yaitu Yogyakarta, Semarang, Jakarta, Bandung dan Surabaya\n",
        "\n",
        "data akan disimpan dalam variable data_preparation dan diurutkan berdasarakan Place_Id nya"
      ]
    },
    {
      "cell_type": "code",
      "metadata": {
        "colab": {
          "base_uri": "https://localhost:8080/",
          "height": 504
        },
        "id": "rMpmDOUmjCwt",
        "outputId": "c36ea626-d0e6-4bcf-f17b-862bdc4dc936"
      },
      "source": [
        "data_preparation = tourism_spot\n",
        "data_preparation.sort_values('Place_Id')"
      ],
      "execution_count": 27,
      "outputs": [
        {
          "output_type": "execute_result",
          "data": {
            "text/html": [
              "<div>\n",
              "<style scoped>\n",
              "    .dataframe tbody tr th:only-of-type {\n",
              "        vertical-align: middle;\n",
              "    }\n",
              "\n",
              "    .dataframe tbody tr th {\n",
              "        vertical-align: top;\n",
              "    }\n",
              "\n",
              "    .dataframe thead th {\n",
              "        text-align: right;\n",
              "    }\n",
              "</style>\n",
              "<table border=\"1\" class=\"dataframe\">\n",
              "  <thead>\n",
              "    <tr style=\"text-align: right;\">\n",
              "      <th></th>\n",
              "      <th>User_Id</th>\n",
              "      <th>Place_Id</th>\n",
              "      <th>Place_Ratings</th>\n",
              "      <th>Place_Name</th>\n",
              "      <th>City</th>\n",
              "      <th>Category</th>\n",
              "    </tr>\n",
              "  </thead>\n",
              "  <tbody>\n",
              "    <tr>\n",
              "      <th>9275</th>\n",
              "      <td>36</td>\n",
              "      <td>1</td>\n",
              "      <td>4</td>\n",
              "      <td>Monumen Nasional</td>\n",
              "      <td>Jakarta</td>\n",
              "      <td>Budaya</td>\n",
              "    </tr>\n",
              "    <tr>\n",
              "      <th>9292</th>\n",
              "      <td>265</td>\n",
              "      <td>1</td>\n",
              "      <td>4</td>\n",
              "      <td>Monumen Nasional</td>\n",
              "      <td>Jakarta</td>\n",
              "      <td>Budaya</td>\n",
              "    </tr>\n",
              "    <tr>\n",
              "      <th>9291</th>\n",
              "      <td>254</td>\n",
              "      <td>1</td>\n",
              "      <td>5</td>\n",
              "      <td>Monumen Nasional</td>\n",
              "      <td>Jakarta</td>\n",
              "      <td>Budaya</td>\n",
              "    </tr>\n",
              "    <tr>\n",
              "      <th>9290</th>\n",
              "      <td>235</td>\n",
              "      <td>1</td>\n",
              "      <td>4</td>\n",
              "      <td>Monumen Nasional</td>\n",
              "      <td>Jakarta</td>\n",
              "      <td>Budaya</td>\n",
              "    </tr>\n",
              "    <tr>\n",
              "      <th>9289</th>\n",
              "      <td>227</td>\n",
              "      <td>1</td>\n",
              "      <td>5</td>\n",
              "      <td>Monumen Nasional</td>\n",
              "      <td>Jakarta</td>\n",
              "      <td>Budaya</td>\n",
              "    </tr>\n",
              "    <tr>\n",
              "      <th>...</th>\n",
              "      <td>...</td>\n",
              "      <td>...</td>\n",
              "      <td>...</td>\n",
              "      <td>...</td>\n",
              "      <td>...</td>\n",
              "      <td>...</td>\n",
              "    </tr>\n",
              "    <tr>\n",
              "      <th>1078</th>\n",
              "      <td>234</td>\n",
              "      <td>437</td>\n",
              "      <td>3</td>\n",
              "      <td>Gereja Perawan Maria Tak Berdosa Surabaya</td>\n",
              "      <td>Surabaya</td>\n",
              "      <td>Tempat Ibadah</td>\n",
              "    </tr>\n",
              "    <tr>\n",
              "      <th>1077</th>\n",
              "      <td>222</td>\n",
              "      <td>437</td>\n",
              "      <td>2</td>\n",
              "      <td>Gereja Perawan Maria Tak Berdosa Surabaya</td>\n",
              "      <td>Surabaya</td>\n",
              "      <td>Tempat Ibadah</td>\n",
              "    </tr>\n",
              "    <tr>\n",
              "      <th>1076</th>\n",
              "      <td>217</td>\n",
              "      <td>437</td>\n",
              "      <td>1</td>\n",
              "      <td>Gereja Perawan Maria Tak Berdosa Surabaya</td>\n",
              "      <td>Surabaya</td>\n",
              "      <td>Tempat Ibadah</td>\n",
              "    </tr>\n",
              "    <tr>\n",
              "      <th>1083</th>\n",
              "      <td>270</td>\n",
              "      <td>437</td>\n",
              "      <td>1</td>\n",
              "      <td>Gereja Perawan Maria Tak Berdosa Surabaya</td>\n",
              "      <td>Surabaya</td>\n",
              "      <td>Tempat Ibadah</td>\n",
              "    </tr>\n",
              "    <tr>\n",
              "      <th>1067</th>\n",
              "      <td>129</td>\n",
              "      <td>437</td>\n",
              "      <td>4</td>\n",
              "      <td>Gereja Perawan Maria Tak Berdosa Surabaya</td>\n",
              "      <td>Surabaya</td>\n",
              "      <td>Tempat Ibadah</td>\n",
              "    </tr>\n",
              "  </tbody>\n",
              "</table>\n",
              "<p>10000 rows × 6 columns</p>\n",
              "</div>"
            ],
            "text/plain": [
              "      User_Id  Place_Id  ...      City       Category\n",
              "9275       36         1  ...   Jakarta         Budaya\n",
              "9292      265         1  ...   Jakarta         Budaya\n",
              "9291      254         1  ...   Jakarta         Budaya\n",
              "9290      235         1  ...   Jakarta         Budaya\n",
              "9289      227         1  ...   Jakarta         Budaya\n",
              "...       ...       ...  ...       ...            ...\n",
              "1078      234       437  ...  Surabaya  Tempat Ibadah\n",
              "1077      222       437  ...  Surabaya  Tempat Ibadah\n",
              "1076      217       437  ...  Surabaya  Tempat Ibadah\n",
              "1083      270       437  ...  Surabaya  Tempat Ibadah\n",
              "1067      129       437  ...  Surabaya  Tempat Ibadah\n",
              "\n",
              "[10000 rows x 6 columns]"
            ]
          },
          "metadata": {},
          "execution_count": 27
        }
      ]
    },
    {
      "cell_type": "markdown",
      "metadata": {
        "id": "fBjG4cypguZU"
      },
      "source": [
        "Data yang digunakan adalah data yang bersifat unique sehingga data yang mengalami duplicate akan dihapus"
      ]
    },
    {
      "cell_type": "code",
      "metadata": {
        "colab": {
          "base_uri": "https://localhost:8080/"
        },
        "id": "hL2M5BhkjisS",
        "outputId": "ee0ba30b-d893-42fb-db0e-bdf9cfe5c1ec"
      },
      "source": [
        "#cek data duplicate \n",
        "data_preparation['Place_Id'].duplicated().sum()"
      ],
      "execution_count": 28,
      "outputs": [
        {
          "output_type": "execute_result",
          "data": {
            "text/plain": [
              "9563"
            ]
          },
          "metadata": {},
          "execution_count": 28
        }
      ]
    },
    {
      "cell_type": "code",
      "metadata": {
        "colab": {
          "base_uri": "https://localhost:8080/",
          "height": 504
        },
        "id": "0c9zAK-8jtxn",
        "outputId": "07faf81f-cdf5-44cd-c5c6-cfb5bbca466b"
      },
      "source": [
        "#cek lokasi duplicate\n",
        "data_preparation.loc[(data_preparation.duplicated())]"
      ],
      "execution_count": 29,
      "outputs": [
        {
          "output_type": "execute_result",
          "data": {
            "text/html": [
              "<div>\n",
              "<style scoped>\n",
              "    .dataframe tbody tr th:only-of-type {\n",
              "        vertical-align: middle;\n",
              "    }\n",
              "\n",
              "    .dataframe tbody tr th {\n",
              "        vertical-align: top;\n",
              "    }\n",
              "\n",
              "    .dataframe thead th {\n",
              "        text-align: right;\n",
              "    }\n",
              "</style>\n",
              "<table border=\"1\" class=\"dataframe\">\n",
              "  <thead>\n",
              "    <tr style=\"text-align: right;\">\n",
              "      <th></th>\n",
              "      <th>User_Id</th>\n",
              "      <th>Place_Id</th>\n",
              "      <th>Place_Ratings</th>\n",
              "      <th>Place_Name</th>\n",
              "      <th>City</th>\n",
              "      <th>Category</th>\n",
              "    </tr>\n",
              "  </thead>\n",
              "  <tbody>\n",
              "    <tr>\n",
              "      <th>92</th>\n",
              "      <td>87</td>\n",
              "      <td>373</td>\n",
              "      <td>3</td>\n",
              "      <td>Museum Kereta Ambarawa</td>\n",
              "      <td>Semarang</td>\n",
              "      <td>Budaya</td>\n",
              "    </tr>\n",
              "    <tr>\n",
              "      <th>545</th>\n",
              "      <td>26</td>\n",
              "      <td>15</td>\n",
              "      <td>2</td>\n",
              "      <td>Pasar Seni</td>\n",
              "      <td>Jakarta</td>\n",
              "      <td>Pusat Perbelanjaan</td>\n",
              "    </tr>\n",
              "    <tr>\n",
              "      <th>651</th>\n",
              "      <td>1</td>\n",
              "      <td>328</td>\n",
              "      <td>2</td>\n",
              "      <td>Gua Pawon</td>\n",
              "      <td>Bandung</td>\n",
              "      <td>Cagar Alam</td>\n",
              "    </tr>\n",
              "    <tr>\n",
              "      <th>672</th>\n",
              "      <td>273</td>\n",
              "      <td>328</td>\n",
              "      <td>4</td>\n",
              "      <td>Gua Pawon</td>\n",
              "      <td>Bandung</td>\n",
              "      <td>Cagar Alam</td>\n",
              "    </tr>\n",
              "    <tr>\n",
              "      <th>691</th>\n",
              "      <td>133</td>\n",
              "      <td>307</td>\n",
              "      <td>4</td>\n",
              "      <td>Perkebunan Teh Malabar</td>\n",
              "      <td>Bandung</td>\n",
              "      <td>Cagar Alam</td>\n",
              "    </tr>\n",
              "    <tr>\n",
              "      <th>...</th>\n",
              "      <td>...</td>\n",
              "      <td>...</td>\n",
              "      <td>...</td>\n",
              "      <td>...</td>\n",
              "      <td>...</td>\n",
              "      <td>...</td>\n",
              "    </tr>\n",
              "    <tr>\n",
              "      <th>9535</th>\n",
              "      <td>184</td>\n",
              "      <td>87</td>\n",
              "      <td>4</td>\n",
              "      <td>Sindu Kusuma Edupark (SKE)</td>\n",
              "      <td>Yogyakarta</td>\n",
              "      <td>Taman Hiburan</td>\n",
              "    </tr>\n",
              "    <tr>\n",
              "      <th>9739</th>\n",
              "      <td>235</td>\n",
              "      <td>232</td>\n",
              "      <td>5</td>\n",
              "      <td>Bukit Moko</td>\n",
              "      <td>Bandung</td>\n",
              "      <td>Cagar Alam</td>\n",
              "    </tr>\n",
              "    <tr>\n",
              "      <th>9743</th>\n",
              "      <td>263</td>\n",
              "      <td>232</td>\n",
              "      <td>5</td>\n",
              "      <td>Bukit Moko</td>\n",
              "      <td>Bandung</td>\n",
              "      <td>Cagar Alam</td>\n",
              "    </tr>\n",
              "    <tr>\n",
              "      <th>9938</th>\n",
              "      <td>157</td>\n",
              "      <td>350</td>\n",
              "      <td>3</td>\n",
              "      <td>Pantai Cipta</td>\n",
              "      <td>Semarang</td>\n",
              "      <td>Bahari</td>\n",
              "    </tr>\n",
              "    <tr>\n",
              "      <th>9982</th>\n",
              "      <td>278</td>\n",
              "      <td>7</td>\n",
              "      <td>1</td>\n",
              "      <td>Kebun Binatang Ragunan</td>\n",
              "      <td>Jakarta</td>\n",
              "      <td>Cagar Alam</td>\n",
              "    </tr>\n",
              "  </tbody>\n",
              "</table>\n",
              "<p>79 rows × 6 columns</p>\n",
              "</div>"
            ],
            "text/plain": [
              "      User_Id  Place_Id  ...        City            Category\n",
              "92         87       373  ...    Semarang              Budaya\n",
              "545        26        15  ...     Jakarta  Pusat Perbelanjaan\n",
              "651         1       328  ...     Bandung          Cagar Alam\n",
              "672       273       328  ...     Bandung          Cagar Alam\n",
              "691       133       307  ...     Bandung          Cagar Alam\n",
              "...       ...       ...  ...         ...                 ...\n",
              "9535      184        87  ...  Yogyakarta       Taman Hiburan\n",
              "9739      235       232  ...     Bandung          Cagar Alam\n",
              "9743      263       232  ...     Bandung          Cagar Alam\n",
              "9938      157       350  ...    Semarang              Bahari\n",
              "9982      278         7  ...     Jakarta          Cagar Alam\n",
              "\n",
              "[79 rows x 6 columns]"
            ]
          },
          "metadata": {},
          "execution_count": 29
        }
      ]
    },
    {
      "cell_type": "markdown",
      "metadata": {
        "id": "ulf8R94WguWS"
      },
      "source": [
        "Diketahui bahwa data yang mengalami duplicate sebanyak 9563 maka data akan di drop/hapus berdasarkan nilai yang mengalami duplicated berdasarkan place_Id"
      ]
    },
    {
      "cell_type": "code",
      "metadata": {
        "colab": {
          "base_uri": "https://localhost:8080/",
          "height": 504
        },
        "id": "3QgEibkkkEv2",
        "outputId": "06a0205b-a4bd-4070-f529-90aebe69979b"
      },
      "source": [
        "data_preparation = data_preparation.drop_duplicates('Place_Id')\n",
        "data_preparation"
      ],
      "execution_count": 30,
      "outputs": [
        {
          "output_type": "execute_result",
          "data": {
            "text/html": [
              "<div>\n",
              "<style scoped>\n",
              "    .dataframe tbody tr th:only-of-type {\n",
              "        vertical-align: middle;\n",
              "    }\n",
              "\n",
              "    .dataframe tbody tr th {\n",
              "        vertical-align: top;\n",
              "    }\n",
              "\n",
              "    .dataframe thead th {\n",
              "        text-align: right;\n",
              "    }\n",
              "</style>\n",
              "<table border=\"1\" class=\"dataframe\">\n",
              "  <thead>\n",
              "    <tr style=\"text-align: right;\">\n",
              "      <th></th>\n",
              "      <th>User_Id</th>\n",
              "      <th>Place_Id</th>\n",
              "      <th>Place_Ratings</th>\n",
              "      <th>Place_Name</th>\n",
              "      <th>City</th>\n",
              "      <th>Category</th>\n",
              "    </tr>\n",
              "  </thead>\n",
              "  <tbody>\n",
              "    <tr>\n",
              "      <th>0</th>\n",
              "      <td>1</td>\n",
              "      <td>179</td>\n",
              "      <td>3</td>\n",
              "      <td>Candi Ratu Boko</td>\n",
              "      <td>Yogyakarta</td>\n",
              "      <td>Budaya</td>\n",
              "    </tr>\n",
              "    <tr>\n",
              "      <th>24</th>\n",
              "      <td>1</td>\n",
              "      <td>344</td>\n",
              "      <td>2</td>\n",
              "      <td>Pantai Marina</td>\n",
              "      <td>Semarang</td>\n",
              "      <td>Bahari</td>\n",
              "    </tr>\n",
              "    <tr>\n",
              "      <th>57</th>\n",
              "      <td>1</td>\n",
              "      <td>5</td>\n",
              "      <td>5</td>\n",
              "      <td>Atlantis Water Adventure</td>\n",
              "      <td>Jakarta</td>\n",
              "      <td>Taman Hiburan</td>\n",
              "    </tr>\n",
              "    <tr>\n",
              "      <th>82</th>\n",
              "      <td>1</td>\n",
              "      <td>373</td>\n",
              "      <td>3</td>\n",
              "      <td>Museum Kereta Ambarawa</td>\n",
              "      <td>Semarang</td>\n",
              "      <td>Budaya</td>\n",
              "    </tr>\n",
              "    <tr>\n",
              "      <th>110</th>\n",
              "      <td>1</td>\n",
              "      <td>101</td>\n",
              "      <td>4</td>\n",
              "      <td>Kampung Wisata Sosro Menduran</td>\n",
              "      <td>Yogyakarta</td>\n",
              "      <td>Budaya</td>\n",
              "    </tr>\n",
              "    <tr>\n",
              "      <th>...</th>\n",
              "      <td>...</td>\n",
              "      <td>...</td>\n",
              "      <td>...</td>\n",
              "      <td>...</td>\n",
              "      <td>...</td>\n",
              "      <td>...</td>\n",
              "    </tr>\n",
              "    <tr>\n",
              "      <th>9914</th>\n",
              "      <td>62</td>\n",
              "      <td>370</td>\n",
              "      <td>1</td>\n",
              "      <td>Benteng Pendem</td>\n",
              "      <td>Semarang</td>\n",
              "      <td>Budaya</td>\n",
              "    </tr>\n",
              "    <tr>\n",
              "      <th>9930</th>\n",
              "      <td>74</td>\n",
              "      <td>350</td>\n",
              "      <td>4</td>\n",
              "      <td>Pantai Cipta</td>\n",
              "      <td>Semarang</td>\n",
              "      <td>Bahari</td>\n",
              "    </tr>\n",
              "    <tr>\n",
              "      <th>9948</th>\n",
              "      <td>75</td>\n",
              "      <td>10</td>\n",
              "      <td>2</td>\n",
              "      <td>Pulau Tidung</td>\n",
              "      <td>Jakarta</td>\n",
              "      <td>Bahari</td>\n",
              "    </tr>\n",
              "    <tr>\n",
              "      <th>9962</th>\n",
              "      <td>78</td>\n",
              "      <td>7</td>\n",
              "      <td>4</td>\n",
              "      <td>Kebun Binatang Ragunan</td>\n",
              "      <td>Jakarta</td>\n",
              "      <td>Cagar Alam</td>\n",
              "    </tr>\n",
              "    <tr>\n",
              "      <th>9984</th>\n",
              "      <td>90</td>\n",
              "      <td>140</td>\n",
              "      <td>1</td>\n",
              "      <td>Bendung Lepen</td>\n",
              "      <td>Yogyakarta</td>\n",
              "      <td>Taman Hiburan</td>\n",
              "    </tr>\n",
              "  </tbody>\n",
              "</table>\n",
              "<p>437 rows × 6 columns</p>\n",
              "</div>"
            ],
            "text/plain": [
              "      User_Id  Place_Id  ...        City       Category\n",
              "0           1       179  ...  Yogyakarta         Budaya\n",
              "24          1       344  ...    Semarang         Bahari\n",
              "57          1         5  ...     Jakarta  Taman Hiburan\n",
              "82          1       373  ...    Semarang         Budaya\n",
              "110         1       101  ...  Yogyakarta         Budaya\n",
              "...       ...       ...  ...         ...            ...\n",
              "9914       62       370  ...    Semarang         Budaya\n",
              "9930       74       350  ...    Semarang         Bahari\n",
              "9948       75        10  ...     Jakarta         Bahari\n",
              "9962       78         7  ...     Jakarta     Cagar Alam\n",
              "9984       90       140  ...  Yogyakarta  Taman Hiburan\n",
              "\n",
              "[437 rows x 6 columns]"
            ]
          },
          "metadata": {},
          "execution_count": 30
        }
      ]
    },
    {
      "cell_type": "markdown",
      "metadata": {
        "id": "qKfgRRoKkDlO"
      },
      "source": [
        "Data hanya tersisa 437 kolom\n",
        "\n",
        "Kemudian data akan per column akan dirubah ke dalam per variable data dengan jenis data list.\n",
        "Kemudian data akan dibuat per dictionary"
      ]
    },
    {
      "cell_type": "code",
      "metadata": {
        "colab": {
          "base_uri": "https://localhost:8080/",
          "height": 204
        },
        "id": "_aB6Dx_Akh7A",
        "outputId": "89378aa4-2f4b-4374-9597-13eeae8cd011"
      },
      "source": [
        "id = data_preparation['Place_Id'].tolist()\n",
        "city = data_preparation['City'].tolist()\n",
        "category = data_preparation['Category'].tolist()\n",
        "name = data_preparation['Place_Name'].tolist()\n",
        "\n",
        "# add to directory =\n",
        "data_dict = pd.DataFrame({\n",
        "    'place_id' : id,\n",
        "    'place_name' : name,\n",
        "    'place_city' : city,\n",
        "    'place_category': category\n",
        "})\n",
        "\n",
        "data_dict.head()"
      ],
      "execution_count": 31,
      "outputs": [
        {
          "output_type": "execute_result",
          "data": {
            "text/html": [
              "<div>\n",
              "<style scoped>\n",
              "    .dataframe tbody tr th:only-of-type {\n",
              "        vertical-align: middle;\n",
              "    }\n",
              "\n",
              "    .dataframe tbody tr th {\n",
              "        vertical-align: top;\n",
              "    }\n",
              "\n",
              "    .dataframe thead th {\n",
              "        text-align: right;\n",
              "    }\n",
              "</style>\n",
              "<table border=\"1\" class=\"dataframe\">\n",
              "  <thead>\n",
              "    <tr style=\"text-align: right;\">\n",
              "      <th></th>\n",
              "      <th>place_id</th>\n",
              "      <th>place_name</th>\n",
              "      <th>place_city</th>\n",
              "      <th>place_category</th>\n",
              "    </tr>\n",
              "  </thead>\n",
              "  <tbody>\n",
              "    <tr>\n",
              "      <th>0</th>\n",
              "      <td>179</td>\n",
              "      <td>Candi Ratu Boko</td>\n",
              "      <td>Yogyakarta</td>\n",
              "      <td>Budaya</td>\n",
              "    </tr>\n",
              "    <tr>\n",
              "      <th>1</th>\n",
              "      <td>344</td>\n",
              "      <td>Pantai Marina</td>\n",
              "      <td>Semarang</td>\n",
              "      <td>Bahari</td>\n",
              "    </tr>\n",
              "    <tr>\n",
              "      <th>2</th>\n",
              "      <td>5</td>\n",
              "      <td>Atlantis Water Adventure</td>\n",
              "      <td>Jakarta</td>\n",
              "      <td>Taman Hiburan</td>\n",
              "    </tr>\n",
              "    <tr>\n",
              "      <th>3</th>\n",
              "      <td>373</td>\n",
              "      <td>Museum Kereta Ambarawa</td>\n",
              "      <td>Semarang</td>\n",
              "      <td>Budaya</td>\n",
              "    </tr>\n",
              "    <tr>\n",
              "      <th>4</th>\n",
              "      <td>101</td>\n",
              "      <td>Kampung Wisata Sosro Menduran</td>\n",
              "      <td>Yogyakarta</td>\n",
              "      <td>Budaya</td>\n",
              "    </tr>\n",
              "  </tbody>\n",
              "</table>\n",
              "</div>"
            ],
            "text/plain": [
              "   place_id                     place_name  place_city place_category\n",
              "0       179                Candi Ratu Boko  Yogyakarta         Budaya\n",
              "1       344                  Pantai Marina    Semarang         Bahari\n",
              "2         5       Atlantis Water Adventure     Jakarta  Taman Hiburan\n",
              "3       373         Museum Kereta Ambarawa    Semarang         Budaya\n",
              "4       101  Kampung Wisata Sosro Menduran  Yogyakarta         Budaya"
            ]
          },
          "metadata": {},
          "execution_count": 31
        }
      ]
    },
    {
      "cell_type": "markdown",
      "metadata": {
        "id": "XQCZlAnSRLxp"
      },
      "source": [
        "### TFIDF (Matrix)\n",
        "\n",
        "Untuk melakukan Content Filtering disini menggunakan TfidVectorizer yang berfungsi untuk konveri/merubah raw document menjadi matrix.\n",
        "\n",
        "Data yang akan dirubah menjadi matrix adalah data City/nama Kota"
      ]
    },
    {
      "cell_type": "code",
      "metadata": {
        "colab": {
          "base_uri": "https://localhost:8080/"
        },
        "id": "fk1AZ84YwJui",
        "outputId": "7d91866d-33e4-43ab-e592-073402e76d6e"
      },
      "source": [
        "vector = TfidfVectorizer()\n",
        "vector.fit(data_dict['place_city'])\n",
        "vector.get_feature_names()"
      ],
      "execution_count": 32,
      "outputs": [
        {
          "output_type": "execute_result",
          "data": {
            "text/plain": [
              "['bandung', 'jakarta', 'semarang', 'surabaya', 'yogyakarta']"
            ]
          },
          "metadata": {},
          "execution_count": 32
        }
      ]
    },
    {
      "cell_type": "markdown",
      "metadata": {
        "id": "f_qvolP4guH1"
      },
      "source": [
        "Data City memiliki 5 lokasi/kota yaitu :\n",
        "* bandung\n",
        "* Surabaya\n",
        "* Jakarta \n",
        "* yogyakarta\n",
        "* Semarang\n",
        "\n",
        "`fit` digunakan untuk mempelajari kosakata dari data yang akan digunakan\n",
        "\n",
        "`fit_transform` digunakan untuk mempelajari kosakata dan diubah menjadi IDF yang memberikan nilai berupa matrix\n"
      ]
    },
    {
      "cell_type": "code",
      "metadata": {
        "colab": {
          "base_uri": "https://localhost:8080/"
        },
        "id": "JIkShTuxw0KZ",
        "outputId": "45aa02a1-6637-4c2e-d959-1d1fadd0826a"
      },
      "source": [
        "matrix = vector.fit_transform(data_dict['place_city'])\n",
        "\n",
        "matrix.shape"
      ],
      "execution_count": 33,
      "outputs": [
        {
          "output_type": "execute_result",
          "data": {
            "text/plain": [
              "(437, 5)"
            ]
          },
          "metadata": {},
          "execution_count": 33
        }
      ]
    },
    {
      "cell_type": "markdown",
      "metadata": {
        "id": "e8Yiz128i4BG"
      },
      "source": [
        "Data hasil konversi disimpan dalam variable matrix, data ini memiliki ukuran (437, 5), nilai 5 diambil dari 5 kota(feature yang berada pada place_city)"
      ]
    },
    {
      "cell_type": "markdown",
      "metadata": {
        "id": "UseYJzqlguRk"
      },
      "source": [
        "Data lalu akan dirubah menjadi satu dataFrame, didalam dataframe tersebut data hasil matrix akan dirubah menjadi vektor dengan menggunakan `.todense()` \n",
        "\n",
        "Data akan diambil 5 sample untuk sumbu x dan sumbu y"
      ]
    },
    {
      "cell_type": "code",
      "metadata": {
        "colab": {
          "base_uri": "https://localhost:8080/",
          "height": 252
        },
        "id": "qv_na8b7zzBT",
        "outputId": "1e4e3f98-ce2c-45f5-b94a-4aec9a2f2cad"
      },
      "source": [
        "pd.DataFrame(\n",
        "    matrix.todense(),\n",
        "    columns = vector.get_feature_names(),\n",
        "    index = data_dict.place_name,\n",
        ").sample(5, axis=0).sample(5, axis=1)"
      ],
      "execution_count": 34,
      "outputs": [
        {
          "output_type": "execute_result",
          "data": {
            "text/html": [
              "<div>\n",
              "<style scoped>\n",
              "    .dataframe tbody tr th:only-of-type {\n",
              "        vertical-align: middle;\n",
              "    }\n",
              "\n",
              "    .dataframe tbody tr th {\n",
              "        vertical-align: top;\n",
              "    }\n",
              "\n",
              "    .dataframe thead th {\n",
              "        text-align: right;\n",
              "    }\n",
              "</style>\n",
              "<table border=\"1\" class=\"dataframe\">\n",
              "  <thead>\n",
              "    <tr style=\"text-align: right;\">\n",
              "      <th></th>\n",
              "      <th>semarang</th>\n",
              "      <th>bandung</th>\n",
              "      <th>jakarta</th>\n",
              "      <th>surabaya</th>\n",
              "      <th>yogyakarta</th>\n",
              "    </tr>\n",
              "    <tr>\n",
              "      <th>place_name</th>\n",
              "      <th></th>\n",
              "      <th></th>\n",
              "      <th></th>\n",
              "      <th></th>\n",
              "      <th></th>\n",
              "    </tr>\n",
              "  </thead>\n",
              "  <tbody>\n",
              "    <tr>\n",
              "      <th>Surabaya North Quay</th>\n",
              "      <td>0.0</td>\n",
              "      <td>0.0</td>\n",
              "      <td>0.0</td>\n",
              "      <td>1.0</td>\n",
              "      <td>0.0</td>\n",
              "    </tr>\n",
              "    <tr>\n",
              "      <th>Bumi Perkemahan Batu Kuda</th>\n",
              "      <td>0.0</td>\n",
              "      <td>1.0</td>\n",
              "      <td>0.0</td>\n",
              "      <td>0.0</td>\n",
              "      <td>0.0</td>\n",
              "    </tr>\n",
              "    <tr>\n",
              "      <th>Gereja Katedral Santo Petrus Bandung</th>\n",
              "      <td>0.0</td>\n",
              "      <td>1.0</td>\n",
              "      <td>0.0</td>\n",
              "      <td>0.0</td>\n",
              "      <td>0.0</td>\n",
              "    </tr>\n",
              "    <tr>\n",
              "      <th>Pantai Ancol</th>\n",
              "      <td>0.0</td>\n",
              "      <td>0.0</td>\n",
              "      <td>1.0</td>\n",
              "      <td>0.0</td>\n",
              "      <td>0.0</td>\n",
              "    </tr>\n",
              "    <tr>\n",
              "      <th>Pantai Glagah</th>\n",
              "      <td>0.0</td>\n",
              "      <td>0.0</td>\n",
              "      <td>0.0</td>\n",
              "      <td>0.0</td>\n",
              "      <td>1.0</td>\n",
              "    </tr>\n",
              "  </tbody>\n",
              "</table>\n",
              "</div>"
            ],
            "text/plain": [
              "                                      semarang  bandung  ...  surabaya  yogyakarta\n",
              "place_name                                               ...                      \n",
              "Surabaya North Quay                        0.0      0.0  ...       1.0         0.0\n",
              "Bumi Perkemahan Batu Kuda                  0.0      1.0  ...       0.0         0.0\n",
              "Gereja Katedral Santo Petrus Bandung       0.0      1.0  ...       0.0         0.0\n",
              "Pantai Ancol                               0.0      0.0  ...       0.0         0.0\n",
              "Pantai Glagah                              0.0      0.0  ...       0.0         1.0\n",
              "\n",
              "[5 rows x 5 columns]"
            ]
          },
          "metadata": {},
          "execution_count": 34
        }
      ]
    },
    {
      "cell_type": "markdown",
      "metadata": {
        "id": "8B84igAkjowS"
      },
      "source": [
        "Diketahui bahwa seiap tempat akan berkorelasi dengan city/kota yang ditandai dengan nilai 1.0\n",
        "\n",
        "Contoh Goa Gong memiliki nilai 1.0 pada kota Semarang, jadi Goa Gong terletak di semarang"
      ]
    },
    {
      "cell_type": "markdown",
      "metadata": {
        "id": "MXYB-C47guOz"
      },
      "source": [
        "### Cosine Similarity\n",
        "Berfungsi untuk mengitung kesamaan data antar nama lokasi wisata.\n",
        "Library yang digunakan adalah cosine_similarity\n",
        "\n",
        "\n",
        "\n",
        "\\begin{align}\n",
        "  K(X, Y) = \\frac{<X, Y>}{(||X|| * ||Y||}\n",
        "\\end{align}\n"
      ]
    },
    {
      "cell_type": "code",
      "metadata": {
        "id": "SiF75luh0Fcq"
      },
      "source": [
        "similarity = cosine_similarity(matrix)"
      ],
      "execution_count": 35,
      "outputs": []
    },
    {
      "cell_type": "code",
      "metadata": {
        "colab": {
          "base_uri": "https://localhost:8080/"
        },
        "id": "qToZ22dKDSxV",
        "outputId": "c4df55bf-e5ac-4c7d-b035-8f5dc259c8ac"
      },
      "source": [
        "similarity"
      ],
      "execution_count": 36,
      "outputs": [
        {
          "output_type": "execute_result",
          "data": {
            "text/plain": [
              "array([[1., 0., 0., ..., 0., 0., 1.],\n",
              "       [0., 1., 0., ..., 0., 0., 0.],\n",
              "       [0., 0., 1., ..., 1., 1., 0.],\n",
              "       ...,\n",
              "       [0., 0., 1., ..., 1., 1., 0.],\n",
              "       [0., 0., 1., ..., 1., 1., 0.],\n",
              "       [1., 0., 0., ..., 0., 0., 1.]])"
            ]
          },
          "metadata": {},
          "execution_count": 36
        }
      ]
    },
    {
      "cell_type": "markdown",
      "metadata": {
        "id": "daAmsxphlGwv"
      },
      "source": [
        "Data hasil perhitungan kesaamaan atar fitur akan disimpan dalam variable dataframe. "
      ]
    },
    {
      "cell_type": "code",
      "metadata": {
        "colab": {
          "base_uri": "https://localhost:8080/",
          "height": 337
        },
        "id": "eQrfCFbkDbIA",
        "outputId": "bbad6671-db82-473d-fc14-6ef50e1533d3"
      },
      "source": [
        "similarity_to_df = pd.DataFrame(\n",
        "    similarity,\n",
        "    columns = data_dict.place_name,\n",
        "    index = data_dict.place_name,\n",
        ")\n",
        "print(f'Ukuran dari similarity : {similarity_to_df.shape}')\n",
        "similarity_to_df.sample(5, axis=0).sample(5, axis=1)"
      ],
      "execution_count": 37,
      "outputs": [
        {
          "output_type": "stream",
          "name": "stdout",
          "text": [
            "Ukuran dari similarity : (437, 437)\n"
          ]
        },
        {
          "output_type": "execute_result",
          "data": {
            "text/html": [
              "<div>\n",
              "<style scoped>\n",
              "    .dataframe tbody tr th:only-of-type {\n",
              "        vertical-align: middle;\n",
              "    }\n",
              "\n",
              "    .dataframe tbody tr th {\n",
              "        vertical-align: top;\n",
              "    }\n",
              "\n",
              "    .dataframe thead th {\n",
              "        text-align: right;\n",
              "    }\n",
              "</style>\n",
              "<table border=\"1\" class=\"dataframe\">\n",
              "  <thead>\n",
              "    <tr style=\"text-align: right;\">\n",
              "      <th>place_name</th>\n",
              "      <th>Museum Konferensi Asia Afrika</th>\n",
              "      <th>Taman Keputran</th>\n",
              "      <th>Museum Ullen Sentalu</th>\n",
              "      <th>Candi Prambanan</th>\n",
              "      <th>Sendang Geulis Kahuripan</th>\n",
              "    </tr>\n",
              "    <tr>\n",
              "      <th>place_name</th>\n",
              "      <th></th>\n",
              "      <th></th>\n",
              "      <th></th>\n",
              "      <th></th>\n",
              "      <th></th>\n",
              "    </tr>\n",
              "  </thead>\n",
              "  <tbody>\n",
              "    <tr>\n",
              "      <th>Pulau Pramuka</th>\n",
              "      <td>0.0</td>\n",
              "      <td>0.0</td>\n",
              "      <td>0.0</td>\n",
              "      <td>0.0</td>\n",
              "      <td>0.0</td>\n",
              "    </tr>\n",
              "    <tr>\n",
              "      <th>Durian Gardens and Tourism Education Watu Simbar</th>\n",
              "      <td>0.0</td>\n",
              "      <td>0.0</td>\n",
              "      <td>0.0</td>\n",
              "      <td>0.0</td>\n",
              "      <td>0.0</td>\n",
              "    </tr>\n",
              "    <tr>\n",
              "      <th>Pantai Patihan</th>\n",
              "      <td>0.0</td>\n",
              "      <td>0.0</td>\n",
              "      <td>1.0</td>\n",
              "      <td>1.0</td>\n",
              "      <td>0.0</td>\n",
              "    </tr>\n",
              "    <tr>\n",
              "      <th>Rabbit Town</th>\n",
              "      <td>1.0</td>\n",
              "      <td>0.0</td>\n",
              "      <td>0.0</td>\n",
              "      <td>0.0</td>\n",
              "      <td>1.0</td>\n",
              "    </tr>\n",
              "    <tr>\n",
              "      <th>Taman Begonia</th>\n",
              "      <td>1.0</td>\n",
              "      <td>0.0</td>\n",
              "      <td>0.0</td>\n",
              "      <td>0.0</td>\n",
              "      <td>1.0</td>\n",
              "    </tr>\n",
              "  </tbody>\n",
              "</table>\n",
              "</div>"
            ],
            "text/plain": [
              "place_name                                        Museum Konferensi Asia Afrika  ...  Sendang Geulis Kahuripan\n",
              "place_name                                                                       ...                          \n",
              "Pulau Pramuka                                                               0.0  ...                       0.0\n",
              "Durian Gardens and Tourism Education Watu Simbar                            0.0  ...                       0.0\n",
              "Pantai Patihan                                                              0.0  ...                       0.0\n",
              "Rabbit Town                                                                 1.0  ...                       1.0\n",
              "Taman Begonia                                                               1.0  ...                       1.0\n",
              "\n",
              "[5 rows x 5 columns]"
            ]
          },
          "metadata": {},
          "execution_count": 37
        }
      ]
    },
    {
      "cell_type": "markdown",
      "metadata": {
        "id": "3GnURPSSguL9"
      },
      "source": [
        "Berdasarkan data diatas dikatahui bahwa data Pasar Beringharjo memiliki kesamaan dengan De Mata Museum Jogja, data diatas hanya diambil sample 5 saja"
      ]
    },
    {
      "cell_type": "markdown",
      "metadata": {
        "id": "jRD2Rf1xsYLj"
      },
      "source": [
        "### Modeling"
      ]
    },
    {
      "cell_type": "markdown",
      "metadata": {
        "id": "58D2iP5AlVV9"
      },
      "source": [
        "Membuat sistem rekomendasi berdasarkan kesamaan data yang diambil dari kesamaan kotanya"
      ]
    },
    {
      "cell_type": "code",
      "metadata": {
        "id": "5rstecrcVxFc"
      },
      "source": [
        "def recomended_city_tourism(place_name,\n",
        "                            similarity_name=similarity_to_df,\n",
        "                            items=data_dict[['place_name', 'place_city']], \n",
        "                            n=20):\n",
        "  i = similarity_name.loc[place_name].to_numpy().argpartition(\n",
        "      range(-1, -n, -1)\n",
        "  )\n",
        "  h_index = similarity_name.columns[i[-1:-(n+1):-1]]\n",
        "  h_index = h_index.drop(place_name, errors='ignore')\n",
        "  return pd.DataFrame(h_index).merge(items).head(n)"
      ],
      "execution_count": 38,
      "outputs": []
    },
    {
      "cell_type": "markdown",
      "metadata": {
        "id": "KJJxaep-3ET1"
      },
      "source": [
        "Karena ingin meminta rekomendasi berdasarkan tempat Pulau Pramuka maka ditampilkan terlebih dahulu kriteria dari Pulau Pramuka"
      ]
    },
    {
      "cell_type": "code",
      "metadata": {
        "colab": {
          "base_uri": "https://localhost:8080/",
          "height": 80
        },
        "id": "Fzy4G2sEhIgR",
        "outputId": "278ffd0f-da31-4bc2-bb1c-b8ef6ff4fb12"
      },
      "source": [
        "data_dict[data_dict.place_name.eq('Pulau Pramuka')]"
      ],
      "execution_count": 39,
      "outputs": [
        {
          "output_type": "execute_result",
          "data": {
            "text/html": [
              "<div>\n",
              "<style scoped>\n",
              "    .dataframe tbody tr th:only-of-type {\n",
              "        vertical-align: middle;\n",
              "    }\n",
              "\n",
              "    .dataframe tbody tr th {\n",
              "        vertical-align: top;\n",
              "    }\n",
              "\n",
              "    .dataframe thead th {\n",
              "        text-align: right;\n",
              "    }\n",
              "</style>\n",
              "<table border=\"1\" class=\"dataframe\">\n",
              "  <thead>\n",
              "    <tr style=\"text-align: right;\">\n",
              "      <th></th>\n",
              "      <th>place_id</th>\n",
              "      <th>place_name</th>\n",
              "      <th>place_city</th>\n",
              "      <th>place_category</th>\n",
              "    </tr>\n",
              "  </thead>\n",
              "  <tbody>\n",
              "    <tr>\n",
              "      <th>157</th>\n",
              "      <td>13</td>\n",
              "      <td>Pulau Pramuka</td>\n",
              "      <td>Jakarta</td>\n",
              "      <td>Bahari</td>\n",
              "    </tr>\n",
              "  </tbody>\n",
              "</table>\n",
              "</div>"
            ],
            "text/plain": [
              "     place_id     place_name place_city place_category\n",
              "157        13  Pulau Pramuka    Jakarta         Bahari"
            ]
          },
          "metadata": {},
          "execution_count": 39
        }
      ]
    },
    {
      "cell_type": "markdown",
      "metadata": {
        "id": "aycNXY3_iGEH"
      },
      "source": [
        "Melakukan rekomendasi berdasarkan Pulau Pramuka menggunakan model yang telah di susun berdasarkan kesamaan lokasi/nama kota"
      ]
    },
    {
      "cell_type": "code",
      "metadata": {
        "colab": {
          "base_uri": "https://localhost:8080/",
          "height": 669
        },
        "id": "hkj_nnaWiG7a",
        "outputId": "fcec84da-0e96-434b-a246-34be712efbb9"
      },
      "source": [
        "recomended = recomended_city_tourism('Pulau Pramuka')\n",
        "recomended"
      ],
      "execution_count": 40,
      "outputs": [
        {
          "output_type": "execute_result",
          "data": {
            "text/html": [
              "<div>\n",
              "<style scoped>\n",
              "    .dataframe tbody tr th:only-of-type {\n",
              "        vertical-align: middle;\n",
              "    }\n",
              "\n",
              "    .dataframe tbody tr th {\n",
              "        vertical-align: top;\n",
              "    }\n",
              "\n",
              "    .dataframe thead th {\n",
              "        text-align: right;\n",
              "    }\n",
              "</style>\n",
              "<table border=\"1\" class=\"dataframe\">\n",
              "  <thead>\n",
              "    <tr style=\"text-align: right;\">\n",
              "      <th></th>\n",
              "      <th>place_name</th>\n",
              "      <th>place_city</th>\n",
              "    </tr>\n",
              "  </thead>\n",
              "  <tbody>\n",
              "    <tr>\n",
              "      <th>0</th>\n",
              "      <td>Taman Impian Jaya Ancol</td>\n",
              "      <td>Jakarta</td>\n",
              "    </tr>\n",
              "    <tr>\n",
              "      <th>1</th>\n",
              "      <td>Plaza Indonesia</td>\n",
              "      <td>Jakarta</td>\n",
              "    </tr>\n",
              "    <tr>\n",
              "      <th>2</th>\n",
              "      <td>Sea World</td>\n",
              "      <td>Jakarta</td>\n",
              "    </tr>\n",
              "    <tr>\n",
              "      <th>3</th>\n",
              "      <td>Tugu Proklamasi</td>\n",
              "      <td>Jakarta</td>\n",
              "    </tr>\n",
              "    <tr>\n",
              "      <th>4</th>\n",
              "      <td>Kawasan Kuliner BSM</td>\n",
              "      <td>Jakarta</td>\n",
              "    </tr>\n",
              "    <tr>\n",
              "      <th>5</th>\n",
              "      <td>Pelabuhan Marina</td>\n",
              "      <td>Jakarta</td>\n",
              "    </tr>\n",
              "    <tr>\n",
              "      <th>6</th>\n",
              "      <td>Pasar Taman Puring</td>\n",
              "      <td>Jakarta</td>\n",
              "    </tr>\n",
              "    <tr>\n",
              "      <th>7</th>\n",
              "      <td>Istana Negara Republik Indonesia</td>\n",
              "      <td>Jakarta</td>\n",
              "    </tr>\n",
              "    <tr>\n",
              "      <th>8</th>\n",
              "      <td>Klenteng Jin De Yuan</td>\n",
              "      <td>Jakarta</td>\n",
              "    </tr>\n",
              "    <tr>\n",
              "      <th>9</th>\n",
              "      <td>Pasar Petak Sembilan</td>\n",
              "      <td>Jakarta</td>\n",
              "    </tr>\n",
              "    <tr>\n",
              "      <th>10</th>\n",
              "      <td>Mall Thamrin City</td>\n",
              "      <td>Jakarta</td>\n",
              "    </tr>\n",
              "    <tr>\n",
              "      <th>11</th>\n",
              "      <td>Museum Tengah Kebun</td>\n",
              "      <td>Jakarta</td>\n",
              "    </tr>\n",
              "    <tr>\n",
              "      <th>12</th>\n",
              "      <td>Alive Museum Ancol</td>\n",
              "      <td>Jakarta</td>\n",
              "    </tr>\n",
              "    <tr>\n",
              "      <th>13</th>\n",
              "      <td>Setu Babakan</td>\n",
              "      <td>Jakarta</td>\n",
              "    </tr>\n",
              "    <tr>\n",
              "      <th>14</th>\n",
              "      <td>Pulau Pelangi</td>\n",
              "      <td>Jakarta</td>\n",
              "    </tr>\n",
              "    <tr>\n",
              "      <th>15</th>\n",
              "      <td>Taman Agrowisata Cilangkap</td>\n",
              "      <td>Jakarta</td>\n",
              "    </tr>\n",
              "    <tr>\n",
              "      <th>16</th>\n",
              "      <td>The Escape Hunt</td>\n",
              "      <td>Jakarta</td>\n",
              "    </tr>\n",
              "    <tr>\n",
              "      <th>17</th>\n",
              "      <td>Rumah Sipitung</td>\n",
              "      <td>Jakarta</td>\n",
              "    </tr>\n",
              "    <tr>\n",
              "      <th>18</th>\n",
              "      <td>Taman Suropati</td>\n",
              "      <td>Jakarta</td>\n",
              "    </tr>\n",
              "    <tr>\n",
              "      <th>19</th>\n",
              "      <td>Masjid Istiqlal</td>\n",
              "      <td>Jakarta</td>\n",
              "    </tr>\n",
              "  </tbody>\n",
              "</table>\n",
              "</div>"
            ],
            "text/plain": [
              "                          place_name place_city\n",
              "0            Taman Impian Jaya Ancol    Jakarta\n",
              "1                    Plaza Indonesia    Jakarta\n",
              "2                          Sea World    Jakarta\n",
              "3                    Tugu Proklamasi    Jakarta\n",
              "4                Kawasan Kuliner BSM    Jakarta\n",
              "5                   Pelabuhan Marina    Jakarta\n",
              "6                 Pasar Taman Puring    Jakarta\n",
              "7   Istana Negara Republik Indonesia    Jakarta\n",
              "8               Klenteng Jin De Yuan    Jakarta\n",
              "9               Pasar Petak Sembilan    Jakarta\n",
              "10                 Mall Thamrin City    Jakarta\n",
              "11               Museum Tengah Kebun    Jakarta\n",
              "12                Alive Museum Ancol    Jakarta\n",
              "13                      Setu Babakan    Jakarta\n",
              "14                     Pulau Pelangi    Jakarta\n",
              "15        Taman Agrowisata Cilangkap    Jakarta\n",
              "16                   The Escape Hunt    Jakarta\n",
              "17                    Rumah Sipitung    Jakarta\n",
              "18                    Taman Suropati    Jakarta\n",
              "19                   Masjid Istiqlal    Jakarta"
            ]
          },
          "metadata": {},
          "execution_count": 40
        }
      ]
    },
    {
      "cell_type": "markdown",
      "metadata": {
        "id": "0o2YUWLdjyzv"
      },
      "source": [
        "Karena data yang diseting untuk ditampilkan di dalam model adalah 20 data yang ditampilkan juga berjumlah 20 data tersebut memili nama kota/lokasi yang sama yaitu Jakarta"
      ]
    },
    {
      "cell_type": "markdown",
      "metadata": {
        "id": "fR8IffhxzisD"
      },
      "source": [
        "### Evaluasi Model\n",
        "\n",
        "\\begin{align}\n",
        "  precission = \\frac{recomendation relevant}{sum item recommended}\n",
        "  \\end{align}\n",
        "\n",
        "Diketahui bahwa sistem merekomendasikan 20 tempat yang memiliki nilai berdasarkan kota yang sama, dari 20 item tersebut memiliki nilai kota yang sama yaitu jakarta"
      ]
    },
    {
      "cell_type": "code",
      "metadata": {
        "id": "Qaqhd7FjzjJD",
        "colab": {
          "base_uri": "https://localhost:8080/"
        },
        "outputId": "505beea1-dc77-4372-deb1-665bffff08f8"
      },
      "source": [
        "precision = (len(recomended['place_city'] == 'Jakarta')/len(recomended))*100\n",
        "print(f'precission: {precision} %')"
      ],
      "execution_count": 41,
      "outputs": [
        {
          "output_type": "stream",
          "name": "stdout",
          "text": [
            "precission: 100.0 %\n"
          ]
        }
      ]
    },
    {
      "cell_type": "markdown",
      "metadata": {
        "id": "NhRApWN9CkJX"
      },
      "source": [
        "Diketahui bahwa pecission dari data yang direkomendasikan adalah 100%, sehingga mengindikasikan sistem dapat berjalan dengan baik dikarenakan yang digunakan untuk matrix nya adalah nama kota (hanya ada 5 kategori kota)"
      ]
    },
    {
      "cell_type": "markdown",
      "metadata": {
        "id": "Uh8IN43u_nPv"
      },
      "source": [
        "## Colaborative Filtering"
      ]
    },
    {
      "cell_type": "markdown",
      "metadata": {
        "id": "XhxnLVTK_qLt"
      },
      "source": [
        "### Data Understanding\n",
        "\n",
        "Diketahui bahwa data rating memiliki 10000 row dengan 3 kolom"
      ]
    },
    {
      "cell_type": "code",
      "metadata": {
        "id": "KFoIzhtfBFtG"
      },
      "source": [
        "colaborative_filtering = tourism_rating"
      ],
      "execution_count": 42,
      "outputs": []
    },
    {
      "cell_type": "code",
      "metadata": {
        "id": "QRLtHla4_4it",
        "colab": {
          "base_uri": "https://localhost:8080/",
          "height": 419
        },
        "outputId": "ce65ab69-9686-46b5-f4fe-a0db4310b5cb"
      },
      "source": [
        "colaborative_filtering"
      ],
      "execution_count": 43,
      "outputs": [
        {
          "output_type": "execute_result",
          "data": {
            "text/html": [
              "<div>\n",
              "<style scoped>\n",
              "    .dataframe tbody tr th:only-of-type {\n",
              "        vertical-align: middle;\n",
              "    }\n",
              "\n",
              "    .dataframe tbody tr th {\n",
              "        vertical-align: top;\n",
              "    }\n",
              "\n",
              "    .dataframe thead th {\n",
              "        text-align: right;\n",
              "    }\n",
              "</style>\n",
              "<table border=\"1\" class=\"dataframe\">\n",
              "  <thead>\n",
              "    <tr style=\"text-align: right;\">\n",
              "      <th></th>\n",
              "      <th>User_Id</th>\n",
              "      <th>Place_Id</th>\n",
              "      <th>Place_Ratings</th>\n",
              "    </tr>\n",
              "  </thead>\n",
              "  <tbody>\n",
              "    <tr>\n",
              "      <th>0</th>\n",
              "      <td>1</td>\n",
              "      <td>179</td>\n",
              "      <td>3</td>\n",
              "    </tr>\n",
              "    <tr>\n",
              "      <th>1</th>\n",
              "      <td>1</td>\n",
              "      <td>344</td>\n",
              "      <td>2</td>\n",
              "    </tr>\n",
              "    <tr>\n",
              "      <th>2</th>\n",
              "      <td>1</td>\n",
              "      <td>5</td>\n",
              "      <td>5</td>\n",
              "    </tr>\n",
              "    <tr>\n",
              "      <th>3</th>\n",
              "      <td>1</td>\n",
              "      <td>373</td>\n",
              "      <td>3</td>\n",
              "    </tr>\n",
              "    <tr>\n",
              "      <th>4</th>\n",
              "      <td>1</td>\n",
              "      <td>101</td>\n",
              "      <td>4</td>\n",
              "    </tr>\n",
              "    <tr>\n",
              "      <th>...</th>\n",
              "      <td>...</td>\n",
              "      <td>...</td>\n",
              "      <td>...</td>\n",
              "    </tr>\n",
              "    <tr>\n",
              "      <th>9995</th>\n",
              "      <td>300</td>\n",
              "      <td>425</td>\n",
              "      <td>2</td>\n",
              "    </tr>\n",
              "    <tr>\n",
              "      <th>9996</th>\n",
              "      <td>300</td>\n",
              "      <td>64</td>\n",
              "      <td>4</td>\n",
              "    </tr>\n",
              "    <tr>\n",
              "      <th>9997</th>\n",
              "      <td>300</td>\n",
              "      <td>311</td>\n",
              "      <td>3</td>\n",
              "    </tr>\n",
              "    <tr>\n",
              "      <th>9998</th>\n",
              "      <td>300</td>\n",
              "      <td>279</td>\n",
              "      <td>4</td>\n",
              "    </tr>\n",
              "    <tr>\n",
              "      <th>9999</th>\n",
              "      <td>300</td>\n",
              "      <td>163</td>\n",
              "      <td>2</td>\n",
              "    </tr>\n",
              "  </tbody>\n",
              "</table>\n",
              "<p>10000 rows × 3 columns</p>\n",
              "</div>"
            ],
            "text/plain": [
              "      User_Id  Place_Id  Place_Ratings\n",
              "0           1       179              3\n",
              "1           1       344              2\n",
              "2           1         5              5\n",
              "3           1       373              3\n",
              "4           1       101              4\n",
              "...       ...       ...            ...\n",
              "9995      300       425              2\n",
              "9996      300        64              4\n",
              "9997      300       311              3\n",
              "9998      300       279              4\n",
              "9999      300       163              2\n",
              "\n",
              "[10000 rows x 3 columns]"
            ]
          },
          "metadata": {},
          "execution_count": 43
        }
      ]
    },
    {
      "cell_type": "markdown",
      "metadata": {
        "id": "01OgaGeo_xZt"
      },
      "source": [
        "### Data Preparation\n",
        "Data yang akan digunakan yaitu data user_id dan data place_id data tersebut diambil yang unique kemudian diajadikan list. \n",
        "\n",
        "Selanjutnya dilakukan encode data id tersebut ke dalam uturan angka integer, dikarenakan data user dan place id adalah data interger maka data tersebut dirubah terlebih dahulu menjadi data string \n"
      ]
    },
    {
      "cell_type": "code",
      "metadata": {
        "id": "70XhSSrZpo7j"
      },
      "source": [
        "colaborative_filtering['User_Id'] = colaborative_filtering['User_Id'].astype(np.object)\n",
        "colaborative_filtering['Place_Id'] = colaborative_filtering['Place_Id'].astype(np.object)"
      ],
      "execution_count": 44,
      "outputs": []
    },
    {
      "cell_type": "code",
      "metadata": {
        "colab": {
          "base_uri": "https://localhost:8080/",
          "height": 204
        },
        "id": "MWudfK-UqdTa",
        "outputId": "bfafefcf-9c22-4493-f49e-ac6a01f8c097"
      },
      "source": [
        "colaborative_filtering.head()"
      ],
      "execution_count": 45,
      "outputs": [
        {
          "output_type": "execute_result",
          "data": {
            "text/html": [
              "<div>\n",
              "<style scoped>\n",
              "    .dataframe tbody tr th:only-of-type {\n",
              "        vertical-align: middle;\n",
              "    }\n",
              "\n",
              "    .dataframe tbody tr th {\n",
              "        vertical-align: top;\n",
              "    }\n",
              "\n",
              "    .dataframe thead th {\n",
              "        text-align: right;\n",
              "    }\n",
              "</style>\n",
              "<table border=\"1\" class=\"dataframe\">\n",
              "  <thead>\n",
              "    <tr style=\"text-align: right;\">\n",
              "      <th></th>\n",
              "      <th>User_Id</th>\n",
              "      <th>Place_Id</th>\n",
              "      <th>Place_Ratings</th>\n",
              "    </tr>\n",
              "  </thead>\n",
              "  <tbody>\n",
              "    <tr>\n",
              "      <th>0</th>\n",
              "      <td>1</td>\n",
              "      <td>179</td>\n",
              "      <td>3</td>\n",
              "    </tr>\n",
              "    <tr>\n",
              "      <th>1</th>\n",
              "      <td>1</td>\n",
              "      <td>344</td>\n",
              "      <td>2</td>\n",
              "    </tr>\n",
              "    <tr>\n",
              "      <th>2</th>\n",
              "      <td>1</td>\n",
              "      <td>5</td>\n",
              "      <td>5</td>\n",
              "    </tr>\n",
              "    <tr>\n",
              "      <th>3</th>\n",
              "      <td>1</td>\n",
              "      <td>373</td>\n",
              "      <td>3</td>\n",
              "    </tr>\n",
              "    <tr>\n",
              "      <th>4</th>\n",
              "      <td>1</td>\n",
              "      <td>101</td>\n",
              "      <td>4</td>\n",
              "    </tr>\n",
              "  </tbody>\n",
              "</table>\n",
              "</div>"
            ],
            "text/plain": [
              "  User_Id Place_Id  Place_Ratings\n",
              "0       1      179              3\n",
              "1       1      344              2\n",
              "2       1        5              5\n",
              "3       1      373              3\n",
              "4       1      101              4"
            ]
          },
          "metadata": {},
          "execution_count": 45
        }
      ]
    },
    {
      "cell_type": "code",
      "metadata": {
        "colab": {
          "base_uri": "https://localhost:8080/"
        },
        "id": "2U9TkB0yp0a3",
        "outputId": "272cd465-225a-43f1-e815-0b6ea3824982"
      },
      "source": [
        "colaborative_filtering.info()"
      ],
      "execution_count": 46,
      "outputs": [
        {
          "output_type": "stream",
          "name": "stdout",
          "text": [
            "<class 'pandas.core.frame.DataFrame'>\n",
            "RangeIndex: 10000 entries, 0 to 9999\n",
            "Data columns (total 3 columns):\n",
            " #   Column         Non-Null Count  Dtype \n",
            "---  ------         --------------  ----- \n",
            " 0   User_Id        10000 non-null  object\n",
            " 1   Place_Id       10000 non-null  object\n",
            " 2   Place_Ratings  10000 non-null  int64 \n",
            "dtypes: int64(1), object(2)\n",
            "memory usage: 234.5+ KB\n"
          ]
        }
      ]
    },
    {
      "cell_type": "markdown",
      "metadata": {
        "id": "WcTSb7Pl3YjC"
      },
      "source": [
        "Lalu data user dan place dirubah menjadi list untuk selanjutnya dilakukan encode data tersebut."
      ]
    },
    {
      "cell_type": "code",
      "metadata": {
        "id": "-CtR9FEJ_5gZ"
      },
      "source": [
        "id_user = colaborative_filtering['User_Id'].unique().tolist()\n",
        "id_place = colaborative_filtering['Place_Id'].unique().tolist()\n",
        "\n",
        "\n",
        "user_encode = {user: u for u, user in (enumerate(id_user))}\n",
        "#encode angka ke user\n",
        "encode_user = {u: user for u, user in (enumerate(id_user))}\n",
        "\n",
        "\n",
        "place_encode = {place: p for p, place in enumerate(id_place)}\n",
        "#encioding dari angka ke place\n",
        "encode_place = {p : place for p, place in enumerate(id_place)}"
      ],
      "execution_count": 47,
      "outputs": []
    },
    {
      "cell_type": "code",
      "metadata": {
        "colab": {
          "base_uri": "https://localhost:8080/"
        },
        "id": "gaCwXnF4qKi9",
        "outputId": "fe8614b2-226b-4805-cda4-9c4265bff274"
      },
      "source": [
        "print(user_encode)\n",
        "print(encode_user)\n",
        "print(place_encode)\n",
        "print(encode_place)"
      ],
      "execution_count": 48,
      "outputs": [
        {
          "output_type": "stream",
          "name": "stdout",
          "text": [
            "{1: 0, 2: 1, 3: 2, 4: 3, 5: 4, 6: 5, 7: 6, 8: 7, 9: 8, 10: 9, 11: 10, 12: 11, 13: 12, 14: 13, 15: 14, 16: 15, 17: 16, 18: 17, 19: 18, 20: 19, 21: 20, 22: 21, 23: 22, 24: 23, 25: 24, 26: 25, 27: 26, 28: 27, 29: 28, 30: 29, 31: 30, 32: 31, 33: 32, 34: 33, 35: 34, 36: 35, 37: 36, 38: 37, 39: 38, 40: 39, 41: 40, 42: 41, 43: 42, 44: 43, 45: 44, 46: 45, 47: 46, 48: 47, 49: 48, 50: 49, 51: 50, 52: 51, 53: 52, 54: 53, 55: 54, 56: 55, 57: 56, 58: 57, 59: 58, 60: 59, 61: 60, 62: 61, 63: 62, 64: 63, 65: 64, 66: 65, 67: 66, 68: 67, 69: 68, 70: 69, 71: 70, 72: 71, 73: 72, 74: 73, 75: 74, 76: 75, 77: 76, 78: 77, 79: 78, 80: 79, 81: 80, 82: 81, 83: 82, 84: 83, 85: 84, 86: 85, 87: 86, 88: 87, 89: 88, 90: 89, 91: 90, 92: 91, 93: 92, 94: 93, 95: 94, 96: 95, 97: 96, 98: 97, 99: 98, 100: 99, 101: 100, 102: 101, 103: 102, 104: 103, 105: 104, 106: 105, 107: 106, 108: 107, 109: 108, 110: 109, 111: 110, 112: 111, 113: 112, 114: 113, 115: 114, 116: 115, 117: 116, 118: 117, 119: 118, 120: 119, 121: 120, 122: 121, 123: 122, 124: 123, 125: 124, 126: 125, 127: 126, 128: 127, 129: 128, 130: 129, 131: 130, 132: 131, 133: 132, 134: 133, 135: 134, 136: 135, 137: 136, 138: 137, 139: 138, 140: 139, 141: 140, 142: 141, 143: 142, 144: 143, 145: 144, 146: 145, 147: 146, 148: 147, 149: 148, 150: 149, 151: 150, 152: 151, 153: 152, 154: 153, 155: 154, 156: 155, 157: 156, 158: 157, 159: 158, 160: 159, 161: 160, 162: 161, 163: 162, 164: 163, 165: 164, 166: 165, 167: 166, 168: 167, 169: 168, 170: 169, 171: 170, 172: 171, 173: 172, 174: 173, 175: 174, 176: 175, 177: 176, 178: 177, 179: 178, 180: 179, 181: 180, 182: 181, 183: 182, 184: 183, 185: 184, 186: 185, 187: 186, 188: 187, 189: 188, 190: 189, 191: 190, 192: 191, 193: 192, 194: 193, 195: 194, 196: 195, 197: 196, 198: 197, 199: 198, 200: 199, 201: 200, 202: 201, 203: 202, 204: 203, 205: 204, 206: 205, 207: 206, 208: 207, 209: 208, 210: 209, 211: 210, 212: 211, 213: 212, 214: 213, 215: 214, 216: 215, 217: 216, 218: 217, 219: 218, 220: 219, 221: 220, 222: 221, 223: 222, 224: 223, 225: 224, 226: 225, 227: 226, 228: 227, 229: 228, 230: 229, 231: 230, 232: 231, 233: 232, 234: 233, 235: 234, 236: 235, 237: 236, 238: 237, 239: 238, 240: 239, 241: 240, 242: 241, 243: 242, 244: 243, 245: 244, 246: 245, 247: 246, 248: 247, 249: 248, 250: 249, 251: 250, 252: 251, 253: 252, 254: 253, 255: 254, 256: 255, 257: 256, 258: 257, 259: 258, 260: 259, 261: 260, 262: 261, 263: 262, 264: 263, 265: 264, 266: 265, 267: 266, 268: 267, 269: 268, 270: 269, 271: 270, 272: 271, 273: 272, 274: 273, 275: 274, 276: 275, 277: 276, 278: 277, 279: 278, 280: 279, 281: 280, 282: 281, 283: 282, 284: 283, 285: 284, 286: 285, 287: 286, 288: 287, 289: 288, 290: 289, 291: 290, 292: 291, 293: 292, 294: 293, 295: 294, 296: 295, 297: 296, 298: 297, 299: 298, 300: 299}\n",
            "{0: 1, 1: 2, 2: 3, 3: 4, 4: 5, 5: 6, 6: 7, 7: 8, 8: 9, 9: 10, 10: 11, 11: 12, 12: 13, 13: 14, 14: 15, 15: 16, 16: 17, 17: 18, 18: 19, 19: 20, 20: 21, 21: 22, 22: 23, 23: 24, 24: 25, 25: 26, 26: 27, 27: 28, 28: 29, 29: 30, 30: 31, 31: 32, 32: 33, 33: 34, 34: 35, 35: 36, 36: 37, 37: 38, 38: 39, 39: 40, 40: 41, 41: 42, 42: 43, 43: 44, 44: 45, 45: 46, 46: 47, 47: 48, 48: 49, 49: 50, 50: 51, 51: 52, 52: 53, 53: 54, 54: 55, 55: 56, 56: 57, 57: 58, 58: 59, 59: 60, 60: 61, 61: 62, 62: 63, 63: 64, 64: 65, 65: 66, 66: 67, 67: 68, 68: 69, 69: 70, 70: 71, 71: 72, 72: 73, 73: 74, 74: 75, 75: 76, 76: 77, 77: 78, 78: 79, 79: 80, 80: 81, 81: 82, 82: 83, 83: 84, 84: 85, 85: 86, 86: 87, 87: 88, 88: 89, 89: 90, 90: 91, 91: 92, 92: 93, 93: 94, 94: 95, 95: 96, 96: 97, 97: 98, 98: 99, 99: 100, 100: 101, 101: 102, 102: 103, 103: 104, 104: 105, 105: 106, 106: 107, 107: 108, 108: 109, 109: 110, 110: 111, 111: 112, 112: 113, 113: 114, 114: 115, 115: 116, 116: 117, 117: 118, 118: 119, 119: 120, 120: 121, 121: 122, 122: 123, 123: 124, 124: 125, 125: 126, 126: 127, 127: 128, 128: 129, 129: 130, 130: 131, 131: 132, 132: 133, 133: 134, 134: 135, 135: 136, 136: 137, 137: 138, 138: 139, 139: 140, 140: 141, 141: 142, 142: 143, 143: 144, 144: 145, 145: 146, 146: 147, 147: 148, 148: 149, 149: 150, 150: 151, 151: 152, 152: 153, 153: 154, 154: 155, 155: 156, 156: 157, 157: 158, 158: 159, 159: 160, 160: 161, 161: 162, 162: 163, 163: 164, 164: 165, 165: 166, 166: 167, 167: 168, 168: 169, 169: 170, 170: 171, 171: 172, 172: 173, 173: 174, 174: 175, 175: 176, 176: 177, 177: 178, 178: 179, 179: 180, 180: 181, 181: 182, 182: 183, 183: 184, 184: 185, 185: 186, 186: 187, 187: 188, 188: 189, 189: 190, 190: 191, 191: 192, 192: 193, 193: 194, 194: 195, 195: 196, 196: 197, 197: 198, 198: 199, 199: 200, 200: 201, 201: 202, 202: 203, 203: 204, 204: 205, 205: 206, 206: 207, 207: 208, 208: 209, 209: 210, 210: 211, 211: 212, 212: 213, 213: 214, 214: 215, 215: 216, 216: 217, 217: 218, 218: 219, 219: 220, 220: 221, 221: 222, 222: 223, 223: 224, 224: 225, 225: 226, 226: 227, 227: 228, 228: 229, 229: 230, 230: 231, 231: 232, 232: 233, 233: 234, 234: 235, 235: 236, 236: 237, 237: 238, 238: 239, 239: 240, 240: 241, 241: 242, 242: 243, 243: 244, 244: 245, 245: 246, 246: 247, 247: 248, 248: 249, 249: 250, 250: 251, 251: 252, 252: 253, 253: 254, 254: 255, 255: 256, 256: 257, 257: 258, 258: 259, 259: 260, 260: 261, 261: 262, 262: 263, 263: 264, 264: 265, 265: 266, 266: 267, 267: 268, 268: 269, 269: 270, 270: 271, 271: 272, 272: 273, 273: 274, 274: 275, 275: 276, 276: 277, 277: 278, 278: 279, 279: 280, 280: 281, 281: 282, 282: 283, 283: 284, 284: 285, 285: 286, 286: 287, 287: 288, 288: 289, 289: 290, 290: 291, 291: 292, 292: 293, 293: 294, 294: 295, 295: 296, 296: 297, 297: 298, 298: 299, 299: 300}\n",
            "{179: 0, 344: 1, 5: 2, 373: 3, 101: 4, 312: 5, 258: 6, 20: 7, 154: 8, 393: 9, 103: 10, 208: 11, 89: 12, 405: 13, 41: 14, 336: 15, 67: 16, 292: 17, 222: 18, 76: 19, 428: 20, 15: 21, 246: 22, 265: 23, 21: 24, 328: 25, 307: 26, 302: 27, 48: 28, 147: 29, 2: 30, 322: 31, 23: 32, 85: 33, 371: 34, 78: 35, 111: 36, 107: 37, 185: 38, 413: 39, 389: 40, 437: 41, 105: 42, 176: 43, 407: 44, 281: 45, 167: 46, 384: 47, 426: 48, 390: 49, 367: 50, 166: 51, 18: 52, 321: 53, 262: 54, 223: 55, 17: 56, 319: 57, 310: 58, 421: 59, 202: 60, 283: 61, 250: 62, 118: 63, 54: 64, 70: 65, 33: 66, 227: 67, 86: 68, 249: 69, 131: 70, 382: 71, 193: 72, 104: 73, 24: 74, 128: 75, 134: 76, 228: 77, 237: 78, 100: 79, 198: 80, 50: 81, 376: 82, 268: 83, 242: 84, 82: 85, 348: 86, 409: 87, 88: 88, 4: 89, 377: 90, 43: 91, 91: 92, 44: 93, 14: 94, 406: 95, 383: 96, 229: 97, 290: 98, 294: 99, 309: 100, 74: 101, 97: 102, 138: 103, 436: 104, 395: 105, 300: 106, 68: 107, 55: 108, 434: 109, 9: 110, 151: 111, 61: 112, 159: 113, 397: 114, 391: 115, 301: 116, 143: 117, 27: 118, 190: 119, 346: 120, 381: 121, 368: 122, 433: 123, 420: 124, 335: 125, 115: 126, 334: 127, 219: 128, 178: 129, 266: 130, 92: 131, 64: 132, 102: 133, 257: 134, 243: 135, 116: 136, 359: 137, 121: 138, 385: 139, 398: 140, 119: 141, 298: 142, 410: 143, 224: 144, 379: 145, 255: 146, 269: 147, 213: 148, 126: 149, 192: 150, 183: 151, 129: 152, 303: 153, 296: 154, 99: 155, 148: 156, 13: 157, 247: 158, 31: 159, 77: 160, 158: 161, 306: 162, 98: 163, 235: 164, 45: 165, 173: 166, 275: 167, 25: 168, 130: 169, 164: 170, 267: 171, 56: 172, 30: 173, 238: 174, 402: 175, 196: 176, 417: 177, 304: 178, 206: 179, 211: 180, 28: 181, 264: 182, 403: 183, 253: 184, 331: 185, 188: 186, 416: 187, 378: 188, 233: 189, 95: 190, 204: 191, 225: 192, 341: 193, 145: 194, 36: 195, 168: 196, 12: 197, 280: 198, 236: 199, 42: 200, 90: 201, 75: 202, 63: 203, 205: 204, 234: 205, 284: 206, 230: 207, 197: 208, 339: 209, 35: 210, 226: 211, 430: 212, 37: 213, 109: 214, 355: 215, 186: 216, 149: 217, 6: 218, 150: 219, 11: 220, 127: 221, 429: 222, 194: 223, 49: 224, 369: 225, 94: 226, 274: 227, 72: 228, 46: 229, 65: 230, 203: 231, 139: 232, 141: 233, 71: 234, 52: 235, 293: 236, 422: 237, 214: 238, 114: 239, 191: 240, 156: 241, 177: 242, 163: 243, 142: 244, 245: 245, 325: 246, 259: 247, 396: 248, 96: 249, 8: 250, 362: 251, 435: 252, 59: 253, 171: 254, 277: 255, 342: 256, 365: 257, 340: 258, 260: 259, 187: 260, 297: 261, 207: 262, 248: 263, 153: 264, 239: 265, 360: 266, 170: 267, 357: 268, 73: 269, 201: 270, 252: 271, 414: 272, 132: 273, 26: 274, 347: 275, 270: 276, 16: 277, 19: 278, 318: 279, 256: 280, 181: 281, 199: 282, 288: 283, 330: 284, 3: 285, 47: 286, 32: 287, 308: 288, 210: 289, 279: 290, 289: 291, 332: 292, 80: 293, 375: 294, 182: 295, 412: 296, 272: 297, 184: 298, 113: 299, 399: 300, 261: 301, 112: 302, 327: 303, 418: 304, 84: 305, 400: 306, 195: 307, 34: 308, 295: 309, 38: 310, 165: 311, 212: 312, 124: 313, 432: 314, 317: 315, 333: 316, 81: 317, 374: 318, 136: 319, 278: 320, 108: 321, 404: 322, 83: 323, 425: 324, 22: 325, 349: 326, 411: 327, 241: 328, 427: 329, 209: 330, 323: 331, 137: 332, 315: 333, 62: 334, 244: 335, 135: 336, 169: 337, 366: 338, 152: 339, 29: 340, 60: 341, 240: 342, 200: 343, 161: 344, 66: 345, 372: 346, 338: 347, 311: 348, 53: 349, 392: 350, 299: 351, 386: 352, 337: 353, 326: 354, 423: 355, 352: 356, 172: 357, 286: 358, 251: 359, 162: 360, 356: 361, 93: 362, 160: 363, 125: 364, 316: 365, 123: 366, 174: 367, 221: 368, 408: 369, 263: 370, 358: 371, 353: 372, 401: 373, 364: 374, 215: 375, 110: 376, 144: 377, 40: 378, 291: 379, 431: 380, 120: 381, 216: 382, 313: 383, 157: 384, 282: 385, 231: 386, 324: 387, 329: 388, 345: 389, 39: 390, 273: 391, 122: 392, 79: 393, 388: 394, 380: 395, 343: 396, 254: 397, 117: 398, 133: 399, 1: 400, 354: 401, 287: 402, 155: 403, 285: 404, 58: 405, 69: 406, 305: 407, 218: 408, 220: 409, 189: 410, 106: 411, 87: 412, 351: 413, 363: 414, 175: 415, 180: 416, 415: 417, 387: 418, 394: 419, 424: 420, 146: 421, 232: 422, 314: 423, 320: 424, 276: 425, 217: 426, 57: 427, 51: 428, 361: 429, 419: 430, 271: 431, 370: 432, 350: 433, 10: 434, 7: 435, 140: 436}\n",
            "{0: 179, 1: 344, 2: 5, 3: 373, 4: 101, 5: 312, 6: 258, 7: 20, 8: 154, 9: 393, 10: 103, 11: 208, 12: 89, 13: 405, 14: 41, 15: 336, 16: 67, 17: 292, 18: 222, 19: 76, 20: 428, 21: 15, 22: 246, 23: 265, 24: 21, 25: 328, 26: 307, 27: 302, 28: 48, 29: 147, 30: 2, 31: 322, 32: 23, 33: 85, 34: 371, 35: 78, 36: 111, 37: 107, 38: 185, 39: 413, 40: 389, 41: 437, 42: 105, 43: 176, 44: 407, 45: 281, 46: 167, 47: 384, 48: 426, 49: 390, 50: 367, 51: 166, 52: 18, 53: 321, 54: 262, 55: 223, 56: 17, 57: 319, 58: 310, 59: 421, 60: 202, 61: 283, 62: 250, 63: 118, 64: 54, 65: 70, 66: 33, 67: 227, 68: 86, 69: 249, 70: 131, 71: 382, 72: 193, 73: 104, 74: 24, 75: 128, 76: 134, 77: 228, 78: 237, 79: 100, 80: 198, 81: 50, 82: 376, 83: 268, 84: 242, 85: 82, 86: 348, 87: 409, 88: 88, 89: 4, 90: 377, 91: 43, 92: 91, 93: 44, 94: 14, 95: 406, 96: 383, 97: 229, 98: 290, 99: 294, 100: 309, 101: 74, 102: 97, 103: 138, 104: 436, 105: 395, 106: 300, 107: 68, 108: 55, 109: 434, 110: 9, 111: 151, 112: 61, 113: 159, 114: 397, 115: 391, 116: 301, 117: 143, 118: 27, 119: 190, 120: 346, 121: 381, 122: 368, 123: 433, 124: 420, 125: 335, 126: 115, 127: 334, 128: 219, 129: 178, 130: 266, 131: 92, 132: 64, 133: 102, 134: 257, 135: 243, 136: 116, 137: 359, 138: 121, 139: 385, 140: 398, 141: 119, 142: 298, 143: 410, 144: 224, 145: 379, 146: 255, 147: 269, 148: 213, 149: 126, 150: 192, 151: 183, 152: 129, 153: 303, 154: 296, 155: 99, 156: 148, 157: 13, 158: 247, 159: 31, 160: 77, 161: 158, 162: 306, 163: 98, 164: 235, 165: 45, 166: 173, 167: 275, 168: 25, 169: 130, 170: 164, 171: 267, 172: 56, 173: 30, 174: 238, 175: 402, 176: 196, 177: 417, 178: 304, 179: 206, 180: 211, 181: 28, 182: 264, 183: 403, 184: 253, 185: 331, 186: 188, 187: 416, 188: 378, 189: 233, 190: 95, 191: 204, 192: 225, 193: 341, 194: 145, 195: 36, 196: 168, 197: 12, 198: 280, 199: 236, 200: 42, 201: 90, 202: 75, 203: 63, 204: 205, 205: 234, 206: 284, 207: 230, 208: 197, 209: 339, 210: 35, 211: 226, 212: 430, 213: 37, 214: 109, 215: 355, 216: 186, 217: 149, 218: 6, 219: 150, 220: 11, 221: 127, 222: 429, 223: 194, 224: 49, 225: 369, 226: 94, 227: 274, 228: 72, 229: 46, 230: 65, 231: 203, 232: 139, 233: 141, 234: 71, 235: 52, 236: 293, 237: 422, 238: 214, 239: 114, 240: 191, 241: 156, 242: 177, 243: 163, 244: 142, 245: 245, 246: 325, 247: 259, 248: 396, 249: 96, 250: 8, 251: 362, 252: 435, 253: 59, 254: 171, 255: 277, 256: 342, 257: 365, 258: 340, 259: 260, 260: 187, 261: 297, 262: 207, 263: 248, 264: 153, 265: 239, 266: 360, 267: 170, 268: 357, 269: 73, 270: 201, 271: 252, 272: 414, 273: 132, 274: 26, 275: 347, 276: 270, 277: 16, 278: 19, 279: 318, 280: 256, 281: 181, 282: 199, 283: 288, 284: 330, 285: 3, 286: 47, 287: 32, 288: 308, 289: 210, 290: 279, 291: 289, 292: 332, 293: 80, 294: 375, 295: 182, 296: 412, 297: 272, 298: 184, 299: 113, 300: 399, 301: 261, 302: 112, 303: 327, 304: 418, 305: 84, 306: 400, 307: 195, 308: 34, 309: 295, 310: 38, 311: 165, 312: 212, 313: 124, 314: 432, 315: 317, 316: 333, 317: 81, 318: 374, 319: 136, 320: 278, 321: 108, 322: 404, 323: 83, 324: 425, 325: 22, 326: 349, 327: 411, 328: 241, 329: 427, 330: 209, 331: 323, 332: 137, 333: 315, 334: 62, 335: 244, 336: 135, 337: 169, 338: 366, 339: 152, 340: 29, 341: 60, 342: 240, 343: 200, 344: 161, 345: 66, 346: 372, 347: 338, 348: 311, 349: 53, 350: 392, 351: 299, 352: 386, 353: 337, 354: 326, 355: 423, 356: 352, 357: 172, 358: 286, 359: 251, 360: 162, 361: 356, 362: 93, 363: 160, 364: 125, 365: 316, 366: 123, 367: 174, 368: 221, 369: 408, 370: 263, 371: 358, 372: 353, 373: 401, 374: 364, 375: 215, 376: 110, 377: 144, 378: 40, 379: 291, 380: 431, 381: 120, 382: 216, 383: 313, 384: 157, 385: 282, 386: 231, 387: 324, 388: 329, 389: 345, 390: 39, 391: 273, 392: 122, 393: 79, 394: 388, 395: 380, 396: 343, 397: 254, 398: 117, 399: 133, 400: 1, 401: 354, 402: 287, 403: 155, 404: 285, 405: 58, 406: 69, 407: 305, 408: 218, 409: 220, 410: 189, 411: 106, 412: 87, 413: 351, 414: 363, 415: 175, 416: 180, 417: 415, 418: 387, 419: 394, 420: 424, 421: 146, 422: 232, 423: 314, 424: 320, 425: 276, 426: 217, 427: 57, 428: 51, 429: 361, 430: 419, 431: 271, 432: 370, 433: 350, 434: 10, 435: 7, 436: 140}\n"
          ]
        }
      ]
    },
    {
      "cell_type": "markdown",
      "metadata": {
        "id": "7auXtocrVRd2"
      },
      "source": [
        "data hasil encode akan diambil jumlahnya dengan menggunakan `len`\n",
        "\n",
        "Dilanjutkan dengan mencari nilai min dan max yang berfungsi untuk min max scaler dari place rating (place rating sebagai nilai label yang akan digunakan ketika training data)"
      ]
    },
    {
      "cell_type": "code",
      "metadata": {
        "id": "KYr9H2MhxNlJ"
      },
      "source": [
        "num_u = len(user_encode)\n",
        "num_p = len(place_encode)\n",
        "\n",
        "colaborative_filtering['Place_Ratings'] = colaborative_filtering['Place_Ratings'].values.astype(np.float64)\n",
        "\n",
        "min_r = min(colaborative_filtering['Place_Ratings'])\n",
        "max_r = max(colaborative_filtering['Place_Ratings'])"
      ],
      "execution_count": 49,
      "outputs": []
    },
    {
      "cell_type": "code",
      "metadata": {
        "colab": {
          "base_uri": "https://localhost:8080/"
        },
        "id": "wlRSg9gKYhLQ",
        "outputId": "b74b001f-4d97-4b0c-e9e7-9e1e7858fa75"
      },
      "source": [
        "print(min_r)\n",
        "print(max_r)"
      ],
      "execution_count": 65,
      "outputs": [
        {
          "output_type": "stream",
          "name": "stdout",
          "text": [
            "1.0\n",
            "5.0\n"
          ]
        }
      ]
    },
    {
      "cell_type": "markdown",
      "metadata": {
        "id": "dsdEosACXxte"
      },
      "source": [
        "Nilai max nya adalah 5 dan min 1"
      ]
    },
    {
      "cell_type": "markdown",
      "metadata": {
        "id": "3lbkZ3MByD0W"
      },
      "source": [
        "Data User_Id dan Place_Id yang telah di encode akan ditambahkan di dalam data colaborative filtering(dataframe ratings)"
      ]
    },
    {
      "cell_type": "code",
      "metadata": {
        "id": "0CnUl6U8XfCL"
      },
      "source": [
        "#memasukkan hasil encode ke dalam dataFrame\n",
        "colaborative_filtering['id_user'] =colaborative_filtering['User_Id'].map(user_encode)\n",
        "colaborative_filtering['id_place'] =colaborative_filtering['Place_Id'].map(place_encode)"
      ],
      "execution_count": 51,
      "outputs": []
    },
    {
      "cell_type": "code",
      "metadata": {
        "colab": {
          "base_uri": "https://localhost:8080/",
          "height": 142
        },
        "id": "cEypwB1HYRqH",
        "outputId": "62ff0294-1632-46f0-8b64-b6ba1193d572"
      },
      "source": [
        "colaborative_filtering.head(3)"
      ],
      "execution_count": 52,
      "outputs": [
        {
          "output_type": "execute_result",
          "data": {
            "text/html": [
              "<div>\n",
              "<style scoped>\n",
              "    .dataframe tbody tr th:only-of-type {\n",
              "        vertical-align: middle;\n",
              "    }\n",
              "\n",
              "    .dataframe tbody tr th {\n",
              "        vertical-align: top;\n",
              "    }\n",
              "\n",
              "    .dataframe thead th {\n",
              "        text-align: right;\n",
              "    }\n",
              "</style>\n",
              "<table border=\"1\" class=\"dataframe\">\n",
              "  <thead>\n",
              "    <tr style=\"text-align: right;\">\n",
              "      <th></th>\n",
              "      <th>User_Id</th>\n",
              "      <th>Place_Id</th>\n",
              "      <th>Place_Ratings</th>\n",
              "      <th>id_user</th>\n",
              "      <th>id_place</th>\n",
              "    </tr>\n",
              "  </thead>\n",
              "  <tbody>\n",
              "    <tr>\n",
              "      <th>0</th>\n",
              "      <td>1</td>\n",
              "      <td>179</td>\n",
              "      <td>3.0</td>\n",
              "      <td>0</td>\n",
              "      <td>0</td>\n",
              "    </tr>\n",
              "    <tr>\n",
              "      <th>1</th>\n",
              "      <td>1</td>\n",
              "      <td>344</td>\n",
              "      <td>2.0</td>\n",
              "      <td>0</td>\n",
              "      <td>1</td>\n",
              "    </tr>\n",
              "    <tr>\n",
              "      <th>2</th>\n",
              "      <td>1</td>\n",
              "      <td>5</td>\n",
              "      <td>5.0</td>\n",
              "      <td>0</td>\n",
              "      <td>2</td>\n",
              "    </tr>\n",
              "  </tbody>\n",
              "</table>\n",
              "</div>"
            ],
            "text/plain": [
              "  User_Id Place_Id  Place_Ratings  id_user  id_place\n",
              "0       1      179            3.0        0         0\n",
              "1       1      344            2.0        0         1\n",
              "2       1        5            5.0        0         2"
            ]
          },
          "metadata": {},
          "execution_count": 52
        }
      ]
    },
    {
      "cell_type": "code",
      "metadata": {
        "colab": {
          "base_uri": "https://localhost:8080/"
        },
        "id": "sPXEfdrCkNao",
        "outputId": "05787810-df56-4ff7-d074-cbb914d591a8"
      },
      "source": [
        "colaborative_filtering.info()"
      ],
      "execution_count": 53,
      "outputs": [
        {
          "output_type": "stream",
          "name": "stdout",
          "text": [
            "<class 'pandas.core.frame.DataFrame'>\n",
            "RangeIndex: 10000 entries, 0 to 9999\n",
            "Data columns (total 5 columns):\n",
            " #   Column         Non-Null Count  Dtype  \n",
            "---  ------         --------------  -----  \n",
            " 0   User_Id        10000 non-null  object \n",
            " 1   Place_Id       10000 non-null  object \n",
            " 2   Place_Ratings  10000 non-null  float64\n",
            " 3   id_user        10000 non-null  int64  \n",
            " 4   id_place       10000 non-null  int64  \n",
            "dtypes: float64(1), int64(2), object(2)\n",
            "memory usage: 390.8+ KB\n"
          ]
        }
      ]
    },
    {
      "cell_type": "markdown",
      "metadata": {
        "id": "51-vPmIY_2A0"
      },
      "source": [
        "### Split data Train and Val\n",
        "\n",
        "data akan dipecah menjadi train 80% dan val 20% dengan data yang akan menjadi label dilakukan minmazScaler/normalisasi"
      ]
    },
    {
      "cell_type": "code",
      "metadata": {
        "id": "x3JBBnWT_8xs"
      },
      "source": [
        "user_place = colaborative_filtering[['id_user', 'id_place']].values\n",
        "\n",
        "rating = colaborative_filtering['Place_Ratings'].apply(\n",
        "    lambda u: (u - min_r )/(max_r-min_r)\n",
        ").values\n",
        "\n",
        "train_user, val_user, train_rating, val_rating = train_test_split(user_place, rating,\n",
        "                                                                  test_size=0.2)"
      ],
      "execution_count": 54,
      "outputs": []
    },
    {
      "cell_type": "code",
      "metadata": {
        "colab": {
          "base_uri": "https://localhost:8080/"
        },
        "id": "r9n1XVs4yiAJ",
        "outputId": "3009973d-b29a-4b6a-8e66-c0486b0eb473"
      },
      "source": [
        "print(f'jumlah dari data train {len(train_user)}')\n",
        "print(f'Jumlah dari data validation {len(val_user)}')"
      ],
      "execution_count": 55,
      "outputs": [
        {
          "output_type": "stream",
          "name": "stdout",
          "text": [
            "jumlah dari data train 8000\n",
            "Jumlah dari data validation 2000\n"
          ]
        }
      ]
    },
    {
      "cell_type": "markdown",
      "metadata": {
        "id": "AW2hutN5XeNx"
      },
      "source": [
        "Data train berjumlah 7000 dan data val berjumlah 3000, setelah proses split data"
      ]
    },
    {
      "cell_type": "markdown",
      "metadata": {
        "id": "QCFH0EduAE9s"
      },
      "source": [
        "### Training Model\n",
        "\n",
        "Setelah data berhasil di periapkan dilanjutkan dengan membuat model baru dengan memanfaakan tensorflow berdasarkan proses embeding dari user_id dan place_id, dengan menggunakan perkalian dot product [0, 1] menggunakan sigmoid sebagai aktivasi"
      ]
    },
    {
      "cell_type": "code",
      "metadata": {
        "id": "vWnoP9Z_AIH1"
      },
      "source": [
        "class filtering_based_ratings(tf.keras.Model):\n",
        "  def __init__(self, num_u, num_p, size_e, **place):\n",
        "    super(filtering_based_ratings, self).__init__(**place)\n",
        "    self.num_u = num_u\n",
        "    self.num_p = num_p\n",
        "    self.size_e = size_e\n",
        "    self.user_e = Embedding(\n",
        "        num_u,\n",
        "        size_e,\n",
        "        embeddings_initializer = 'he_normal',\n",
        "        embeddings_regularizer = tf.keras.regularizers.l1(1e-6)\n",
        "    )\n",
        "    self.bias1 = Embedding(num_u, 1)\n",
        "    self.place_e = Embedding(\n",
        "        num_p,\n",
        "        size_e,\n",
        "        embeddings_initializer = 'he_normal',\n",
        "        embeddings_regularizer = tf.keras.regularizers.l1(1e-6)\n",
        "      )\n",
        "    self.bias2 = Embedding(num_p, 1)\n",
        "\n",
        "  def call(self, ins):\n",
        "    u = self.user_e(ins[:, 0])\n",
        "    bias1 = self.bias1(ins[:, 0])\n",
        "    p = self.place_e(ins[:, 1])\n",
        "    bias2 = self.bias2(ins[:, 1])\n",
        "\n",
        "    user = tf.tensordot(u, p, 2)\n",
        "    merge = user + bias1 + bias2\n",
        "\n",
        "    return tf.nn.sigmoid(merge)"
      ],
      "execution_count": 56,
      "outputs": []
    },
    {
      "cell_type": "markdown",
      "metadata": {
        "id": "d97AJqypHDJO"
      },
      "source": [
        "setelah model terbentuk data akan di training menggunkan optimizer ada dengan los binary_crossentropy berdasarakan metrics MAE(Mean Absolute Error)"
      ]
    },
    {
      "cell_type": "code",
      "metadata": {
        "id": "WJXqcppsJi_w"
      },
      "source": [
        "model = filtering_based_ratings(num_u, num_p, 128)\n",
        "model.compile(optimizer = Adam(learning_rate=1e-4),\n",
        "              loss='binary_crossentropy',\n",
        "              metrics=[tf.keras.metrics.MeanAbsoluteError()])"
      ],
      "execution_count": 57,
      "outputs": []
    },
    {
      "cell_type": "markdown",
      "metadata": {
        "id": "ixb3eUuIYqI7"
      },
      "source": [
        "Data di training dengan 10 epoch dan batch_size nya 5 \n",
        "\n",
        "\\begin{align}\n",
        "  \\frac{jumlah data train}{batchsize} = \\frac{7000}{5} = 1400/perepochs\n",
        "\\end{align}"
      ]
    },
    {
      "cell_type": "code",
      "metadata": {
        "colab": {
          "base_uri": "https://localhost:8080/"
        },
        "id": "Bz3x_U0bHCzW",
        "outputId": "c1dd73ec-a7a5-472c-930d-5a1a977decf5"
      },
      "source": [
        "h = model.fit(\n",
        "    x=train_user, \n",
        "    y=train_rating, \n",
        "    batch_size=5,\n",
        "    validation_data=(val_user, val_rating), \n",
        "    epochs=50, verbose=2)"
      ],
      "execution_count": 58,
      "outputs": [
        {
          "output_type": "stream",
          "name": "stdout",
          "text": [
            "Epoch 1/50\n",
            "1600/1600 - 4s - loss: 0.7004 - mean_absolute_error: 0.2973 - val_loss: 0.7026 - val_mean_absolute_error: 0.2941\n",
            "Epoch 2/50\n",
            "1600/1600 - 3s - loss: 0.6978 - mean_absolute_error: 0.2955 - val_loss: 0.7023 - val_mean_absolute_error: 0.2940\n",
            "Epoch 3/50\n",
            "1600/1600 - 3s - loss: 0.6955 - mean_absolute_error: 0.2943 - val_loss: 0.7021 - val_mean_absolute_error: 0.2939\n",
            "Epoch 4/50\n",
            "1600/1600 - 3s - loss: 0.6925 - mean_absolute_error: 0.2928 - val_loss: 0.7020 - val_mean_absolute_error: 0.2938\n",
            "Epoch 5/50\n",
            "1600/1600 - 3s - loss: 0.6902 - mean_absolute_error: 0.2909 - val_loss: 0.7018 - val_mean_absolute_error: 0.2939\n",
            "Epoch 6/50\n",
            "1600/1600 - 3s - loss: 0.6887 - mean_absolute_error: 0.2904 - val_loss: 0.7016 - val_mean_absolute_error: 0.2937\n",
            "Epoch 7/50\n",
            "1600/1600 - 3s - loss: 0.6857 - mean_absolute_error: 0.2889 - val_loss: 0.7016 - val_mean_absolute_error: 0.2937\n",
            "Epoch 8/50\n",
            "1600/1600 - 3s - loss: 0.6832 - mean_absolute_error: 0.2872 - val_loss: 0.7014 - val_mean_absolute_error: 0.2937\n",
            "Epoch 9/50\n",
            "1600/1600 - 3s - loss: 0.6810 - mean_absolute_error: 0.2862 - val_loss: 0.7013 - val_mean_absolute_error: 0.2937\n",
            "Epoch 10/50\n",
            "1600/1600 - 3s - loss: 0.6787 - mean_absolute_error: 0.2846 - val_loss: 0.7014 - val_mean_absolute_error: 0.2940\n",
            "Epoch 11/50\n",
            "1600/1600 - 3s - loss: 0.6768 - mean_absolute_error: 0.2840 - val_loss: 0.7014 - val_mean_absolute_error: 0.2941\n",
            "Epoch 12/50\n",
            "1600/1600 - 3s - loss: 0.6743 - mean_absolute_error: 0.2825 - val_loss: 0.7013 - val_mean_absolute_error: 0.2941\n",
            "Epoch 13/50\n",
            "1600/1600 - 3s - loss: 0.6732 - mean_absolute_error: 0.2818 - val_loss: 0.7013 - val_mean_absolute_error: 0.2943\n",
            "Epoch 14/50\n",
            "1600/1600 - 3s - loss: 0.6716 - mean_absolute_error: 0.2805 - val_loss: 0.7015 - val_mean_absolute_error: 0.2945\n",
            "Epoch 15/50\n",
            "1600/1600 - 3s - loss: 0.6693 - mean_absolute_error: 0.2792 - val_loss: 0.7014 - val_mean_absolute_error: 0.2945\n",
            "Epoch 16/50\n",
            "1600/1600 - 3s - loss: 0.6668 - mean_absolute_error: 0.2776 - val_loss: 0.7014 - val_mean_absolute_error: 0.2946\n",
            "Epoch 17/50\n",
            "1600/1600 - 3s - loss: 0.6649 - mean_absolute_error: 0.2766 - val_loss: 0.7017 - val_mean_absolute_error: 0.2948\n",
            "Epoch 18/50\n",
            "1600/1600 - 3s - loss: 0.6652 - mean_absolute_error: 0.2767 - val_loss: 0.7018 - val_mean_absolute_error: 0.2950\n",
            "Epoch 19/50\n",
            "1600/1600 - 3s - loss: 0.6621 - mean_absolute_error: 0.2741 - val_loss: 0.7018 - val_mean_absolute_error: 0.2951\n",
            "Epoch 20/50\n",
            "1600/1600 - 3s - loss: 0.6630 - mean_absolute_error: 0.2751 - val_loss: 0.7020 - val_mean_absolute_error: 0.2952\n",
            "Epoch 21/50\n",
            "1600/1600 - 3s - loss: 0.6606 - mean_absolute_error: 0.2733 - val_loss: 0.7022 - val_mean_absolute_error: 0.2954\n",
            "Epoch 22/50\n",
            "1600/1600 - 3s - loss: 0.6580 - mean_absolute_error: 0.2716 - val_loss: 0.7025 - val_mean_absolute_error: 0.2956\n",
            "Epoch 23/50\n",
            "1600/1600 - 3s - loss: 0.6551 - mean_absolute_error: 0.2698 - val_loss: 0.7027 - val_mean_absolute_error: 0.2959\n",
            "Epoch 24/50\n",
            "1600/1600 - 3s - loss: 0.6538 - mean_absolute_error: 0.2684 - val_loss: 0.7031 - val_mean_absolute_error: 0.2962\n",
            "Epoch 25/50\n",
            "1600/1600 - 3s - loss: 0.6506 - mean_absolute_error: 0.2658 - val_loss: 0.7033 - val_mean_absolute_error: 0.2964\n",
            "Epoch 26/50\n",
            "1600/1600 - 3s - loss: 0.6541 - mean_absolute_error: 0.2685 - val_loss: 0.7036 - val_mean_absolute_error: 0.2966\n",
            "Epoch 27/50\n",
            "1600/1600 - 3s - loss: 0.6512 - mean_absolute_error: 0.2662 - val_loss: 0.7039 - val_mean_absolute_error: 0.2968\n",
            "Epoch 28/50\n",
            "1600/1600 - 3s - loss: 0.6508 - mean_absolute_error: 0.2648 - val_loss: 0.7041 - val_mean_absolute_error: 0.2970\n",
            "Epoch 29/50\n",
            "1600/1600 - 4s - loss: 0.6487 - mean_absolute_error: 0.2635 - val_loss: 0.7045 - val_mean_absolute_error: 0.2972\n",
            "Epoch 30/50\n",
            "1600/1600 - 3s - loss: 0.6476 - mean_absolute_error: 0.2629 - val_loss: 0.7048 - val_mean_absolute_error: 0.2975\n",
            "Epoch 31/50\n",
            "1600/1600 - 3s - loss: 0.6473 - mean_absolute_error: 0.2624 - val_loss: 0.7051 - val_mean_absolute_error: 0.2976\n",
            "Epoch 32/50\n",
            "1600/1600 - 3s - loss: 0.6445 - mean_absolute_error: 0.2601 - val_loss: 0.7054 - val_mean_absolute_error: 0.2978\n",
            "Epoch 33/50\n",
            "1600/1600 - 3s - loss: 0.6461 - mean_absolute_error: 0.2608 - val_loss: 0.7056 - val_mean_absolute_error: 0.2980\n",
            "Epoch 34/50\n",
            "1600/1600 - 3s - loss: 0.6454 - mean_absolute_error: 0.2605 - val_loss: 0.7060 - val_mean_absolute_error: 0.2981\n",
            "Epoch 35/50\n",
            "1600/1600 - 3s - loss: 0.6412 - mean_absolute_error: 0.2576 - val_loss: 0.7060 - val_mean_absolute_error: 0.2981\n",
            "Epoch 36/50\n",
            "1600/1600 - 3s - loss: 0.6443 - mean_absolute_error: 0.2603 - val_loss: 0.7063 - val_mean_absolute_error: 0.2982\n",
            "Epoch 37/50\n",
            "1600/1600 - 3s - loss: 0.6441 - mean_absolute_error: 0.2597 - val_loss: 0.7067 - val_mean_absolute_error: 0.2984\n",
            "Epoch 38/50\n",
            "1600/1600 - 3s - loss: 0.6409 - mean_absolute_error: 0.2565 - val_loss: 0.7072 - val_mean_absolute_error: 0.2987\n",
            "Epoch 39/50\n",
            "1600/1600 - 3s - loss: 0.6413 - mean_absolute_error: 0.2572 - val_loss: 0.7073 - val_mean_absolute_error: 0.2989\n",
            "Epoch 40/50\n",
            "1600/1600 - 3s - loss: 0.6398 - mean_absolute_error: 0.2553 - val_loss: 0.7075 - val_mean_absolute_error: 0.2989\n",
            "Epoch 41/50\n",
            "1600/1600 - 3s - loss: 0.6399 - mean_absolute_error: 0.2554 - val_loss: 0.7074 - val_mean_absolute_error: 0.2988\n",
            "Epoch 42/50\n",
            "1600/1600 - 3s - loss: 0.6420 - mean_absolute_error: 0.2570 - val_loss: 0.7075 - val_mean_absolute_error: 0.2989\n",
            "Epoch 43/50\n",
            "1600/1600 - 3s - loss: 0.6411 - mean_absolute_error: 0.2564 - val_loss: 0.7076 - val_mean_absolute_error: 0.2990\n",
            "Epoch 44/50\n",
            "1600/1600 - 3s - loss: 0.6399 - mean_absolute_error: 0.2555 - val_loss: 0.7081 - val_mean_absolute_error: 0.2992\n",
            "Epoch 45/50\n",
            "1600/1600 - 3s - loss: 0.6397 - mean_absolute_error: 0.2558 - val_loss: 0.7083 - val_mean_absolute_error: 0.2994\n",
            "Epoch 46/50\n",
            "1600/1600 - 3s - loss: 0.6369 - mean_absolute_error: 0.2528 - val_loss: 0.7086 - val_mean_absolute_error: 0.2995\n",
            "Epoch 47/50\n",
            "1600/1600 - 3s - loss: 0.6379 - mean_absolute_error: 0.2534 - val_loss: 0.7086 - val_mean_absolute_error: 0.2995\n",
            "Epoch 48/50\n",
            "1600/1600 - 3s - loss: 0.6350 - mean_absolute_error: 0.2513 - val_loss: 0.7089 - val_mean_absolute_error: 0.2996\n",
            "Epoch 49/50\n",
            "1600/1600 - 3s - loss: 0.6376 - mean_absolute_error: 0.2534 - val_loss: 0.7091 - val_mean_absolute_error: 0.2998\n",
            "Epoch 50/50\n",
            "1600/1600 - 3s - loss: 0.6368 - mean_absolute_error: 0.2522 - val_loss: 0.7093 - val_mean_absolute_error: 0.2999\n"
          ]
        }
      ]
    },
    {
      "cell_type": "markdown",
      "metadata": {
        "id": "0-Jkw_5M1WKn"
      },
      "source": [
        "Didapatkan nilai mae terendah adalah 0.2514 (25%) yang berarti nilai mae masih terlalu tinggi sehingga bisa berakibat data yang akan direkomendasikan kurang sesuai dengan nilai loss yang masih tinggi"
      ]
    },
    {
      "cell_type": "markdown",
      "metadata": {
        "id": "ruRh7rIfAHlo"
      },
      "source": [
        "#### Ploting Model"
      ]
    },
    {
      "cell_type": "code",
      "metadata": {
        "id": "gYMpSsfS_9at",
        "colab": {
          "base_uri": "https://localhost:8080/",
          "height": 265
        },
        "outputId": "946a1b0a-11b2-4f14-98e3-6d2bde56a859"
      },
      "source": [
        "train = h.history['mean_absolute_error']\n",
        "val = h.history['val_mean_absolute_error']\n",
        "\n",
        "e = range(len(train))\n",
        "\n",
        "plt.plot(e, train, label='training')\n",
        "plt.plot(e, val, label=\"validations\")\n",
        "plt.legend()\n",
        "plt.show()"
      ],
      "execution_count": 59,
      "outputs": [
        {
          "output_type": "display_data",
          "data": {
            "image/png": "[encoded data removed]",
            "text/plain": [
              "<Figure size 432x288 with 1 Axes>"
            ]
          },
          "metadata": {
            "needs_background": "light"
          }
        }
      ]
    },
    {
      "cell_type": "markdown",
      "metadata": {
        "id": "T_naaboP2eRk"
      },
      "source": [
        "### Evaluasi Model\n",
        "\n",
        "Evaluasi dilakukan untuk mengetahui bagaimana tingkat error data sehingga bisa mengetau bagaimana performa dari data. Evaluasi menggunakan metrics MSE. \n",
        "\n",
        "\\begin{align}\n",
        "        \\text{MAE } = (&\\sum_{i=0}^n \\mid y_i -y_i\\mid) /n\n",
        "    \\end{align}"
      ]
    },
    {
      "cell_type": "code",
      "metadata": {
        "id": "5jY0Wl9W2jAC",
        "colab": {
          "base_uri": "https://localhost:8080/"
        },
        "outputId": "232bc3b3-874f-4278-b451-113e247644b9"
      },
      "source": [
        "ypred = model.predict(val_user)\n",
        "mae = mean_absolute_error(val_rating, ypred)\n",
        "print(mae)"
      ],
      "execution_count": 60,
      "outputs": [
        {
          "output_type": "stream",
          "name": "stdout",
          "text": [
            "0.3130909373164177\n"
          ]
        }
      ]
    },
    {
      "cell_type": "markdown",
      "metadata": {
        "id": "WB9Y6MNAUOvX"
      },
      "source": [
        "nilai mae yang di dapatkan tidak terlalu tinggi sehingga data ini cocok untuk digunakan dalam sistem rekomendasi, tetapi mae dengan nilai 31% terbilang cukup tinggi sehingga bisa mengakibatkan overfitting data"
      ]
    },
    {
      "cell_type": "markdown",
      "metadata": {
        "id": "-DSqf23AANiG"
      },
      "source": [
        "### System Rekomendation from user\n",
        "\n",
        "data yang digunakan untuk proses ini diambil dari data yang sudah disimpan dalam directory pada proses data processing pada teknik content based learning\n",
        "\n"
      ]
    },
    {
      "cell_type": "code",
      "metadata": {
        "colab": {
          "base_uri": "https://localhost:8080/",
          "height": 142
        },
        "id": "FwWqFIclag47",
        "outputId": "f9e9fdcb-d5a6-4a1a-a608-595d44c3f7ca"
      },
      "source": [
        "place = data_dict\n",
        "\n",
        "rate = pd.read_csv('/content/destination_tourism/tourism_rating.csv')\n",
        "place.head(3)"
      ],
      "execution_count": 61,
      "outputs": [
        {
          "output_type": "execute_result",
          "data": {
            "text/html": [
              "<div>\n",
              "<style scoped>\n",
              "    .dataframe tbody tr th:only-of-type {\n",
              "        vertical-align: middle;\n",
              "    }\n",
              "\n",
              "    .dataframe tbody tr th {\n",
              "        vertical-align: top;\n",
              "    }\n",
              "\n",
              "    .dataframe thead th {\n",
              "        text-align: right;\n",
              "    }\n",
              "</style>\n",
              "<table border=\"1\" class=\"dataframe\">\n",
              "  <thead>\n",
              "    <tr style=\"text-align: right;\">\n",
              "      <th></th>\n",
              "      <th>place_id</th>\n",
              "      <th>place_name</th>\n",
              "      <th>place_city</th>\n",
              "      <th>place_category</th>\n",
              "    </tr>\n",
              "  </thead>\n",
              "  <tbody>\n",
              "    <tr>\n",
              "      <th>0</th>\n",
              "      <td>179</td>\n",
              "      <td>Candi Ratu Boko</td>\n",
              "      <td>Yogyakarta</td>\n",
              "      <td>Budaya</td>\n",
              "    </tr>\n",
              "    <tr>\n",
              "      <th>1</th>\n",
              "      <td>344</td>\n",
              "      <td>Pantai Marina</td>\n",
              "      <td>Semarang</td>\n",
              "      <td>Bahari</td>\n",
              "    </tr>\n",
              "    <tr>\n",
              "      <th>2</th>\n",
              "      <td>5</td>\n",
              "      <td>Atlantis Water Adventure</td>\n",
              "      <td>Jakarta</td>\n",
              "      <td>Taman Hiburan</td>\n",
              "    </tr>\n",
              "  </tbody>\n",
              "</table>\n",
              "</div>"
            ],
            "text/plain": [
              "   place_id                place_name  place_city place_category\n",
              "0       179           Candi Ratu Boko  Yogyakarta         Budaya\n",
              "1       344             Pantai Marina    Semarang         Bahari\n",
              "2         5  Atlantis Water Adventure     Jakarta  Taman Hiburan"
            ]
          },
          "metadata": {},
          "execution_count": 61
        }
      ]
    },
    {
      "cell_type": "markdown",
      "metadata": {
        "id": "uKDSkvgvF7Ej"
      },
      "source": [
        "Data akan diambil sampel 1 data yang digunakan diambil dari data nomer 2, lalu data tersebut nantinya id nya akan dibandingkan id user sehingga bisa meghasikan rekomendasi tempat wisata,\n",
        "\n",
        "Data tersebut nantinya akan dibagi menjadi lokasi yang pernah dikunjungi dan lokasi yang tidak pernah dikunjungi sebelumnya."
      ]
    },
    {
      "cell_type": "code",
      "metadata": {
        "id": "-HYskuo9YGaD",
        "colab": {
          "base_uri": "https://localhost:8080/"
        },
        "outputId": "3e9acb65-911b-401b-e3e2-4bc944ea0846"
      },
      "source": [
        "#user = input(\"Masukkan user id \")\n",
        "user = rate.User_Id.sample(2).iloc[0]\n",
        "print(user)\n",
        "place_visited = rate[rate.User_Id == user]\n",
        "\n",
        "place_not = place[~place['place_id'].isin(place_visited.Place_Id.values)]['place_id']\n",
        "place_not = list(\n",
        "    set(place_not)\n",
        "    .intersection(set(encode_place.keys()))\n",
        ")\n",
        "place_not = [[place_encode.get(a)] for a in place_not]\n",
        "user_recomm = user_encode.get(user)\n",
        "user_array = np.hstack(([[user_recomm]] * len(place_not), place_not))"
      ],
      "execution_count": 62,
      "outputs": [
        {
          "output_type": "stream",
          "name": "stdout",
          "text": [
            "284\n"
          ]
        }
      ]
    },
    {
      "cell_type": "markdown",
      "metadata": {
        "id": "crDdGDeOGYHD"
      },
      "source": [
        "Dilihat bahwa id yang diambil adalah 284 id tersebut melakukan penilaian ke beberapa tempat dengan nilai rating yang berbeda-beda"
      ]
    },
    {
      "cell_type": "code",
      "metadata": {
        "colab": {
          "base_uri": "https://localhost:8080/",
          "height": 886
        },
        "id": "vBspPrwgwODi",
        "outputId": "6f8ac5ba-1db0-4d79-cd40-885d53298b8c"
      },
      "source": [
        "place_visited"
      ],
      "execution_count": 63,
      "outputs": [
        {
          "output_type": "execute_result",
          "data": {
            "text/html": [
              "<div>\n",
              "<style scoped>\n",
              "    .dataframe tbody tr th:only-of-type {\n",
              "        vertical-align: middle;\n",
              "    }\n",
              "\n",
              "    .dataframe tbody tr th {\n",
              "        vertical-align: top;\n",
              "    }\n",
              "\n",
              "    .dataframe thead th {\n",
              "        text-align: right;\n",
              "    }\n",
              "</style>\n",
              "<table border=\"1\" class=\"dataframe\">\n",
              "  <thead>\n",
              "    <tr style=\"text-align: right;\">\n",
              "      <th></th>\n",
              "      <th>User_Id</th>\n",
              "      <th>Place_Id</th>\n",
              "      <th>Place_Ratings</th>\n",
              "    </tr>\n",
              "  </thead>\n",
              "  <tbody>\n",
              "    <tr>\n",
              "      <th>9426</th>\n",
              "      <td>284</td>\n",
              "      <td>59</td>\n",
              "      <td>1</td>\n",
              "    </tr>\n",
              "    <tr>\n",
              "      <th>9427</th>\n",
              "      <td>284</td>\n",
              "      <td>94</td>\n",
              "      <td>2</td>\n",
              "    </tr>\n",
              "    <tr>\n",
              "      <th>9428</th>\n",
              "      <td>284</td>\n",
              "      <td>437</td>\n",
              "      <td>1</td>\n",
              "    </tr>\n",
              "    <tr>\n",
              "      <th>9429</th>\n",
              "      <td>284</td>\n",
              "      <td>436</td>\n",
              "      <td>1</td>\n",
              "    </tr>\n",
              "    <tr>\n",
              "      <th>9430</th>\n",
              "      <td>284</td>\n",
              "      <td>134</td>\n",
              "      <td>4</td>\n",
              "    </tr>\n",
              "    <tr>\n",
              "      <th>9431</th>\n",
              "      <td>284</td>\n",
              "      <td>360</td>\n",
              "      <td>3</td>\n",
              "    </tr>\n",
              "    <tr>\n",
              "      <th>9432</th>\n",
              "      <td>284</td>\n",
              "      <td>410</td>\n",
              "      <td>2</td>\n",
              "    </tr>\n",
              "    <tr>\n",
              "      <th>9433</th>\n",
              "      <td>284</td>\n",
              "      <td>166</td>\n",
              "      <td>2</td>\n",
              "    </tr>\n",
              "    <tr>\n",
              "      <th>9434</th>\n",
              "      <td>284</td>\n",
              "      <td>158</td>\n",
              "      <td>4</td>\n",
              "    </tr>\n",
              "    <tr>\n",
              "      <th>9435</th>\n",
              "      <td>284</td>\n",
              "      <td>273</td>\n",
              "      <td>3</td>\n",
              "    </tr>\n",
              "    <tr>\n",
              "      <th>9436</th>\n",
              "      <td>284</td>\n",
              "      <td>437</td>\n",
              "      <td>5</td>\n",
              "    </tr>\n",
              "    <tr>\n",
              "      <th>9437</th>\n",
              "      <td>284</td>\n",
              "      <td>121</td>\n",
              "      <td>5</td>\n",
              "    </tr>\n",
              "    <tr>\n",
              "      <th>9438</th>\n",
              "      <td>284</td>\n",
              "      <td>383</td>\n",
              "      <td>1</td>\n",
              "    </tr>\n",
              "    <tr>\n",
              "      <th>9439</th>\n",
              "      <td>284</td>\n",
              "      <td>219</td>\n",
              "      <td>2</td>\n",
              "    </tr>\n",
              "    <tr>\n",
              "      <th>9440</th>\n",
              "      <td>284</td>\n",
              "      <td>154</td>\n",
              "      <td>4</td>\n",
              "    </tr>\n",
              "    <tr>\n",
              "      <th>9441</th>\n",
              "      <td>284</td>\n",
              "      <td>188</td>\n",
              "      <td>5</td>\n",
              "    </tr>\n",
              "    <tr>\n",
              "      <th>9442</th>\n",
              "      <td>284</td>\n",
              "      <td>153</td>\n",
              "      <td>2</td>\n",
              "    </tr>\n",
              "    <tr>\n",
              "      <th>9443</th>\n",
              "      <td>284</td>\n",
              "      <td>410</td>\n",
              "      <td>1</td>\n",
              "    </tr>\n",
              "    <tr>\n",
              "      <th>9444</th>\n",
              "      <td>284</td>\n",
              "      <td>345</td>\n",
              "      <td>5</td>\n",
              "    </tr>\n",
              "    <tr>\n",
              "      <th>9445</th>\n",
              "      <td>284</td>\n",
              "      <td>149</td>\n",
              "      <td>2</td>\n",
              "    </tr>\n",
              "    <tr>\n",
              "      <th>9446</th>\n",
              "      <td>284</td>\n",
              "      <td>285</td>\n",
              "      <td>3</td>\n",
              "    </tr>\n",
              "    <tr>\n",
              "      <th>9447</th>\n",
              "      <td>284</td>\n",
              "      <td>110</td>\n",
              "      <td>2</td>\n",
              "    </tr>\n",
              "    <tr>\n",
              "      <th>9448</th>\n",
              "      <td>284</td>\n",
              "      <td>265</td>\n",
              "      <td>3</td>\n",
              "    </tr>\n",
              "    <tr>\n",
              "      <th>9449</th>\n",
              "      <td>284</td>\n",
              "      <td>411</td>\n",
              "      <td>5</td>\n",
              "    </tr>\n",
              "    <tr>\n",
              "      <th>9450</th>\n",
              "      <td>284</td>\n",
              "      <td>424</td>\n",
              "      <td>2</td>\n",
              "    </tr>\n",
              "    <tr>\n",
              "      <th>9451</th>\n",
              "      <td>284</td>\n",
              "      <td>244</td>\n",
              "      <td>1</td>\n",
              "    </tr>\n",
              "    <tr>\n",
              "      <th>9452</th>\n",
              "      <td>284</td>\n",
              "      <td>78</td>\n",
              "      <td>5</td>\n",
              "    </tr>\n",
              "  </tbody>\n",
              "</table>\n",
              "</div>"
            ],
            "text/plain": [
              "      User_Id  Place_Id  Place_Ratings\n",
              "9426      284        59              1\n",
              "9427      284        94              2\n",
              "9428      284       437              1\n",
              "9429      284       436              1\n",
              "9430      284       134              4\n",
              "9431      284       360              3\n",
              "9432      284       410              2\n",
              "9433      284       166              2\n",
              "9434      284       158              4\n",
              "9435      284       273              3\n",
              "9436      284       437              5\n",
              "9437      284       121              5\n",
              "9438      284       383              1\n",
              "9439      284       219              2\n",
              "9440      284       154              4\n",
              "9441      284       188              5\n",
              "9442      284       153              2\n",
              "9443      284       410              1\n",
              "9444      284       345              5\n",
              "9445      284       149              2\n",
              "9446      284       285              3\n",
              "9447      284       110              2\n",
              "9448      284       265              3\n",
              "9449      284       411              5\n",
              "9450      284       424              2\n",
              "9451      284       244              1\n",
              "9452      284        78              5"
            ]
          },
          "metadata": {},
          "execution_count": 63
        }
      ]
    },
    {
      "cell_type": "code",
      "metadata": {
        "id": "MVX7nekEckAt",
        "colab": {
          "base_uri": "https://localhost:8080/"
        },
        "outputId": "1e5865d4-99cd-4422-9b1a-b5bd3ddbebcd"
      },
      "source": [
        "predict = model.predict(user_array).flatten()\n",
        "\n",
        "top_rate = predict.argsort()[-5:][::-1]\n",
        "recomended_place = [\n",
        "                    place_encode.get(place_not[a][0]) for a in top_rate\n",
        "]\n",
        "\n",
        "print(f' Rekomendasi dari user ber id : {user}')\n",
        "\n",
        "print('---' * 10)\n",
        "print(\"rekomendasi user dengan nilai rating tertinggi \")\n",
        "\n",
        "top_place = (\n",
        "    place_visited.sort_values(by= 'Place_Ratings')\n",
        ").head(1).Place_Id.values\n",
        "\n",
        "top_row = place[place['place_id'].isin(top_place)]\n",
        "for r in top_row.itertuples():\n",
        "  print(r.place_name, ':', r.place_city)\n",
        "\n",
        "print('----' * 10)\n",
        "\n",
        "recomended_top_rating = place[place['place_id'].isin(recomended_place)]\n",
        "for r in recomended_top_rating.itertuples():\n",
        "  print(r.place_name, ':', r.place_city)"
      ],
      "execution_count": 64,
      "outputs": [
        {
          "output_type": "stream",
          "name": "stdout",
          "text": [
            " Rekomendasi dari user ber id : 284\n",
            "------------------------------\n",
            "rekomendasi user dengan nilai rating tertinggi \n",
            "Museum Sumpah Pemuda : Jakarta\n",
            "----------------------------------------\n",
            "Gunung Lalakon : Bandung\n",
            "Taman Pelangi Yogyakarta : Yogyakarta\n",
            "The Lost World Castle : Yogyakarta\n",
            "Saung Angklung Mang Udjo : Bandung\n",
            "Taman Mundu : Surabaya\n"
          ]
        }
      ]
    },
    {
      "cell_type": "markdown",
      "metadata": {
        "id": "9TVRbXnuFoxU"
      },
      "source": [
        "karena sistem rekomendasi yang sudah di setting dengan hanya menampilkan 5 data saja maka data rekomendasi hanya 5 data diambil berdasarkan rating tertinggi dari user terhadap tempat-tempat wisata tersebut"
      ]
    }
  ]
}